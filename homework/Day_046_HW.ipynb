{
 "cells": [
  {
   "cell_type": "markdown",
   "metadata": {},
   "source": [
    "### 作業\n",
    "目前已經學過許多的模型，相信大家對整體流程應該比較掌握了，這次作業請改用**手寫辨識資料集**，步驟流程都是一樣的，請試著自己撰寫程式碼來完成所有步驟"
   ]
  },
  {
   "cell_type": "code",
   "execution_count": 1,
   "metadata": {},
   "outputs": [],
   "source": [
    "from sklearn import datasets, metrics\n",
    "from sklearn.ensemble import GradientBoostingClassifier \n",
    "from sklearn.model_selection import train_test_split\n",
    "digits = datasets.load_digits()\n",
    "\n",
    "#Classes: 10 (arbic number 0~9)\n",
    "#Samples per class: ~180\n",
    "#Samples total: 1797\n",
    "#Dimensionality: 64 (8x8 image)\n",
    "#Features: integers 0-16"
   ]
  },
  {
   "cell_type": "code",
   "execution_count": 2,
   "metadata": {},
   "outputs": [],
   "source": [
    "x_test, x_train, y_test, y_train = train_test_split(digits.data, digits.target, test_size = 0.5, random_state=4)"
   ]
  },
  {
   "cell_type": "code",
   "execution_count": 3,
   "metadata": {},
   "outputs": [
    {
     "data": {
      "text/plain": [
       "GradientBoostingClassifier(criterion='friedman_mse', init=None,\n",
       "                           learning_rate=0.1, loss='deviance', max_depth=3,\n",
       "                           max_features=None, max_leaf_nodes=None,\n",
       "                           min_impurity_decrease=0.0, min_impurity_split=None,\n",
       "                           min_samples_leaf=1, min_samples_split=2,\n",
       "                           min_weight_fraction_leaf=0.0, n_estimators=100,\n",
       "                           n_iter_no_change=None, presort='auto',\n",
       "                           random_state=None, subsample=1.0, tol=0.0001,\n",
       "                           validation_fraction=0.1, verbose=0,\n",
       "                           warm_start=False)"
      ]
     },
     "execution_count": 3,
     "metadata": {},
     "output_type": "execute_result"
    }
   ],
   "source": [
    "clfGB = GradientBoostingClassifier()\n",
    "clfGB.fit(x_train, y_train)"
   ]
  },
  {
   "cell_type": "code",
   "execution_count": 4,
   "metadata": {},
   "outputs": [],
   "source": [
    "y_pred = clfGB.predict(x_test)"
   ]
  },
  {
   "cell_type": "code",
   "execution_count": 5,
   "metadata": {},
   "outputs": [],
   "source": [
    "accuracy = metrics.accuracy_score(y_test, y_pred)"
   ]
  },
  {
   "cell_type": "code",
   "execution_count": 6,
   "metadata": {},
   "outputs": [
    {
     "name": "stdout",
     "output_type": "stream",
     "text": [
      "0.9487750556792873\n"
     ]
    }
   ],
   "source": [
    "print(accuracy)"
   ]
  },
  {
   "cell_type": "code",
   "execution_count": 10,
   "metadata": {},
   "outputs": [
    {
     "name": "stdout",
     "output_type": "stream",
     "text": [
      "[DecisionTreeRegressor(criterion='friedman_mse', max_depth=3, max_features=None,\n",
      "                      max_leaf_nodes=None, min_impurity_decrease=0.0,\n",
      "                      min_impurity_split=None, min_samples_leaf=1,\n",
      "                      min_samples_split=2, min_weight_fraction_leaf=0.0,\n",
      "                      presort='auto',\n",
      "                      random_state=<mtrand.RandomState object at 0x000001DC5BAFCE58>,\n",
      "                      splitter='best')\n",
      " DecisionTreeRegressor(criterion='friedman_mse', max_depth=3, max_features=None,\n",
      "                      max_leaf_nodes=None, min_impurity_decrease=0.0,\n",
      "                      min_impurity_split=None, min_samples_leaf=1,\n",
      "                      min_samples_split=2, min_weight_fraction_leaf=0.0,\n",
      "                      presort='auto',\n",
      "                      random_state=<mtrand.RandomState object at 0x000001DC5BAFCE58>,\n",
      "                      splitter='best')\n",
      " DecisionTreeRegressor(criterion='friedman_mse', max_depth=3, max_features=None,\n",
      "                      max_leaf_nodes=None, min_impurity_decrease=0.0,\n",
      "                      min_impurity_split=None, min_samples_leaf=1,\n",
      "                      min_samples_split=2, min_weight_fraction_leaf=0.0,\n",
      "                      presort='auto',\n",
      "                      random_state=<mtrand.RandomState object at 0x000001DC5BAFCE58>,\n",
      "                      splitter='best')\n",
      " DecisionTreeRegressor(criterion='friedman_mse', max_depth=3, max_features=None,\n",
      "                      max_leaf_nodes=None, min_impurity_decrease=0.0,\n",
      "                      min_impurity_split=None, min_samples_leaf=1,\n",
      "                      min_samples_split=2, min_weight_fraction_leaf=0.0,\n",
      "                      presort='auto',\n",
      "                      random_state=<mtrand.RandomState object at 0x000001DC5BAFCE58>,\n",
      "                      splitter='best')\n",
      " DecisionTreeRegressor(criterion='friedman_mse', max_depth=3, max_features=None,\n",
      "                      max_leaf_nodes=None, min_impurity_decrease=0.0,\n",
      "                      min_impurity_split=None, min_samples_leaf=1,\n",
      "                      min_samples_split=2, min_weight_fraction_leaf=0.0,\n",
      "                      presort='auto',\n",
      "                      random_state=<mtrand.RandomState object at 0x000001DC5BAFCE58>,\n",
      "                      splitter='best')\n",
      " DecisionTreeRegressor(criterion='friedman_mse', max_depth=3, max_features=None,\n",
      "                      max_leaf_nodes=None, min_impurity_decrease=0.0,\n",
      "                      min_impurity_split=None, min_samples_leaf=1,\n",
      "                      min_samples_split=2, min_weight_fraction_leaf=0.0,\n",
      "                      presort='auto',\n",
      "                      random_state=<mtrand.RandomState object at 0x000001DC5BAFCE58>,\n",
      "                      splitter='best')\n",
      " DecisionTreeRegressor(criterion='friedman_mse', max_depth=3, max_features=None,\n",
      "                      max_leaf_nodes=None, min_impurity_decrease=0.0,\n",
      "                      min_impurity_split=None, min_samples_leaf=1,\n",
      "                      min_samples_split=2, min_weight_fraction_leaf=0.0,\n",
      "                      presort='auto',\n",
      "                      random_state=<mtrand.RandomState object at 0x000001DC5BAFCE58>,\n",
      "                      splitter='best')\n",
      " DecisionTreeRegressor(criterion='friedman_mse', max_depth=3, max_features=None,\n",
      "                      max_leaf_nodes=None, min_impurity_decrease=0.0,\n",
      "                      min_impurity_split=None, min_samples_leaf=1,\n",
      "                      min_samples_split=2, min_weight_fraction_leaf=0.0,\n",
      "                      presort='auto',\n",
      "                      random_state=<mtrand.RandomState object at 0x000001DC5BAFCE58>,\n",
      "                      splitter='best')\n",
      " DecisionTreeRegressor(criterion='friedman_mse', max_depth=3, max_features=None,\n",
      "                      max_leaf_nodes=None, min_impurity_decrease=0.0,\n",
      "                      min_impurity_split=None, min_samples_leaf=1,\n",
      "                      min_samples_split=2, min_weight_fraction_leaf=0.0,\n",
      "                      presort='auto',\n",
      "                      random_state=<mtrand.RandomState object at 0x000001DC5BAFCE58>,\n",
      "                      splitter='best')\n",
      " DecisionTreeRegressor(criterion='friedman_mse', max_depth=3, max_features=None,\n",
      "                      max_leaf_nodes=None, min_impurity_decrease=0.0,\n",
      "                      min_impurity_split=None, min_samples_leaf=1,\n",
      "                      min_samples_split=2, min_weight_fraction_leaf=0.0,\n",
      "                      presort='auto',\n",
      "                      random_state=<mtrand.RandomState object at 0x000001DC5BAFCE58>,\n",
      "                      splitter='best')]\n"
     ]
    }
   ],
   "source": [
    "from sklearn import tree\n",
    "print(clfGB.estimators_[5]) "
   ]
  },
  {
   "cell_type": "code",
   "execution_count": 14,
   "metadata": {},
   "outputs": [
    {
     "name": "stdout",
     "output_type": "stream",
     "text": [
      "DecisionTreeRegressor(criterion='friedman_mse', max_depth=3, max_features=None,\n",
      "                      max_leaf_nodes=None, min_impurity_decrease=0.0,\n",
      "                      min_impurity_split=None, min_samples_leaf=1,\n",
      "                      min_samples_split=2, min_weight_fraction_leaf=0.0,\n",
      "                      presort='auto',\n",
      "                      random_state=<mtrand.RandomState object at 0x000001DC5BAFCE58>,\n",
      "                      splitter='best')\n"
     ]
    }
   ],
   "source": [
    "print(clfGB.estimators_[5][1]) "
   ]
  },
  {
   "cell_type": "code",
   "execution_count": 15,
   "metadata": {},
   "outputs": [
    {
     "data": {
      "text/plain": [
       "[Text(167.4, 190.26, 'X[19] <= 15.5\\nfriedman_mse = 0.036\\nsamples = 899\\nvalue = 0.001'),\n",
       " Text(83.7, 135.9, 'X[10] <= 0.5\\nfriedman_mse = 0.019\\nsamples = 791\\nvalue = -0.029'),\n",
       " Text(41.85, 81.53999999999999, 'X[38] <= 0.5\\nfriedman_mse = 0.115\\nsamples = 54\\nvalue = 0.18'),\n",
       " Text(20.925, 27.180000000000007, 'friedman_mse = 0.075\\nsamples = 26\\nvalue = 1.959'),\n",
       " Text(62.775000000000006, 27.180000000000007, 'friedman_mse = 0.046\\nsamples = 28\\nvalue = -0.473'),\n",
       " Text(125.55000000000001, 81.53999999999999, 'X[19] <= 13.5\\nfriedman_mse = 0.008\\nsamples = 737\\nvalue = -0.045'),\n",
       " Text(104.625, 27.180000000000007, 'friedman_mse = 0.003\\nsamples = 688\\nvalue = -0.902'),\n",
       " Text(146.475, 27.180000000000007, 'friedman_mse = 0.082\\nsamples = 49\\nvalue = 0.445'),\n",
       " Text(251.10000000000002, 135.9, 'X[46] <= 0.5\\nfriedman_mse = 0.108\\nsamples = 108\\nvalue = 0.223'),\n",
       " Text(209.25, 81.53999999999999, 'X[27] <= 14.5\\nfriedman_mse = 0.105\\nsamples = 68\\nvalue = 0.374'),\n",
       " Text(188.32500000000002, 27.180000000000007, 'friedman_mse = 0.161\\nsamples = 16\\nvalue = 0.482'),\n",
       " Text(230.175, 27.180000000000007, 'friedman_mse = 0.061\\nsamples = 52\\nvalue = 1.733'),\n",
       " Text(292.95, 81.53999999999999, 'X[27] <= 4.5\\nfriedman_mse = 0.009\\nsamples = 40\\nvalue = -0.035'),\n",
       " Text(272.02500000000003, 27.180000000000007, 'friedman_mse = 0.0\\nsamples = 1\\nvalue = 2.001'),\n",
       " Text(313.875, 27.180000000000007, 'friedman_mse = 0.0\\nsamples = 39\\nvalue = -0.951')]"
      ]
     },
     "execution_count": 15,
     "metadata": {},
     "output_type": "execute_result"
    },
    {
     "data": {
      "image/png": "[encoded data removed]",
      "text/plain": [
       "<Figure size 432x288 with 1 Axes>"
      ]
     },
     "metadata": {
      "needs_background": "light"
     },
     "output_type": "display_data"
    }
   ],
   "source": [
    "tree.plot_tree(clfGB.estimators_[5][1])"
   ]
  },
  {
   "cell_type": "code",
   "execution_count": 20,
   "metadata": {},
   "outputs": [
    {
     "data": {
      "text/plain": [
       "[Text(125.55000000000001, 190.26, 'X[27] <= 15.5\\nfriedman_mse = 0.0\\nsamples = 899\\nvalue = 0.0'),\n",
       " Text(83.7, 135.9, 'friedman_mse = 0.0\\nsamples = 719\\nvalue = -0.175'),\n",
       " Text(167.4, 135.9, 'X[43] <= 14.5\\nfriedman_mse = 0.0\\nsamples = 180\\nvalue = 0.0'),\n",
       " Text(83.7, 81.53999999999999, 'X[63] <= 1.0\\nfriedman_mse = 0.0\\nsamples = 135\\nvalue = 0.0'),\n",
       " Text(41.85, 27.180000000000007, 'friedman_mse = 0.0\\nsamples = 124\\nvalue = -0.248'),\n",
       " Text(125.55000000000001, 27.180000000000007, 'friedman_mse = 0.0\\nsamples = 11\\nvalue = 0.901'),\n",
       " Text(251.10000000000002, 81.53999999999999, 'X[18] <= 11.5\\nfriedman_mse = 0.0\\nsamples = 45\\nvalue = 0.0'),\n",
       " Text(209.25, 27.180000000000007, 'friedman_mse = 0.0\\nsamples = 37\\nvalue = 0.501'),\n",
       " Text(292.95, 27.180000000000007, 'friedman_mse = 0.0\\nsamples = 8\\nvalue = 0.901')]"
      ]
     },
     "execution_count": 20,
     "metadata": {},
     "output_type": "execute_result"
    },
    {
     "data": {
      "image/png": "[encoded data removed]",
      "text/plain": [
       "<Figure size 432x288 with 1 Axes>"
      ]
     },
     "metadata": {
      "needs_background": "light"
     },
     "output_type": "display_data"
    }
   ],
   "source": [
    "tree.plot_tree(clfGB.estimators_[97][1])"
   ]
  },
  {
   "cell_type": "code",
   "execution_count": null,
   "metadata": {},
   "outputs": [],
   "source": []
  }
 ],
 "metadata": {
  "kernelspec": {
   "display_name": "Python 3",
   "language": "python",
   "name": "python3"
  },
  "language_info": {
   "codemirror_mode": {
    "name": "ipython",
    "version": 3
   },
   "file_extension": ".py",
   "mimetype": "text/x-python",
   "name": "python",
   "nbconvert_exporter": "python",
   "pygments_lexer": "ipython3",
   "version": "3.7.4"
  }
 },
 "nbformat": 4,
 "nbformat_minor": 2
}
