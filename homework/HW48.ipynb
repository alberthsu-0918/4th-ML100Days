{
 "cells": [
  {
   "cell_type": "code",
   "execution_count": 36,
   "metadata": {},
   "outputs": [],
   "source": [
    "import pandas as pd\n",
    "import numpy as np\n",
    "from sklearn.preprocessing import MinMaxScaler\n",
    "from sklearn.model_selection import cross_val_score, train_test_split\n",
    "from sklearn.ensemble import GradientBoostingClassifier\n",
    "from sklearn import metrics\n",
    "import os\n",
    "\n",
    "data_path = r'C:\\Users\\AlbertHsu\\Documents\\GitHub\\4th-ML100Days\\homework\\Data\\data_science_london_scikit_learn'\n",
    "df_path1 = os.path.join(data_path, 'train.csv')\n",
    "dfx = pd.read_csv(df_path1,header=None)\n",
    "df_path2 = os.path.join(data_path, 'trainLabels.csv')\n",
    "dfy = pd.read_csv(df_path2,header=None)\n",
    "df_path3 = os.path.join(data_path, 'test.csv')\n",
    "dftest = pd.read_csv(df_path3,header=None)"
   ]
  },
  {
   "cell_type": "code",
   "execution_count": 37,
   "metadata": {},
   "outputs": [
    {
     "name": "stdout",
     "output_type": "stream",
     "text": [
      "           0         1         2         3          4         5         6   \\\n",
      "0    0.299403 -1.226624  1.498425 -1.176150   5.289853  0.208297  2.404498   \n",
      "1   -1.174176  0.332157  0.949919 -1.285328   2.199061 -0.151268 -0.427039   \n",
      "2    1.192222 -0.414371  0.067054 -2.233568   3.658881  0.089007  0.203439   \n",
      "3    1.573270 -0.580318 -0.866332 -0.603812   3.125716  0.870321 -0.161992   \n",
      "4   -0.613071 -0.644204  1.112558 -0.032397   3.490142 -0.011935  1.443521   \n",
      "..        ...       ...       ...       ...        ...       ...       ...   \n",
      "995 -0.310429  0.826811 -0.952245  0.768850   1.877520  1.320646  1.944609   \n",
      "996 -1.853879  0.246726  0.459921 -2.074267   7.599220 -0.138355 -4.501900   \n",
      "997  0.912748 -1.734039 -1.047035  0.217573  13.457812  0.162771 -2.250521   \n",
      "998  2.439780 -0.735511 -0.902426  1.365036 -10.430299 -0.856859  2.686474   \n",
      "999  0.228994 -0.085453  0.876582  1.057401  -1.404015 -1.091965  0.639176   \n",
      "\n",
      "           7         8         9   ...        30        31        32  \\\n",
      "0    1.594506 -0.051608  0.663234  ... -0.850465 -0.622990 -1.833057   \n",
      "1    2.619246 -0.765884 -0.093780  ... -0.819750  0.012037  2.038836   \n",
      "2   -4.219054 -1.184919 -1.240310  ... -0.604501  0.750054 -3.360521   \n",
      "3    4.499666  1.038741 -1.092716  ...  1.022959  1.275598 -3.480110   \n",
      "4   -4.290282 -1.761308  0.807652  ...  0.513906 -1.803473  0.518579   \n",
      "..        ...       ...       ...  ...       ...       ...       ...   \n",
      "995  1.191420 -0.127724  0.070937  ... -0.600411 -0.383792  0.745596   \n",
      "996  0.630634 -1.590533 -1.112949  ...  0.361736  0.240052 -0.856196   \n",
      "997  2.216161 -0.378326  0.642114  ...  1.195896 -1.073806 -2.754369   \n",
      "998  0.292035  0.585388 -0.876965  ...  2.262326 -0.039488  0.773876   \n",
      "999  0.701332 -0.906577 -0.390940  ...  0.471415  1.024757 -1.796571   \n",
      "\n",
      "           33        34        35        36        37        38        39  \n",
      "0    0.293024  3.552681  0.717611  3.305972 -2.715559 -2.682409  0.101050  \n",
      "1    0.468579 -0.517657  0.422326  0.803699  1.213219  1.382932 -1.817761  \n",
      "2    0.856988 -2.751451 -1.582735  1.672246  0.656438 -0.932473  2.987436  \n",
      "3   -1.065252  2.153133  1.563539  2.767117  0.215748  0.619645  1.883397  \n",
      "4   -0.205029 -4.744566 -1.520015  1.830651  0.870772 -1.894609  0.408332  \n",
      "..        ...       ...       ...       ...       ...       ...       ...  \n",
      "995 -0.698598 -2.729937 -0.431535  0.372873  1.019092 -2.672811 -0.295141  \n",
      "996 -0.072481 -2.935896  0.582411 -2.613407  0.036687  2.809310  4.412567  \n",
      "997  1.814864 -4.190105 -1.116441 -2.100125  0.061513  0.895536  0.813686  \n",
      "998 -0.916066  2.604827 -0.649874 -3.423674  0.229748 -2.311088 -3.422217  \n",
      "999  0.603161  0.862705  0.747234  3.275681  0.400372 -3.431031  2.370080  \n",
      "\n",
      "[1000 rows x 40 columns]\n"
     ]
    }
   ],
   "source": [
    "#dfx['0.29940251144353242'].describe()\n",
    "dfx_value = dfx.values\n",
    "dfx_value.shape\n",
    "dfy.shape\n",
    "print(dfx)"
   ]
  },
  {
   "cell_type": "code",
   "execution_count": 38,
   "metadata": {},
   "outputs": [
    {
     "name": "stderr",
     "output_type": "stream",
     "text": [
      "C:\\Users\\AlbertHsu\\AppData\\Local\\Continuum\\anaconda3\\lib\\site-packages\\sklearn\\ensemble\\gradient_boosting.py:1450: DataConversionWarning: A column-vector y was passed when a 1d array was expected. Please change the shape of y to (n_samples, ), for example using ravel().\n",
      "  y = column_or_1d(y, warn=True)\n"
     ]
    },
    {
     "name": "stdout",
     "output_type": "stream",
     "text": [
      "0.8266666666666667\n"
     ]
    }
   ],
   "source": [
    "x_test, x_train, y_test, y_train = train_test_split(dfx_value, dfy, test_size = 0.25, random_state=4)\n",
    "clfGB = GradientBoostingClassifier()\n",
    "clfGB.fit(x_train, y_train)\n",
    "y_pred = clfGB.predict(x_test)\n",
    "\n",
    "accuracy = metrics.accuracy_score(y_test, y_pred)\n",
    "print(accuracy)"
   ]
  },
  {
   "cell_type": "code",
   "execution_count": 39,
   "metadata": {},
   "outputs": [],
   "source": [
    "ytest_pred = clfGB.predict(dftest)"
   ]
  },
  {
   "cell_type": "code",
   "execution_count": 41,
   "metadata": {},
   "outputs": [],
   "source": [
    "ID_list = list(range(1, 9001))\n",
    "data_upload = {'ID': ID_list, 'Solution': ytest_pred}\n",
    "df_upload = pd.DataFrame(data_upload)"
   ]
  },
  {
   "cell_type": "code",
   "execution_count": 42,
   "metadata": {},
   "outputs": [
    {
     "name": "stdout",
     "output_type": "stream",
     "text": [
      "        ID  Solution\n",
      "0        1         1\n",
      "1        2         0\n",
      "2        3         0\n",
      "3        4         0\n",
      "4        5         0\n",
      "...    ...       ...\n",
      "8995  8996         1\n",
      "8996  8997         1\n",
      "8997  8998         1\n",
      "8998  8999         0\n",
      "8999  9000         1\n",
      "\n",
      "[9000 rows x 2 columns]\n"
     ]
    }
   ],
   "source": [
    "print(df_upload)"
   ]
  },
  {
   "cell_type": "code",
   "execution_count": 43,
   "metadata": {},
   "outputs": [],
   "source": [
    "file_name = 'AlbertHsu_48.csv'\n",
    "df_upload.to_csv(file_name, index=False)"
   ]
  },
  {
   "cell_type": "code",
   "execution_count": null,
   "metadata": {},
   "outputs": [],
   "source": []
  }
 ],
 "metadata": {
  "kernelspec": {
   "display_name": "Python 3",
   "language": "python",
   "name": "python3"
  },
  "language_info": {
   "codemirror_mode": {
    "name": "ipython",
    "version": 3
   },
   "file_extension": ".py",
   "mimetype": "text/x-python",
   "name": "python",
   "nbconvert_exporter": "python",
   "pygments_lexer": "ipython3",
   "version": "3.7.4"
  }
 },
 "nbformat": 4,
 "nbformat_minor": 2
}
