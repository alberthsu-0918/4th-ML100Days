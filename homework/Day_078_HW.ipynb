{
 "cells": [
  {
   "cell_type": "markdown",
   "metadata": {},
   "source": [
    "## Work\n",
    "1. 請嘗試將 preproc_x 替換成以每筆資料的 min/max 進行標準化至 -1 ~ 1 間，再進行訓練\n",
    "2. 請嘗試將 mlp 疊更深 (e.g 5~10 層)，進行訓練後觀察 learning curve 的走勢\n",
    "3. (optional) 請改用 GPU 進行訓練 (如果你有 GPU 的話)，比較使用 CPU 與 GPU 的訓練速度"
   ]
  },
  {
   "cell_type": "code",
   "execution_count": 1,
   "metadata": {},
   "outputs": [],
   "source": [
    "## \n",
    "\"\"\"\n",
    "Your code here (optional)\n",
    "確認硬體資源\n",
    "\"\"\"\n",
    "#沒有獨顯 跑好慢 哭哭"
   ]
  },
  {
   "cell_type": "code",
   "execution_count": 2,
   "metadata": {},
   "outputs": [
    {
     "name": "stderr",
     "output_type": "stream",
     "text": [
      "Using TensorFlow backend.\n"
     ]
    }
   ],
   "source": [
    "import os\n",
    "import keras\n",
    "\n",
    "# 請嘗試設定 GPU：os.environ\n"
   ]
  },
  {
   "cell_type": "code",
   "execution_count": 7,
   "metadata": {},
   "outputs": [],
   "source": [
    "train, test = keras.datasets.cifar10.load_data()"
   ]
  },
  {
   "cell_type": "code",
   "execution_count": 8,
   "metadata": {},
   "outputs": [],
   "source": [
    "## 資料前處理\n",
    "def preproc_x(x, flatten=True):\n",
    "    x = (x -128) / 255.\n",
    "    if flatten:\n",
    "        x = x.reshape((len(x), -1))\n",
    "    return x\n",
    "\n",
    "def preproc_y(y, num_classes=10):\n",
    "    if y.shape[-1] == 1:\n",
    "        y = keras.utils.to_categorical(y, num_classes)\n",
    "    return y    "
   ]
  },
  {
   "cell_type": "code",
   "execution_count": 9,
   "metadata": {},
   "outputs": [],
   "source": [
    "x_train, y_train = train\n",
    "x_test, y_test = test\n",
    "\n",
    "# Preproc the inputs\n",
    "x_train = preproc_x(x_train)\n",
    "x_test = preproc_x(x_test)\n",
    "\n",
    "# Preprc the outputs\n",
    "y_train = preproc_y(y_train)\n",
    "y_test = preproc_y(y_test)"
   ]
  },
  {
   "cell_type": "code",
   "execution_count": 22,
   "metadata": {},
   "outputs": [],
   "source": [
    "def build_mlp(input_shape, output_units=10, num_neurons=[1024, 512, 256, 128, 64, 32]):\n",
    "    input_layer = keras.layers.Input(input_shape)\n",
    "    \n",
    "    for i, n_units in enumerate(num_neurons):\n",
    "        if i == 0:\n",
    "            x = keras.layers.Dense(units=n_units, activation=\"relu\", name=\"hidden_layer\"+str(i+1))(input_layer)\n",
    "        else:\n",
    "            x = keras.layers.Dense(units=n_units, activation=\"relu\", name=\"hidden_layer\"+str(i+1))(x)\n",
    "    \n",
    "    out = keras.layers.Dense(units=output_units, activation=\"softmax\", name=\"output\")(x)\n",
    "    \n",
    "    model = keras.models.Model(inputs=[input_layer], outputs=[out])\n",
    "    return model"
   ]
  },
  {
   "cell_type": "code",
   "execution_count": 23,
   "metadata": {},
   "outputs": [
    {
     "name": "stdout",
     "output_type": "stream",
     "text": [
      "Model: \"model_3\"\n",
      "_________________________________________________________________\n",
      "Layer (type)                 Output Shape              Param #   \n",
      "=================================================================\n",
      "input_3 (InputLayer)         (None, 3072)              0         \n",
      "_________________________________________________________________\n",
      "hidden_layer1 (Dense)        (None, 1024)              3146752   \n",
      "_________________________________________________________________\n",
      "hidden_layer2 (Dense)        (None, 512)               524800    \n",
      "_________________________________________________________________\n",
      "hidden_layer3 (Dense)        (None, 256)               131328    \n",
      "_________________________________________________________________\n",
      "hidden_layer4 (Dense)        (None, 128)               32896     \n",
      "_________________________________________________________________\n",
      "hidden_layer5 (Dense)        (None, 64)                8256      \n",
      "_________________________________________________________________\n",
      "hidden_layer6 (Dense)        (None, 32)                2080      \n",
      "_________________________________________________________________\n",
      "output (Dense)               (None, 10)                330       \n",
      "=================================================================\n",
      "Total params: 3,846,442\n",
      "Trainable params: 3,846,442\n",
      "Non-trainable params: 0\n",
      "_________________________________________________________________\n"
     ]
    }
   ],
   "source": [
    "model = build_mlp(input_shape=x_train.shape[1:])\n",
    "model.summary()"
   ]
  },
  {
   "cell_type": "code",
   "execution_count": 24,
   "metadata": {},
   "outputs": [],
   "source": [
    "## 超參數設定\n",
    "LEARNING_RATE = 0.001\n",
    "EPOCHS = 100\n",
    "BATCH_SIZE = 256"
   ]
  },
  {
   "cell_type": "code",
   "execution_count": 25,
   "metadata": {},
   "outputs": [],
   "source": [
    "optimizer = keras.optimizers.Adam(lr=LEARNING_RATE)\n",
    "model.compile(loss=\"categorical_crossentropy\", metrics=[\"accuracy\"], optimizer=optimizer)"
   ]
  },
  {
   "cell_type": "code",
   "execution_count": 26,
   "metadata": {},
   "outputs": [
    {
     "name": "stdout",
     "output_type": "stream",
     "text": [
      "Train on 50000 samples, validate on 10000 samples\n",
      "Epoch 1/100\n",
      "50000/50000 [==============================] - 29s 581us/step - loss: 2.2166 - accuracy: 0.1655 - val_loss: 2.1107 - val_accuracy: 0.2183\n",
      "Epoch 2/100\n",
      "50000/50000 [==============================] - 26s 525us/step - loss: 2.0720 - accuracy: 0.2387 - val_loss: 2.0234 - val_accuracy: 0.2580\n",
      "Epoch 3/100\n",
      "50000/50000 [==============================] - 30s 594us/step - loss: 1.9756 - accuracy: 0.2878 - val_loss: 1.9233 - val_accuracy: 0.3143\n",
      "Epoch 4/100\n",
      "50000/50000 [==============================] - 27s 539us/step - loss: 1.9035 - accuracy: 0.3167 - val_loss: 1.9020 - val_accuracy: 0.3135\n",
      "Epoch 5/100\n",
      "50000/50000 [==============================] - 29s 571us/step - loss: 1.8505 - accuracy: 0.3379 - val_loss: 1.8440 - val_accuracy: 0.3372\n",
      "Epoch 6/100\n",
      "50000/50000 [==============================] - 29s 572us/step - loss: 1.8049 - accuracy: 0.3531 - val_loss: 1.8614 - val_accuracy: 0.3289\n",
      "Epoch 7/100\n",
      "50000/50000 [==============================] - 29s 578us/step - loss: 1.7616 - accuracy: 0.3707 - val_loss: 1.8335 - val_accuracy: 0.3494\n",
      "Epoch 8/100\n",
      "50000/50000 [==============================] - 29s 588us/step - loss: 1.7259 - accuracy: 0.3830 - val_loss: 1.7907 - val_accuracy: 0.3587\n",
      "Epoch 9/100\n",
      "50000/50000 [==============================] - 24s 488us/step - loss: 1.6842 - accuracy: 0.3989 - val_loss: 1.7907 - val_accuracy: 0.3644\n",
      "Epoch 10/100\n",
      "50000/50000 [==============================] - 22s 437us/step - loss: 1.6486 - accuracy: 0.4122 - val_loss: 1.7636 - val_accuracy: 0.3745\n",
      "Epoch 11/100\n",
      "50000/50000 [==============================] - 22s 443us/step - loss: 1.6090 - accuracy: 0.4270 - val_loss: 1.8430 - val_accuracy: 0.3491\n",
      "Epoch 12/100\n",
      "50000/50000 [==============================] - 22s 432us/step - loss: 1.5782 - accuracy: 0.4378 - val_loss: 1.8188 - val_accuracy: 0.3646\n",
      "Epoch 13/100\n",
      "50000/50000 [==============================] - 20s 401us/step - loss: 1.5343 - accuracy: 0.4551 - val_loss: 1.7863 - val_accuracy: 0.3720\n",
      "Epoch 14/100\n",
      "50000/50000 [==============================] - 20s 397us/step - loss: 1.4967 - accuracy: 0.4690 - val_loss: 1.8126 - val_accuracy: 0.3656\n",
      "Epoch 15/100\n",
      "50000/50000 [==============================] - 20s 407us/step - loss: 1.4657 - accuracy: 0.4764 - val_loss: 1.7652 - val_accuracy: 0.3856\n",
      "Epoch 16/100\n",
      "50000/50000 [==============================] - 21s 413us/step - loss: 1.4194 - accuracy: 0.4981 - val_loss: 1.8126 - val_accuracy: 0.3797\n",
      "Epoch 17/100\n",
      "50000/50000 [==============================] - 20s 403us/step - loss: 1.3844 - accuracy: 0.5061 - val_loss: 1.7912 - val_accuracy: 0.3754\n",
      "Epoch 18/100\n",
      "50000/50000 [==============================] - 20s 402us/step - loss: 1.3438 - accuracy: 0.5199 - val_loss: 1.8033 - val_accuracy: 0.3773\n",
      "Epoch 19/100\n",
      "50000/50000 [==============================] - 20s 397us/step - loss: 1.2939 - accuracy: 0.5404 - val_loss: 1.8232 - val_accuracy: 0.3885\n",
      "Epoch 20/100\n",
      "50000/50000 [==============================] - 20s 402us/step - loss: 1.2565 - accuracy: 0.5534 - val_loss: 1.8682 - val_accuracy: 0.3827\n",
      "Epoch 21/100\n",
      "50000/50000 [==============================] - 20s 397us/step - loss: 1.2325 - accuracy: 0.5609 - val_loss: 1.9146 - val_accuracy: 0.3839\n",
      "Epoch 22/100\n",
      "50000/50000 [==============================] - 20s 398us/step - loss: 1.1918 - accuracy: 0.5781 - val_loss: 1.9396 - val_accuracy: 0.3828\n",
      "Epoch 23/100\n",
      "50000/50000 [==============================] - 20s 398us/step - loss: 1.1509 - accuracy: 0.5919 - val_loss: 1.9350 - val_accuracy: 0.3875\n",
      "Epoch 24/100\n",
      "50000/50000 [==============================] - 23s 451us/step - loss: 1.1069 - accuracy: 0.6059 - val_loss: 2.0838 - val_accuracy: 0.3740\n",
      "Epoch 25/100\n",
      "50000/50000 [==============================] - 21s 426us/step - loss: 1.0687 - accuracy: 0.6216 - val_loss: 2.1592 - val_accuracy: 0.3615\n",
      "Epoch 26/100\n",
      "50000/50000 [==============================] - 21s 424us/step - loss: 1.0219 - accuracy: 0.6380 - val_loss: 2.1515 - val_accuracy: 0.3661\n",
      "Epoch 27/100\n",
      "50000/50000 [==============================] - 21s 429us/step - loss: 0.9720 - accuracy: 0.6582 - val_loss: 2.2236 - val_accuracy: 0.3583\n",
      "Epoch 28/100\n",
      "50000/50000 [==============================] - 21s 425us/step - loss: 0.9522 - accuracy: 0.6594 - val_loss: 2.2192 - val_accuracy: 0.3792\n",
      "Epoch 29/100\n",
      "50000/50000 [==============================] - 21s 425us/step - loss: 0.9002 - accuracy: 0.6812 - val_loss: 2.3578 - val_accuracy: 0.3772\n",
      "Epoch 30/100\n",
      "50000/50000 [==============================] - 22s 435us/step - loss: 0.8696 - accuracy: 0.6915 - val_loss: 2.3382 - val_accuracy: 0.3664\n",
      "Epoch 31/100\n",
      "50000/50000 [==============================] - 21s 427us/step - loss: 0.8451 - accuracy: 0.7005 - val_loss: 2.3780 - val_accuracy: 0.3655\n",
      "Epoch 32/100\n",
      "50000/50000 [==============================] - 22s 437us/step - loss: 0.8059 - accuracy: 0.7145 - val_loss: 2.4927 - val_accuracy: 0.3767\n",
      "Epoch 33/100\n",
      "50000/50000 [==============================] - 21s 427us/step - loss: 0.7649 - accuracy: 0.7273 - val_loss: 2.5497 - val_accuracy: 0.3661\n",
      "Epoch 34/100\n",
      "50000/50000 [==============================] - 22s 436us/step - loss: 0.7302 - accuracy: 0.7414 - val_loss: 2.7110 - val_accuracy: 0.3628\n",
      "Epoch 35/100\n",
      "50000/50000 [==============================] - 22s 444us/step - loss: 0.7110 - accuracy: 0.7453 - val_loss: 2.8984 - val_accuracy: 0.3613\n",
      "Epoch 36/100\n",
      "50000/50000 [==============================] - 23s 462us/step - loss: 0.6861 - accuracy: 0.7570 - val_loss: 2.8551 - val_accuracy: 0.3685\n",
      "Epoch 37/100\n",
      "50000/50000 [==============================] - 24s 478us/step - loss: 0.6131 - accuracy: 0.7838 - val_loss: 3.0605 - val_accuracy: 0.3653\n",
      "Epoch 38/100\n",
      "50000/50000 [==============================] - 22s 441us/step - loss: 0.6281 - accuracy: 0.7778 - val_loss: 2.9966 - val_accuracy: 0.3603\n",
      "Epoch 39/100\n",
      "50000/50000 [==============================] - 21s 417us/step - loss: 0.6039 - accuracy: 0.7884 - val_loss: 3.3151 - val_accuracy: 0.3504\n",
      "Epoch 40/100\n",
      "50000/50000 [==============================] - 21s 421us/step - loss: 0.5717 - accuracy: 0.7984 - val_loss: 3.2996 - val_accuracy: 0.3577\n",
      "Epoch 41/100\n",
      "50000/50000 [==============================] - 21s 421us/step - loss: 0.5329 - accuracy: 0.8116 - val_loss: 3.1822 - val_accuracy: 0.3588\n",
      "Epoch 42/100\n",
      "50000/50000 [==============================] - 21s 419us/step - loss: 0.5457 - accuracy: 0.8075 - val_loss: 3.4320 - val_accuracy: 0.3519\n",
      "Epoch 43/100\n",
      "50000/50000 [==============================] - 21s 418us/step - loss: 0.5132 - accuracy: 0.8183 - val_loss: 3.5362 - val_accuracy: 0.3644\n",
      "Epoch 44/100\n",
      "50000/50000 [==============================] - 21s 423us/step - loss: 0.4707 - accuracy: 0.8350 - val_loss: 3.6168 - val_accuracy: 0.3466\n",
      "Epoch 45/100\n",
      "50000/50000 [==============================] - 21s 420us/step - loss: 0.4678 - accuracy: 0.8358 - val_loss: 3.7025 - val_accuracy: 0.3592\n",
      "Epoch 46/100\n",
      "50000/50000 [==============================] - 21s 418us/step - loss: 0.4342 - accuracy: 0.8470 - val_loss: 3.7791 - val_accuracy: 0.3505\n",
      "Epoch 47/100\n",
      "50000/50000 [==============================] - 21s 424us/step - loss: 0.4469 - accuracy: 0.8437 - val_loss: 3.7161 - val_accuracy: 0.3668\n",
      "Epoch 48/100\n",
      "50000/50000 [==============================] - 21s 417us/step - loss: 0.4299 - accuracy: 0.8500 - val_loss: 3.9507 - val_accuracy: 0.3653\n",
      "Epoch 49/100\n",
      "50000/50000 [==============================] - 21s 417us/step - loss: 0.4007 - accuracy: 0.8596 - val_loss: 4.0715 - val_accuracy: 0.3618\n",
      "Epoch 50/100\n",
      "50000/50000 [==============================] - 21s 421us/step - loss: 0.3597 - accuracy: 0.8769 - val_loss: 4.0997 - val_accuracy: 0.3588\n",
      "Epoch 51/100\n",
      "50000/50000 [==============================] - 21s 417us/step - loss: 0.4075 - accuracy: 0.8576 - val_loss: 4.2429 - val_accuracy: 0.3594\n",
      "Epoch 52/100\n",
      "50000/50000 [==============================] - 21s 422us/step - loss: 0.3930 - accuracy: 0.8623 - val_loss: 4.1610 - val_accuracy: 0.3529\n",
      "Epoch 53/100\n",
      "50000/50000 [==============================] - 21s 422us/step - loss: 0.3864 - accuracy: 0.8655 - val_loss: 4.3818 - val_accuracy: 0.3606\n",
      "Epoch 54/100\n",
      "50000/50000 [==============================] - 21s 418us/step - loss: 0.3286 - accuracy: 0.8859 - val_loss: 4.4201 - val_accuracy: 0.3618\n"
     ]
    },
    {
     "name": "stdout",
     "output_type": "stream",
     "text": [
      "Epoch 55/100\n",
      "50000/50000 [==============================] - 21s 413us/step - loss: 0.3446 - accuracy: 0.8808 - val_loss: 4.3346 - val_accuracy: 0.3526\n",
      "Epoch 56/100\n",
      "50000/50000 [==============================] - 22s 444us/step - loss: 0.3165 - accuracy: 0.8909 - val_loss: 4.5980 - val_accuracy: 0.3550\n",
      "Epoch 57/100\n",
      "50000/50000 [==============================] - 21s 423us/step - loss: 0.3214 - accuracy: 0.8872 - val_loss: 4.7599 - val_accuracy: 0.3571\n",
      "Epoch 58/100\n",
      "50000/50000 [==============================] - 21s 430us/step - loss: 0.3215 - accuracy: 0.8889 - val_loss: 4.6852 - val_accuracy: 0.3504\n",
      "Epoch 59/100\n",
      "50000/50000 [==============================] - 21s 425us/step - loss: 0.3071 - accuracy: 0.8938 - val_loss: 4.4474 - val_accuracy: 0.3572\n",
      "Epoch 60/100\n",
      "50000/50000 [==============================] - 20s 410us/step - loss: 0.2850 - accuracy: 0.9015 - val_loss: 4.5822 - val_accuracy: 0.3590\n",
      "Epoch 61/100\n",
      "50000/50000 [==============================] - 20s 395us/step - loss: 0.2696 - accuracy: 0.9061 - val_loss: 5.0385 - val_accuracy: 0.3588\n",
      "Epoch 62/100\n",
      "50000/50000 [==============================] - 20s 396us/step - loss: 0.2838 - accuracy: 0.9013 - val_loss: 4.8475 - val_accuracy: 0.3483\n",
      "Epoch 63/100\n",
      "50000/50000 [==============================] - 20s 401us/step - loss: 0.3007 - accuracy: 0.8953 - val_loss: 4.9688 - val_accuracy: 0.3551\n",
      "Epoch 64/100\n",
      "50000/50000 [==============================] - 20s 408us/step - loss: 0.2763 - accuracy: 0.9033 - val_loss: 5.2846 - val_accuracy: 0.3589\n",
      "Epoch 65/100\n",
      "50000/50000 [==============================] - 21s 425us/step - loss: 0.2753 - accuracy: 0.9049 - val_loss: 4.7863 - val_accuracy: 0.3518\n",
      "Epoch 66/100\n",
      "50000/50000 [==============================] - 23s 451us/step - loss: 0.2364 - accuracy: 0.9175 - val_loss: 5.3329 - val_accuracy: 0.3573\n",
      "Epoch 67/100\n",
      "50000/50000 [==============================] - 23s 451us/step - loss: 0.2825 - accuracy: 0.9024 - val_loss: 4.9827 - val_accuracy: 0.3568\n",
      "Epoch 68/100\n",
      "50000/50000 [==============================] - 24s 476us/step - loss: 0.2575 - accuracy: 0.9107 - val_loss: 5.0810 - val_accuracy: 0.3429\n",
      "Epoch 69/100\n",
      "50000/50000 [==============================] - 23s 463us/step - loss: 0.2635 - accuracy: 0.9095 - val_loss: 5.0728 - val_accuracy: 0.3495\n",
      "Epoch 70/100\n",
      "50000/50000 [==============================] - 22s 442us/step - loss: 0.2557 - accuracy: 0.9122 - val_loss: 4.7862 - val_accuracy: 0.3574\n",
      "Epoch 71/100\n",
      "50000/50000 [==============================] - 22s 432us/step - loss: 0.2598 - accuracy: 0.9112 - val_loss: 5.2195 - val_accuracy: 0.3561\n",
      "Epoch 72/100\n",
      "50000/50000 [==============================] - 22s 431us/step - loss: 0.2295 - accuracy: 0.9218 - val_loss: 5.3026 - val_accuracy: 0.3663\n",
      "Epoch 73/100\n",
      "50000/50000 [==============================] - 22s 431us/step - loss: 0.2351 - accuracy: 0.9202 - val_loss: 5.4415 - val_accuracy: 0.3532\n",
      "Epoch 74/100\n",
      "50000/50000 [==============================] - 23s 459us/step - loss: 0.2221 - accuracy: 0.9240 - val_loss: 5.5741 - val_accuracy: 0.3562\n",
      "Epoch 75/100\n",
      "50000/50000 [==============================] - 24s 475us/step - loss: 0.2113 - accuracy: 0.9280 - val_loss: 5.3387 - val_accuracy: 0.3554\n",
      "Epoch 76/100\n",
      "50000/50000 [==============================] - 21s 421us/step - loss: 0.2477 - accuracy: 0.9147 - val_loss: 5.5595 - val_accuracy: 0.3468\n",
      "Epoch 77/100\n",
      "50000/50000 [==============================] - 22s 431us/step - loss: 0.2215 - accuracy: 0.9242 - val_loss: 5.4585 - val_accuracy: 0.3588\n",
      "Epoch 78/100\n",
      "50000/50000 [==============================] - 21s 416us/step - loss: 0.2539 - accuracy: 0.9140 - val_loss: 5.1570 - val_accuracy: 0.3577\n",
      "Epoch 79/100\n",
      "50000/50000 [==============================] - 21s 423us/step - loss: 0.1709 - accuracy: 0.9428 - val_loss: 5.5969 - val_accuracy: 0.3489\n",
      "Epoch 80/100\n",
      "50000/50000 [==============================] - 22s 442us/step - loss: 0.2255 - accuracy: 0.9233 - val_loss: 5.8356 - val_accuracy: 0.3492\n",
      "Epoch 81/100\n",
      "50000/50000 [==============================] - 21s 427us/step - loss: 0.1748 - accuracy: 0.9401 - val_loss: 5.9711 - val_accuracy: 0.3431\n",
      "Epoch 82/100\n",
      "50000/50000 [==============================] - 22s 446us/step - loss: 0.2274 - accuracy: 0.9222 - val_loss: 5.4772 - val_accuracy: 0.3559\n",
      "Epoch 83/100\n",
      "50000/50000 [==============================] - 22s 430us/step - loss: 0.1831 - accuracy: 0.9373 - val_loss: 5.8911 - val_accuracy: 0.3521\n",
      "Epoch 84/100\n",
      "50000/50000 [==============================] - 22s 432us/step - loss: 0.2109 - accuracy: 0.9288 - val_loss: 5.4971 - val_accuracy: 0.3525\n",
      "Epoch 85/100\n",
      "50000/50000 [==============================] - 22s 439us/step - loss: 0.2392 - accuracy: 0.9189 - val_loss: 5.2684 - val_accuracy: 0.3491\n",
      "Epoch 86/100\n",
      "50000/50000 [==============================] - 22s 441us/step - loss: 0.1729 - accuracy: 0.9411 - val_loss: 5.6804 - val_accuracy: 0.3474\n",
      "Epoch 87/100\n",
      "50000/50000 [==============================] - 21s 428us/step - loss: 0.1728 - accuracy: 0.9408 - val_loss: 5.8668 - val_accuracy: 0.3567\n",
      "Epoch 88/100\n",
      "50000/50000 [==============================] - 22s 445us/step - loss: 0.1902 - accuracy: 0.9347 - val_loss: 6.0980 - val_accuracy: 0.3526\n",
      "Epoch 89/100\n",
      "50000/50000 [==============================] - 22s 443us/step - loss: 0.2385 - accuracy: 0.9204 - val_loss: 5.4951 - val_accuracy: 0.3456\n",
      "Epoch 90/100\n",
      "50000/50000 [==============================] - 21s 415us/step - loss: 0.1485 - accuracy: 0.9502 - val_loss: 5.9620 - val_accuracy: 0.3569\n",
      "Epoch 91/100\n",
      "50000/50000 [==============================] - 22s 445us/step - loss: 0.2310 - accuracy: 0.9222 - val_loss: 5.7417 - val_accuracy: 0.3587\n",
      "Epoch 92/100\n",
      "50000/50000 [==============================] - 22s 431us/step - loss: 0.1952 - accuracy: 0.9338 - val_loss: 5.7179 - val_accuracy: 0.3582\n",
      "Epoch 93/100\n",
      "50000/50000 [==============================] - 24s 472us/step - loss: 0.1780 - accuracy: 0.9395 - val_loss: 5.7766 - val_accuracy: 0.3511\n",
      "Epoch 94/100\n",
      "50000/50000 [==============================] - 23s 450us/step - loss: 0.1664 - accuracy: 0.9438 - val_loss: 5.9044 - val_accuracy: 0.3505\n",
      "Epoch 95/100\n",
      "50000/50000 [==============================] - 21s 422us/step - loss: 0.1457 - accuracy: 0.9497 - val_loss: 6.0494 - val_accuracy: 0.3540\n",
      "Epoch 96/100\n",
      "50000/50000 [==============================] - 21s 416us/step - loss: 0.1465 - accuracy: 0.9513 - val_loss: 6.4865 - val_accuracy: 0.3489\n",
      "Epoch 97/100\n",
      "50000/50000 [==============================] - 22s 436us/step - loss: 0.2431 - accuracy: 0.9191 - val_loss: 5.2582 - val_accuracy: 0.3498\n",
      "Epoch 98/100\n",
      "50000/50000 [==============================] - 22s 442us/step - loss: 0.1541 - accuracy: 0.9480 - val_loss: 6.2579 - val_accuracy: 0.3680\n",
      "Epoch 99/100\n",
      "50000/50000 [==============================] - 22s 436us/step - loss: 0.1469 - accuracy: 0.9505 - val_loss: 6.1448 - val_accuracy: 0.3307\n",
      "Epoch 100/100\n",
      "50000/50000 [==============================] - 21s 429us/step - loss: 0.1816 - accuracy: 0.9394 - val_loss: 6.0283 - val_accuracy: 0.3566\n"
     ]
    },
    {
     "data": {
      "text/plain": [
       "<keras.callbacks.callbacks.History at 0x13b82bfafc8>"
      ]
     },
     "execution_count": 26,
     "metadata": {},
     "output_type": "execute_result"
    }
   ],
   "source": [
    "model.fit(x_train, y_train, \n",
    "          epochs=EPOCHS, \n",
    "          batch_size=BATCH_SIZE, \n",
    "          validation_data=(x_test, y_test), \n",
    "          shuffle=True)"
   ]
  },
  {
   "cell_type": "code",
   "execution_count": 27,
   "metadata": {},
   "outputs": [
    {
     "data": {
      "image/png": "[encoded data removed]",
      "text/plain": [
       "<Figure size 432x288 with 1 Axes>"
      ]
     },
     "metadata": {
      "needs_background": "light"
     },
     "output_type": "display_data"
    },
    {
     "data": {
      "image/png": "[encoded data removed]",
      "text/plain": [
       "<Figure size 432x288 with 1 Axes>"
      ]
     },
     "metadata": {
      "needs_background": "light"
     },
     "output_type": "display_data"
    }
   ],
   "source": [
    "import matplotlib.pyplot as plt\n",
    "\n",
    "\n",
    "train_loss = model.history.history[\"loss\"]\n",
    "valid_loss = model.history.history[\"val_loss\"]\n",
    "\n",
    "train_acc = model.history.history[\"accuracy\"]\n",
    "valid_acc = model.history.history[\"val_accuracy\"]\n",
    "\n",
    "plt.plot(range(len(train_loss)), train_loss, label=\"train loss\")\n",
    "plt.plot(range(len(valid_loss)), valid_loss, label=\"valid loss\")\n",
    "plt.legend()\n",
    "plt.title(\"Loss\")\n",
    "plt.show()\n",
    "\n",
    "plt.plot(range(len(train_acc)), train_acc, label=\"train accuracy\")\n",
    "plt.plot(range(len(valid_acc)), valid_acc, label=\"valid accuracy\")\n",
    "plt.legend()\n",
    "plt.title(\"Accuracy\")\n",
    "plt.show()"
   ]
  },
  {
   "cell_type": "code",
   "execution_count": null,
   "metadata": {},
   "outputs": [],
   "source": []
  }
 ],
 "metadata": {
  "kernelspec": {
   "display_name": "Python 3",
   "language": "python",
   "name": "python3"
  },
  "language_info": {
   "codemirror_mode": {
    "name": "ipython",
    "version": 3
   },
   "file_extension": ".py",
   "mimetype": "text/x-python",
   "name": "python",
   "nbconvert_exporter": "python",
   "pygments_lexer": "ipython3",
   "version": "3.7.4"
  }
 },
 "nbformat": 4,
 "nbformat_minor": 2
}
