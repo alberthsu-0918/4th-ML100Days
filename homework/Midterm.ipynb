{
 "cells": [
  {
   "cell_type": "code",
   "execution_count": 1,
   "metadata": {},
   "outputs": [],
   "source": [
    "import pandas as pd\n",
    "import os\n",
    "\n",
    "data_path = r'C:\\Users\\AlbertHsu\\Documents\\GitHub\\4th-ML100Days\\homework\\midterm'\n",
    "df_path_train = os.path.join(data_path, 'train_data.csv') \n",
    "df_train = pd.read_csv(df_path_train)\n",
    "df_path_test = os.path.join(data_path, 'test_features.csv')\n",
    "df_test = pd.read_csv(df_path_test)\n",
    "\n",
    "#for size of data union, give test data 'poi' columns. Delete it later\n",
    "df_test['poi'] = [1,1,1,1,1,0,0,0,0,0,0,0,0,0,0,0,0,0,0,0,0,0,0,0,0,0,0,0,0,0,0,0,0]"
   ]
  },
  {
   "cell_type": "code",
   "execution_count": 2,
   "metadata": {},
   "outputs": [
    {
     "data": {
      "text/plain": [
       "<Figure size 640x480 with 1 Axes>"
      ]
     },
     "metadata": {},
     "output_type": "display_data"
    },
    {
     "data": {
      "text/plain": [
       "<Figure size 640x480 with 1 Axes>"
      ]
     },
     "metadata": {},
     "output_type": "display_data"
    },
    {
     "data": {
      "text/plain": [
       "<Figure size 640x480 with 1 Axes>"
      ]
     },
     "metadata": {},
     "output_type": "display_data"
    },
    {
     "data": {
      "text/plain": [
       "<Figure size 640x480 with 1 Axes>"
      ]
     },
     "metadata": {},
     "output_type": "display_data"
    },
    {
     "data": {
      "text/plain": [
       "<Figure size 640x480 with 1 Axes>"
      ]
     },
     "metadata": {},
     "output_type": "display_data"
    },
    {
     "data": {
      "text/plain": [
       "<Figure size 640x480 with 1 Axes>"
      ]
     },
     "metadata": {},
     "output_type": "display_data"
    },
    {
     "data": {
      "text/plain": [
       "<Figure size 640x480 with 1 Axes>"
      ]
     },
     "metadata": {},
     "output_type": "display_data"
    },
    {
     "data": {
      "text/plain": [
       "<Figure size 640x480 with 1 Axes>"
      ]
     },
     "metadata": {},
     "output_type": "display_data"
    },
    {
     "data": {
      "text/plain": [
       "<Figure size 640x480 with 1 Axes>"
      ]
     },
     "metadata": {},
     "output_type": "display_data"
    },
    {
     "data": {
      "text/plain": [
       "<Figure size 640x480 with 1 Axes>"
      ]
     },
     "metadata": {},
     "output_type": "display_data"
    },
    {
     "data": {
      "text/plain": [
       "<Figure size 640x480 with 1 Axes>"
      ]
     },
     "metadata": {},
     "output_type": "display_data"
    },
    {
     "data": {
      "text/plain": [
       "<Figure size 640x480 with 1 Axes>"
      ]
     },
     "metadata": {},
     "output_type": "display_data"
    },
    {
     "data": {
      "text/plain": [
       "<Figure size 640x480 with 1 Axes>"
      ]
     },
     "metadata": {},
     "output_type": "display_data"
    },
    {
     "data": {
      "text/plain": [
       "<Figure size 640x480 with 1 Axes>"
      ]
     },
     "metadata": {},
     "output_type": "display_data"
    },
    {
     "data": {
      "text/plain": [
       "<Figure size 640x480 with 1 Axes>"
      ]
     },
     "metadata": {},
     "output_type": "display_data"
    },
    {
     "data": {
      "text/plain": [
       "<Figure size 640x480 with 1 Axes>"
      ]
     },
     "metadata": {},
     "output_type": "display_data"
    },
    {
     "data": {
      "text/plain": [
       "<Figure size 640x480 with 1 Axes>"
      ]
     },
     "metadata": {},
     "output_type": "display_data"
    },
    {
     "data": {
      "text/plain": [
       "<Figure size 640x480 with 1 Axes>"
      ]
     },
     "metadata": {},
     "output_type": "display_data"
    },
    {
     "data": {
      "text/plain": [
       "<Figure size 640x480 with 1 Axes>"
      ]
     },
     "metadata": {},
     "output_type": "display_data"
    },
    {
     "data": {
      "text/html": [
       "<div>\n",
       "<style scoped>\n",
       "    .dataframe tbody tr th:only-of-type {\n",
       "        vertical-align: middle;\n",
       "    }\n",
       "\n",
       "    .dataframe tbody tr th {\n",
       "        vertical-align: top;\n",
       "    }\n",
       "\n",
       "    .dataframe thead th {\n",
       "        text-align: right;\n",
       "    }\n",
       "</style>\n",
       "<table border=\"1\" class=\"dataframe\">\n",
       "  <thead>\n",
       "    <tr style=\"text-align: right;\">\n",
       "      <th></th>\n",
       "      <th>bonus</th>\n",
       "      <th>deferral_payments</th>\n",
       "      <th>deferred_income</th>\n",
       "      <th>director_fees</th>\n",
       "      <th>exercised_stock_options</th>\n",
       "      <th>expenses</th>\n",
       "      <th>from_messages</th>\n",
       "      <th>from_poi_to_this_person</th>\n",
       "      <th>from_this_person_to_poi</th>\n",
       "      <th>loan_advances</th>\n",
       "      <th>long_term_incentive</th>\n",
       "      <th>other</th>\n",
       "      <th>restricted_stock</th>\n",
       "      <th>restricted_stock_deferred</th>\n",
       "      <th>salary</th>\n",
       "      <th>shared_receipt_with_poi</th>\n",
       "      <th>to_messages</th>\n",
       "      <th>total_payments</th>\n",
       "      <th>total_stock_value</th>\n",
       "    </tr>\n",
       "  </thead>\n",
       "  <tbody>\n",
       "    <tr>\n",
       "      <td>count</td>\n",
       "      <td>6.100000e+01</td>\n",
       "      <td>2.800000e+01</td>\n",
       "      <td>3.400000e+01</td>\n",
       "      <td>13.000000</td>\n",
       "      <td>8.100000e+01</td>\n",
       "      <td>73.000000</td>\n",
       "      <td>65.000000</td>\n",
       "      <td>65.000000</td>\n",
       "      <td>65.000000</td>\n",
       "      <td>2.000000e+00</td>\n",
       "      <td>4.900000e+01</td>\n",
       "      <td>6.900000e+01</td>\n",
       "      <td>8.200000e+01</td>\n",
       "      <td>10.000000</td>\n",
       "      <td>7.300000e+01</td>\n",
       "      <td>65.000000</td>\n",
       "      <td>65.000000</td>\n",
       "      <td>9.600000e+01</td>\n",
       "      <td>9.800000e+01</td>\n",
       "    </tr>\n",
       "    <tr>\n",
       "      <td>mean</td>\n",
       "      <td>1.147436e+06</td>\n",
       "      <td>6.344374e+05</td>\n",
       "      <td>-4.625664e+05</td>\n",
       "      <td>89397.846154</td>\n",
       "      <td>2.985081e+06</td>\n",
       "      <td>51040.547945</td>\n",
       "      <td>711.323077</td>\n",
       "      <td>64.800000</td>\n",
       "      <td>40.092308</td>\n",
       "      <td>4.096250e+07</td>\n",
       "      <td>7.926171e+05</td>\n",
       "      <td>4.471774e+05</td>\n",
       "      <td>1.294855e+06</td>\n",
       "      <td>-221885.700000</td>\n",
       "      <td>2.739025e+05</td>\n",
       "      <td>1111.369231</td>\n",
       "      <td>2156.061538</td>\n",
       "      <td>2.590977e+06</td>\n",
       "      <td>3.527136e+06</td>\n",
       "    </tr>\n",
       "    <tr>\n",
       "      <td>std</td>\n",
       "      <td>1.505189e+06</td>\n",
       "      <td>8.603646e+05</td>\n",
       "      <td>8.095392e+05</td>\n",
       "      <td>41143.391399</td>\n",
       "      <td>6.004174e+06</td>\n",
       "      <td>47596.682104</td>\n",
       "      <td>2074.497628</td>\n",
       "      <td>91.863214</td>\n",
       "      <td>88.901407</td>\n",
       "      <td>5.736404e+07</td>\n",
       "      <td>9.504645e+05</td>\n",
       "      <td>1.341564e+06</td>\n",
       "      <td>2.498335e+06</td>\n",
       "      <td>205191.374121</td>\n",
       "      <td>1.716647e+05</td>\n",
       "      <td>1165.852016</td>\n",
       "      <td>2811.676718</td>\n",
       "      <td>1.056645e+07</td>\n",
       "      <td>7.182997e+06</td>\n",
       "    </tr>\n",
       "    <tr>\n",
       "      <td>min</td>\n",
       "      <td>7.000000e+04</td>\n",
       "      <td>-1.025000e+05</td>\n",
       "      <td>-3.504386e+06</td>\n",
       "      <td>3285.000000</td>\n",
       "      <td>3.285000e+03</td>\n",
       "      <td>148.000000</td>\n",
       "      <td>12.000000</td>\n",
       "      <td>0.000000</td>\n",
       "      <td>0.000000</td>\n",
       "      <td>4.000000e+05</td>\n",
       "      <td>7.102300e+04</td>\n",
       "      <td>2.000000e+00</td>\n",
       "      <td>4.409300e+04</td>\n",
       "      <td>-560222.000000</td>\n",
       "      <td>4.770000e+02</td>\n",
       "      <td>2.000000</td>\n",
       "      <td>57.000000</td>\n",
       "      <td>1.480000e+02</td>\n",
       "      <td>-4.409300e+04</td>\n",
       "    </tr>\n",
       "    <tr>\n",
       "      <td>25%</td>\n",
       "      <td>4.500000e+05</td>\n",
       "      <td>7.656750e+04</td>\n",
       "      <td>-5.527032e+05</td>\n",
       "      <td>101250.000000</td>\n",
       "      <td>4.004780e+05</td>\n",
       "      <td>18834.000000</td>\n",
       "      <td>19.000000</td>\n",
       "      <td>10.000000</td>\n",
       "      <td>0.000000</td>\n",
       "      <td>2.068125e+07</td>\n",
       "      <td>2.750000e+05</td>\n",
       "      <td>9.720000e+02</td>\n",
       "      <td>2.689220e+05</td>\n",
       "      <td>-389621.750000</td>\n",
       "      <td>2.061210e+05</td>\n",
       "      <td>178.000000</td>\n",
       "      <td>517.000000</td>\n",
       "      <td>3.024025e+05</td>\n",
       "      <td>4.211518e+05</td>\n",
       "    </tr>\n",
       "    <tr>\n",
       "      <td>50%</td>\n",
       "      <td>7.500000e+05</td>\n",
       "      <td>1.951900e+05</td>\n",
       "      <td>-1.175340e+05</td>\n",
       "      <td>108579.000000</td>\n",
       "      <td>8.500100e+05</td>\n",
       "      <td>41953.000000</td>\n",
       "      <td>45.000000</td>\n",
       "      <td>28.000000</td>\n",
       "      <td>7.000000</td>\n",
       "      <td>4.096250e+07</td>\n",
       "      <td>4.221580e+05</td>\n",
       "      <td>5.238200e+04</td>\n",
       "      <td>4.628225e+05</td>\n",
       "      <td>-139856.500000</td>\n",
       "      <td>2.516540e+05</td>\n",
       "      <td>599.000000</td>\n",
       "      <td>1088.000000</td>\n",
       "      <td>1.106740e+06</td>\n",
       "      <td>9.979710e+05</td>\n",
       "    </tr>\n",
       "    <tr>\n",
       "      <td>75%</td>\n",
       "      <td>1.000000e+06</td>\n",
       "      <td>8.342052e+05</td>\n",
       "      <td>-2.708325e+04</td>\n",
       "      <td>112492.000000</td>\n",
       "      <td>2.165172e+06</td>\n",
       "      <td>59175.000000</td>\n",
       "      <td>215.000000</td>\n",
       "      <td>88.000000</td>\n",
       "      <td>27.000000</td>\n",
       "      <td>6.124375e+07</td>\n",
       "      <td>8.318090e+05</td>\n",
       "      <td>3.620960e+05</td>\n",
       "      <td>9.664905e+05</td>\n",
       "      <td>-77953.250000</td>\n",
       "      <td>2.885890e+05</td>\n",
       "      <td>1902.000000</td>\n",
       "      <td>2649.000000</td>\n",
       "      <td>1.985668e+06</td>\n",
       "      <td>2.493616e+06</td>\n",
       "    </tr>\n",
       "    <tr>\n",
       "      <td>max</td>\n",
       "      <td>8.000000e+06</td>\n",
       "      <td>2.964506e+06</td>\n",
       "      <td>-1.042000e+03</td>\n",
       "      <td>125034.000000</td>\n",
       "      <td>3.434838e+07</td>\n",
       "      <td>228763.000000</td>\n",
       "      <td>14368.000000</td>\n",
       "      <td>528.000000</td>\n",
       "      <td>411.000000</td>\n",
       "      <td>8.152500e+07</td>\n",
       "      <td>5.145434e+06</td>\n",
       "      <td>1.035973e+07</td>\n",
       "      <td>1.476169e+07</td>\n",
       "      <td>44093.000000</td>\n",
       "      <td>1.111258e+06</td>\n",
       "      <td>4527.000000</td>\n",
       "      <td>15149.000000</td>\n",
       "      <td>1.035598e+08</td>\n",
       "      <td>4.911008e+07</td>\n",
       "    </tr>\n",
       "  </tbody>\n",
       "</table>\n",
       "</div>"
      ],
      "text/plain": [
       "              bonus  deferral_payments  deferred_income  director_fees  \\\n",
       "count  6.100000e+01       2.800000e+01     3.400000e+01      13.000000   \n",
       "mean   1.147436e+06       6.344374e+05    -4.625664e+05   89397.846154   \n",
       "std    1.505189e+06       8.603646e+05     8.095392e+05   41143.391399   \n",
       "min    7.000000e+04      -1.025000e+05    -3.504386e+06    3285.000000   \n",
       "25%    4.500000e+05       7.656750e+04    -5.527032e+05  101250.000000   \n",
       "50%    7.500000e+05       1.951900e+05    -1.175340e+05  108579.000000   \n",
       "75%    1.000000e+06       8.342052e+05    -2.708325e+04  112492.000000   \n",
       "max    8.000000e+06       2.964506e+06    -1.042000e+03  125034.000000   \n",
       "\n",
       "       exercised_stock_options       expenses  from_messages  \\\n",
       "count             8.100000e+01      73.000000      65.000000   \n",
       "mean              2.985081e+06   51040.547945     711.323077   \n",
       "std               6.004174e+06   47596.682104    2074.497628   \n",
       "min               3.285000e+03     148.000000      12.000000   \n",
       "25%               4.004780e+05   18834.000000      19.000000   \n",
       "50%               8.500100e+05   41953.000000      45.000000   \n",
       "75%               2.165172e+06   59175.000000     215.000000   \n",
       "max               3.434838e+07  228763.000000   14368.000000   \n",
       "\n",
       "       from_poi_to_this_person  from_this_person_to_poi  loan_advances  \\\n",
       "count                65.000000                65.000000   2.000000e+00   \n",
       "mean                 64.800000                40.092308   4.096250e+07   \n",
       "std                  91.863214                88.901407   5.736404e+07   \n",
       "min                   0.000000                 0.000000   4.000000e+05   \n",
       "25%                  10.000000                 0.000000   2.068125e+07   \n",
       "50%                  28.000000                 7.000000   4.096250e+07   \n",
       "75%                  88.000000                27.000000   6.124375e+07   \n",
       "max                 528.000000               411.000000   8.152500e+07   \n",
       "\n",
       "       long_term_incentive         other  restricted_stock  \\\n",
       "count         4.900000e+01  6.900000e+01      8.200000e+01   \n",
       "mean          7.926171e+05  4.471774e+05      1.294855e+06   \n",
       "std           9.504645e+05  1.341564e+06      2.498335e+06   \n",
       "min           7.102300e+04  2.000000e+00      4.409300e+04   \n",
       "25%           2.750000e+05  9.720000e+02      2.689220e+05   \n",
       "50%           4.221580e+05  5.238200e+04      4.628225e+05   \n",
       "75%           8.318090e+05  3.620960e+05      9.664905e+05   \n",
       "max           5.145434e+06  1.035973e+07      1.476169e+07   \n",
       "\n",
       "       restricted_stock_deferred        salary  shared_receipt_with_poi  \\\n",
       "count                  10.000000  7.300000e+01                65.000000   \n",
       "mean              -221885.700000  2.739025e+05              1111.369231   \n",
       "std                205191.374121  1.716647e+05              1165.852016   \n",
       "min               -560222.000000  4.770000e+02                 2.000000   \n",
       "25%               -389621.750000  2.061210e+05               178.000000   \n",
       "50%               -139856.500000  2.516540e+05               599.000000   \n",
       "75%                -77953.250000  2.885890e+05              1902.000000   \n",
       "max                 44093.000000  1.111258e+06              4527.000000   \n",
       "\n",
       "        to_messages  total_payments  total_stock_value  \n",
       "count     65.000000    9.600000e+01       9.800000e+01  \n",
       "mean    2156.061538    2.590977e+06       3.527136e+06  \n",
       "std     2811.676718    1.056645e+07       7.182997e+06  \n",
       "min       57.000000    1.480000e+02      -4.409300e+04  \n",
       "25%      517.000000    3.024025e+05       4.211518e+05  \n",
       "50%     1088.000000    1.106740e+06       9.979710e+05  \n",
       "75%     2649.000000    1.985668e+06       2.493616e+06  \n",
       "max    15149.000000    1.035598e+08       4.911008e+07  "
      ]
     },
     "execution_count": 2,
     "metadata": {},
     "output_type": "execute_result"
    }
   ],
   "source": [
    "#try to find out if there is any outlier, by hist bin plt\n",
    "import matplotlib.pyplot as plt\n",
    "\n",
    "for dtype, feature in zip(df_train.dtypes, df_train.columns):\n",
    "    if dtype == 'float64' or dtype == 'int64':\n",
    "        df_train[feature].hist(bins = 25)\n",
    "        plt.title(feature)\n",
    "        plt.show(800,600)\n",
    "        \n",
    "df_train.describe()"
   ]
  },
  {
   "cell_type": "code",
   "execution_count": 3,
   "metadata": {},
   "outputs": [
    {
     "name": "stdout",
     "output_type": "stream",
     "text": [
      "(32, 22)\n"
     ]
    }
   ],
   "source": [
    "df_train = df_train.drop([50], axis = 0) # Belfer Robert, data incorrect \n",
    "df_train = df_train.drop([65], axis = 0) # drop travel agency\n",
    "df_train = df_train.drop([107], axis = 0) # drop LockHart (all NA)\n",
    "df_test = df_test.drop([20], axis=0) #total?\n",
    "print(df_test.shape)\n",
    "#print(df_train.loc[107])\n",
    "\n",
    "#BHATNAGAR SANJAY data has misalignment, shift it back!\n",
    "df_test.loc[\"BHATNAGAR SANJAY\", :] = [\n",
    "    'BHATNAGAR SANJAY',0,0,0,0,0,15456290,137864,29,0,1,0,0,0,2604490,-2604490,0,463,523,137864,15456290, 0\n",
    "]\n",
    "\n",
    "#print(df_test.loc[\"BHATNAGAR SANJAY\"])"
   ]
  },
  {
   "cell_type": "code",
   "execution_count": 4,
   "metadata": {},
   "outputs": [],
   "source": [
    "#fill NAN respectivly regarding to finaicial features and mail features \n",
    "#For finicial features, I believes NA represent 0, literally.\n",
    "#For mail features, I am gooing to fill NA with mean or median values groupby POI or not POI\n",
    "\n",
    "#drop some useless data\n",
    "\n",
    "F_features = {'salary', 'deferral_payments', 'total_payments', 'loan_advances', 'bonus', 'restricted_stock_deferred',\n",
    "              'deferred_income', 'total_stock_value', 'expenses', 'exercised_stock_options', 'other', 'long_term_incentive', 'restricted_stock', 'director_fees'}\n",
    "M_features = {'to_messages', 'email_address', 'from_poi_to_this_person', 'from_messages', 'from_this_person_to_poi', 'shared_receipt_with_poi'}\n",
    "\n",
    "#using 0 to fill in NA in Finance features\n",
    "for feature in df_train[F_features]:\n",
    "    df_train[feature] = df_train[feature].fillna(0)\n",
    "    #df[feature] = df[feature].fillna(df[feature].median())\n",
    "\n",
    "    ###########################using poi and non poi fill na###########################    \n",
    "#Deal poi and non-poi respectively. If he/she is poi, fill this person's mail amount with poi's median(or mean). Vice versa, for non poi person. \n",
    "df_POI = df_train[df_train['poi']==True]\n",
    "df_NotPOI = df_train[df_train['poi']==False]\n",
    "\n",
    "df_POI_temp = df_POI[M_features].fillna(df_POI[M_features].median())\n",
    "df_NotPOI_temp = df_NotPOI[M_features].fillna(df_NotPOI[M_features].median())\n",
    "\n",
    "df_train_temp = pd.concat([df_POI_temp,df_NotPOI_temp])\n",
    "\n",
    "for feature in df_train[M_features]:\n",
    "    df_train[feature] = df_train_temp[feature]\n",
    "\n",
    "#################################fill na with median##################################\n",
    "#for dtype, feature in  zip(df_train[M_features].dtypes, df_train[M_features]):\n",
    "#    if dtype == 'float64' or dtype == 'int64':\n",
    "#        df_train[feature] = df_train[feature].fillna(df_train[feature].median())\n",
    "\n",
    "\n",
    "#name & email address(?) seems useless, drop it for now\n",
    "#df_train = df_train.drop(['name', 'email_address'] , axis=1)\n"
   ]
  },
  {
   "cell_type": "code",
   "execution_count": 5,
   "metadata": {},
   "outputs": [
    {
     "data": {
      "text/html": [
       "<div>\n",
       "<style scoped>\n",
       "    .dataframe tbody tr th:only-of-type {\n",
       "        vertical-align: middle;\n",
       "    }\n",
       "\n",
       "    .dataframe tbody tr th {\n",
       "        vertical-align: top;\n",
       "    }\n",
       "\n",
       "    .dataframe thead th {\n",
       "        text-align: right;\n",
       "    }\n",
       "</style>\n",
       "<table border=\"1\" class=\"dataframe\">\n",
       "  <thead>\n",
       "    <tr style=\"text-align: right;\">\n",
       "      <th></th>\n",
       "      <th>bonus</th>\n",
       "      <th>salary</th>\n",
       "      <th>expenses</th>\n",
       "      <th>total_stock_value</th>\n",
       "      <th>exercised_stock_options</th>\n",
       "      <th>deferred_income</th>\n",
       "      <th>total_payments</th>\n",
       "      <th>other</th>\n",
       "      <th>shared_receipt_with_poi</th>\n",
       "      <th>ratio_messages_to_poi</th>\n",
       "      <th>deferral_payments</th>\n",
       "      <th>ratio_messages_from_poi</th>\n",
       "      <th>restricted_stock</th>\n",
       "      <th>long_term_incentive</th>\n",
       "    </tr>\n",
       "  </thead>\n",
       "  <tbody>\n",
       "    <tr>\n",
       "      <td>count</td>\n",
       "      <td>1.100000e+02</td>\n",
       "      <td>1.100000e+02</td>\n",
       "      <td>110.000000</td>\n",
       "      <td>1.100000e+02</td>\n",
       "      <td>1.100000e+02</td>\n",
       "      <td>1.100000e+02</td>\n",
       "      <td>1.100000e+02</td>\n",
       "      <td>1.100000e+02</td>\n",
       "      <td>110.000000</td>\n",
       "      <td>110.000000</td>\n",
       "      <td>1.100000e+02</td>\n",
       "      <td>110.000000</td>\n",
       "      <td>1.100000e+02</td>\n",
       "      <td>1.100000e+02</td>\n",
       "    </tr>\n",
       "    <tr>\n",
       "      <td>mean</td>\n",
       "      <td>6.363056e+05</td>\n",
       "      <td>1.817717e+05</td>\n",
       "      <td>33872.363636</td>\n",
       "      <td>3.142758e+06</td>\n",
       "      <td>2.198075e+06</td>\n",
       "      <td>-1.429751e+05</td>\n",
       "      <td>2.256993e+06</td>\n",
       "      <td>2.772104e+05</td>\n",
       "      <td>911.750000</td>\n",
       "      <td>0.146821</td>\n",
       "      <td>1.624250e+05</td>\n",
       "      <td>0.033048</td>\n",
       "      <td>9.652554e+05</td>\n",
       "      <td>3.530749e+05</td>\n",
       "    </tr>\n",
       "    <tr>\n",
       "      <td>std</td>\n",
       "      <td>1.255124e+06</td>\n",
       "      <td>1.906988e+05</td>\n",
       "      <td>45643.206094</td>\n",
       "      <td>6.865338e+06</td>\n",
       "      <td>5.310805e+06</td>\n",
       "      <td>4.944923e+05</td>\n",
       "      <td>9.903530e+06</td>\n",
       "      <td>1.081960e+06</td>\n",
       "      <td>934.010011</td>\n",
       "      <td>0.158407</td>\n",
       "      <td>5.099373e+05</td>\n",
       "      <td>0.029694</td>\n",
       "      <td>2.226966e+06</td>\n",
       "      <td>7.446039e+05</td>\n",
       "    </tr>\n",
       "    <tr>\n",
       "      <td>min</td>\n",
       "      <td>0.000000e+00</td>\n",
       "      <td>0.000000e+00</td>\n",
       "      <td>0.000000</td>\n",
       "      <td>0.000000e+00</td>\n",
       "      <td>0.000000e+00</td>\n",
       "      <td>-3.504386e+06</td>\n",
       "      <td>0.000000e+00</td>\n",
       "      <td>0.000000e+00</td>\n",
       "      <td>2.000000</td>\n",
       "      <td>0.000000</td>\n",
       "      <td>0.000000e+00</td>\n",
       "      <td>0.000000</td>\n",
       "      <td>0.000000e+00</td>\n",
       "      <td>0.000000e+00</td>\n",
       "    </tr>\n",
       "    <tr>\n",
       "      <td>25%</td>\n",
       "      <td>0.000000e+00</td>\n",
       "      <td>0.000000e+00</td>\n",
       "      <td>0.000000</td>\n",
       "      <td>3.248138e+05</td>\n",
       "      <td>0.000000e+00</td>\n",
       "      <td>-2.500000e+04</td>\n",
       "      <td>8.561700e+04</td>\n",
       "      <td>0.000000e+00</td>\n",
       "      <td>519.000000</td>\n",
       "      <td>0.046708</td>\n",
       "      <td>0.000000e+00</td>\n",
       "      <td>0.020199</td>\n",
       "      <td>1.102325e+04</td>\n",
       "      <td>0.000000e+00</td>\n",
       "    </tr>\n",
       "    <tr>\n",
       "      <td>50%</td>\n",
       "      <td>2.750000e+05</td>\n",
       "      <td>2.040380e+05</td>\n",
       "      <td>17674.000000</td>\n",
       "      <td>9.220070e+05</td>\n",
       "      <td>5.490075e+05</td>\n",
       "      <td>0.000000e+00</td>\n",
       "      <td>1.016876e+06</td>\n",
       "      <td>7.435000e+02</td>\n",
       "      <td>561.500000</td>\n",
       "      <td>0.106383</td>\n",
       "      <td>0.000000e+00</td>\n",
       "      <td>0.026630</td>\n",
       "      <td>3.643740e+05</td>\n",
       "      <td>0.000000e+00</td>\n",
       "    </tr>\n",
       "    <tr>\n",
       "      <td>75%</td>\n",
       "      <td>7.500000e+05</td>\n",
       "      <td>2.666300e+05</td>\n",
       "      <td>50722.000000</td>\n",
       "      <td>2.180983e+06</td>\n",
       "      <td>1.632528e+06</td>\n",
       "      <td>0.000000e+00</td>\n",
       "      <td>1.785966e+06</td>\n",
       "      <td>1.087765e+05</td>\n",
       "      <td>1015.750000</td>\n",
       "      <td>0.204117</td>\n",
       "      <td>0.000000e+00</td>\n",
       "      <td>0.030148</td>\n",
       "      <td>6.987505e+05</td>\n",
       "      <td>3.580560e+05</td>\n",
       "    </tr>\n",
       "    <tr>\n",
       "      <td>max</td>\n",
       "      <td>8.000000e+06</td>\n",
       "      <td>1.111258e+06</td>\n",
       "      <td>228763.000000</td>\n",
       "      <td>4.911008e+07</td>\n",
       "      <td>3.434838e+07</td>\n",
       "      <td>0.000000e+00</td>\n",
       "      <td>1.035598e+08</td>\n",
       "      <td>1.035973e+07</td>\n",
       "      <td>4527.000000</td>\n",
       "      <td>1.000000</td>\n",
       "      <td>2.964506e+06</td>\n",
       "      <td>0.161064</td>\n",
       "      <td>1.476169e+07</td>\n",
       "      <td>5.145434e+06</td>\n",
       "    </tr>\n",
       "  </tbody>\n",
       "</table>\n",
       "</div>"
      ],
      "text/plain": [
       "              bonus        salary       expenses  total_stock_value  \\\n",
       "count  1.100000e+02  1.100000e+02     110.000000       1.100000e+02   \n",
       "mean   6.363056e+05  1.817717e+05   33872.363636       3.142758e+06   \n",
       "std    1.255124e+06  1.906988e+05   45643.206094       6.865338e+06   \n",
       "min    0.000000e+00  0.000000e+00       0.000000       0.000000e+00   \n",
       "25%    0.000000e+00  0.000000e+00       0.000000       3.248138e+05   \n",
       "50%    2.750000e+05  2.040380e+05   17674.000000       9.220070e+05   \n",
       "75%    7.500000e+05  2.666300e+05   50722.000000       2.180983e+06   \n",
       "max    8.000000e+06  1.111258e+06  228763.000000       4.911008e+07   \n",
       "\n",
       "       exercised_stock_options  deferred_income  total_payments         other  \\\n",
       "count             1.100000e+02     1.100000e+02    1.100000e+02  1.100000e+02   \n",
       "mean              2.198075e+06    -1.429751e+05    2.256993e+06  2.772104e+05   \n",
       "std               5.310805e+06     4.944923e+05    9.903530e+06  1.081960e+06   \n",
       "min               0.000000e+00    -3.504386e+06    0.000000e+00  0.000000e+00   \n",
       "25%               0.000000e+00    -2.500000e+04    8.561700e+04  0.000000e+00   \n",
       "50%               5.490075e+05     0.000000e+00    1.016876e+06  7.435000e+02   \n",
       "75%               1.632528e+06     0.000000e+00    1.785966e+06  1.087765e+05   \n",
       "max               3.434838e+07     0.000000e+00    1.035598e+08  1.035973e+07   \n",
       "\n",
       "       shared_receipt_with_poi  ratio_messages_to_poi  deferral_payments  \\\n",
       "count               110.000000             110.000000       1.100000e+02   \n",
       "mean                911.750000               0.146821       1.624250e+05   \n",
       "std                 934.010011               0.158407       5.099373e+05   \n",
       "min                   2.000000               0.000000       0.000000e+00   \n",
       "25%                 519.000000               0.046708       0.000000e+00   \n",
       "50%                 561.500000               0.106383       0.000000e+00   \n",
       "75%                1015.750000               0.204117       0.000000e+00   \n",
       "max                4527.000000               1.000000       2.964506e+06   \n",
       "\n",
       "       ratio_messages_from_poi  restricted_stock  long_term_incentive  \n",
       "count               110.000000      1.100000e+02         1.100000e+02  \n",
       "mean                  0.033048      9.652554e+05         3.530749e+05  \n",
       "std                   0.029694      2.226966e+06         7.446039e+05  \n",
       "min                   0.000000      0.000000e+00         0.000000e+00  \n",
       "25%                   0.020199      1.102325e+04         0.000000e+00  \n",
       "50%                   0.026630      3.643740e+05         0.000000e+00  \n",
       "75%                   0.030148      6.987505e+05         3.580560e+05  \n",
       "max                   0.161064      1.476169e+07         5.145434e+06  "
      ]
     },
     "execution_count": 5,
     "metadata": {},
     "output_type": "execute_result"
    }
   ],
   "source": [
    "#test: feature selection\n",
    "df_train['ratio_messages_to_poi'] = df_train['from_this_person_to_poi']/df_train['from_messages']  #from_this_person_to_poi/from_messages\n",
    "df_train['ratio_messages_from_poi'] = df_train['from_poi_to_this_person']/df_train['to_messages']\n",
    "#seleFeatures = {'salary', 'deferral_payments', 'total_payments', 'loan_advances', 'bonus', 'restricted_stock_deferred',\n",
    "#                'deferred_income', 'total_stock_value', 'expenses', 'exercised_stock_options', 'other', \n",
    "#                'long_term_incentive', 'restricted_stock', 'director_fees', 'ratio_messages_to_poi', 'ratio_messages_from_poi',\n",
    "#               'shared_receipt_with_poi'}\n",
    "\n",
    "#Features selection is based on print(\"Feature names:\", seleFeatures)\n",
    "#                               print(\"Feature importance gdbt: \", gdbt.feature_importances_)\n",
    "#                               print(\"Feature importance rf: \", rf.feature_importances_)\n",
    "#  in latter cell. Then I feed back to here to modify my feature\n",
    "seleFeatures = {'salary', 'deferral_payments', 'total_payments','bonus', \n",
    "                'deferred_income', 'total_stock_value', 'expenses', 'exercised_stock_options', 'other', \n",
    "                'long_term_incentive', 'restricted_stock',  'ratio_messages_to_poi', 'ratio_messages_from_poi',\n",
    "               'shared_receipt_with_poi'}\n",
    " \n",
    "df_train[seleFeatures].describe()    "
   ]
  },
  {
   "cell_type": "code",
   "execution_count": 6,
   "metadata": {},
   "outputs": [
    {
     "name": "stdout",
     "output_type": "stream",
     "text": [
      "(102, 24)\n"
     ]
    }
   ],
   "source": [
    "#kick out more non poi outlier and data na\n",
    "\n",
    "# HAEDICKE MARK E   \n",
    "# WHALLEY LAWRENCE G \n",
    "# KITCHEN LOUISE\n",
    "# HUMPHREY GENE E\n",
    "# LAVORATO JOHN J\n",
    "# Mcclellan GeoRGE\n",
    "# URQUHART JOHN A\n",
    "# PEREIRA PAULO V. FERRAZ\n",
    "# BELFER ROBERT\n",
    "# THE TRAVEL AGENCY IN THE PARK\n",
    "# LOCKHART EUGENE E\n",
    "\n",
    "\n",
    "#df_train.index = pd.DataFrame({'name': df_test['name'], 'poi': stacking_pred[:,1]})\n",
    "df_train.index = df_train['name']\n",
    "df_train = df_train.drop(['HAEDICKE MARK E'], axis = 0)\n",
    "\n",
    "df_train = df_train.drop(['WHALLEY LAWRENCE G'], axis = 0)\n",
    "df_train = df_train.drop(['KITCHEN LOUISE'],axis = 0)\n",
    "\n",
    "df_train = df_train.drop(['HUMPHREY GENE E'], axis = 0) #must\n",
    "\n",
    "df_train = df_train.drop(['LAVORATO JOHN J'], axis = 0)\n",
    "df_train = df_train.drop(['MCCLELLAN GEORGE'], axis = 0)\n",
    "df_train = df_train.drop(['URQUHART JOHN A'], axis = 0)\n",
    "df_train = df_train.drop(['PEREIRA PAULO V. FERRAZ'], axis = 0)\n",
    "#df_train.drop(['BELFER ROBERT'], axis = 0)\n",
    "#df_train.drop(['THE TRAVEL AGENCY IN THE PARK'], axis = 0)\n",
    "#df_train.drop(['LOCKHART EUGENE E'], axis = 0)\n",
    "\n",
    "print(df_train.shape)"
   ]
  },
  {
   "cell_type": "code",
   "execution_count": 7,
   "metadata": {},
   "outputs": [],
   "source": [
    "# Since non poi is out number poi\n",
    "# I want to cut my list to half to avoid over fitting\n",
    "df_train.index = range(102)\n",
    "df_train = df_train.loc[0:50]\n",
    "#print(df_train)"
   ]
  },
  {
   "cell_type": "code",
   "execution_count": 8,
   "metadata": {},
   "outputs": [
    {
     "name": "stdout",
     "output_type": "stream",
     "text": [
      "[[0.91204509 0.93021479 0.91531388 0.95603169 0.96823622 0.\n",
      "  0.71156561 0.74730976 0.8567044  0.66056306 0.         0.41500247\n",
      "  0.89816598 0.92509649]\n",
      " [0.98584242 1.         0.87529816 0.96429212 0.96662968 1.\n",
      "  0.8656881  0.61933124 0.96588918 0.71092162 0.         0.29142833\n",
      "  0.95343274 0.93621012]\n",
      " [0.77442718 0.88094264 0.85416339 0.83171079 0.82414665 0.99992105\n",
      "  0.78624111 0.88332294 0.56891394 0.76879208 0.         0.45675174\n",
      "  0.82843031 0.        ]\n",
      " [0.86238209 0.88504842 0.99383076 0.77926373 0.         1.\n",
      "  0.80143737 0.84925898 0.90441543 0.77864857 0.         0.33280983\n",
      "  0.83600732 0.86123034]\n",
      " [0.89069725 0.88996326 0.89228538 0.6631583  0.         0.99483328\n",
      "  0.77535988 0.38296548 0.97465028 0.60485221 0.         0.51047515\n",
      "  0.71144744 0.83058153]\n",
      " [0.         0.         0.95848443 0.97359327 0.99365247 1.\n",
      "  0.61876066 0.49259966 0.90441543 0.77864857 0.62112186 0.33280983\n",
      "  0.         0.        ]\n",
      " [0.         0.86005997 0.92713468 0.91988472 0.91820745 1.\n",
      "  0.69326659 0.73697195 0.90441543 0.77864857 0.         0.33280983\n",
      "  0.91411606 0.        ]\n",
      " [0.88810726 0.90313864 0.82640408 0.75983309 0.         0.99721438\n",
      "  0.77019829 0.71379088 0.89101661 0.70865348 0.68770162 0.62058603\n",
      "  0.8151618  0.        ]\n",
      " [1.         0.99743788 0.97950727 1.         1.         0.9940612\n",
      "  1.         1.         0.98696211 0.81699102 0.82183925 0.32399811\n",
      "  1.         0.97688724]\n",
      " [0.8441298  0.89967908 0.99930109 0.76598018 0.74113896 1.\n",
      "  0.76162676 0.75572844 0.8581663  0.77864857 0.         0.46255533\n",
      "  0.78046998 0.72285709]\n",
      " [0.85391005 0.90827889 1.         0.81695154 0.77325792 1.\n",
      "  0.7736175  0.73801257 0.97937355 0.68341379 0.         0.27557277\n",
      "  0.85035701 0.81608953]\n",
      " [0.85391005 0.89260916 0.88600867 0.81691718 0.82453002 0.99807886\n",
      "  0.75369846 0.46897665 0.90441543 0.8791454  0.82563029 0.3071939\n",
      "  0.76059111 0.        ]\n",
      " [0.89318565 0.93356167 0.93019268 0.81313008 0.         0.96659571\n",
      "  0.79655586 0.77589969 0.90441543 0.77864857 0.         0.33280983\n",
      "  0.87233971 0.92969321]\n",
      " [0.85828738 0.89912969 0.         0.77274349 0.74841684 1.\n",
      "  0.78997824 0.84292843 0.80192355 0.49432148 0.         0.30917181\n",
      "  0.78733797 0.81711775]\n",
      " [0.96721134 0.87750861 0.81154505 0.8110509  0.8277612  0.85974235\n",
      "  0.82988768 0.31101001 0.91862425 0.20571555 1.         0.21441663\n",
      "  0.71144744 0.81711775]\n",
      " [0.86622849 0.89242011 0.96502482 0.77747716 0.78077392 1.\n",
      "  0.78653638 0.34703464 0.98240918 0.5608512  0.         0.12446207\n",
      "  0.73601001 0.88208186]\n",
      " [0.83380244 0.87388043 0.92080555 0.71552896 0.65291635 0.99998027\n",
      "  0.74290489 0.69617757 0.80192355 0.49432148 0.75320057 0.30917181\n",
      "  0.74928847 0.        ]\n",
      " [0.         0.         0.         0.66874355 0.68252186 1.\n",
      "  0.         0.         0.80192355 0.49432148 0.         0.30917181\n",
      "  0.         0.        ]\n",
      " [0.80523074 0.87117033 0.8521314  0.69143415 0.         1.\n",
      "  0.73702393 0.40669249 0.80192355 0.49432148 0.         0.30917181\n",
      "  0.74178226 0.81045905]\n",
      " [0.87653967 0.8993573  0.         0.72250887 0.         1.\n",
      "  0.80167413 0.49733432 1.         0.66056306 0.         0.2872967\n",
      "  0.77511974 0.91518628]\n",
      " [0.         0.88433651 0.91384226 0.86889873 0.8822564  1.\n",
      "  0.74355485 0.80253325 0.54027499 1.         0.65342936 1.\n",
      "  0.77591962 0.78985198]\n",
      " [0.         0.82328915 0.83758979 0.89242259 0.89193366 1.\n",
      "  0.67341748 0.3200857  0.80192355 0.49432148 0.         0.30917181\n",
      "  0.8801404  0.76481778]\n",
      " [0.83256222 0.89226705 0.54432336 0.78092848 0.78513425 1.\n",
      "  0.75146093 0.43968968 0.38587916 1.         0.         1.\n",
      "  0.73601001 0.81711775]\n",
      " [0.         0.         0.         0.80979059 0.78016741 1.\n",
      "  0.         0.         0.83353715 0.42114777 0.         0.46521714\n",
      "  0.83278891 0.        ]\n",
      " [0.         0.         0.         0.78223135 0.771526   1.\n",
      "  0.         0.         0.51019474 1.         0.         0.17383715\n",
      "  0.77930784 0.        ]\n",
      " [0.         0.         0.         0.81769087 0.8285628  1.\n",
      "  0.         0.         0.80192355 0.49432148 0.         0.30917181\n",
      "  0.75624527 0.        ]\n",
      " [0.         0.         0.         0.         0.         0.99966779\n",
      "  0.         0.         0.29184203 1.         0.         1.\n",
      "  0.         0.        ]\n",
      " [0.70782011 0.8839831  0.87182891 0.         0.         1.\n",
      "  0.68682952 0.41177441 0.59804795 0.65235569 0.         0.45356066\n",
      "  0.         0.        ]\n",
      " [0.81840464 0.89971199 0.96439294 0.77874573 0.78682295 1.\n",
      "  0.75308971 0.52302803 0.80670277 0.         0.         0.10033249\n",
      "  0.71144744 0.82096292]\n",
      " [0.         0.         0.         0.64936751 0.66274661 1.\n",
      "  0.         0.         0.80192355 0.49432148 0.         0.30917181\n",
      "  0.         0.        ]\n",
      " [0.78858476 0.87233528 0.93500538 0.75658827 0.         0.99009716\n",
      "  0.72257608 0.80263286 0.68980132 1.         0.         0.13082203\n",
      "  0.8116807  0.78312394]\n",
      " [0.85828738 0.88055095 0.86431946 0.80808047 0.8176757  1.\n",
      "  0.78860549 0.45547931 0.81014598 0.68714408 0.         0.59160598\n",
      "  0.73601001 0.90047205]\n",
      " [0.8441298  0.87897535 0.90507244 0.67635648 0.56263966 1.\n",
      "  0.75884655 0.62825702 0.79975301 0.3415238  0.         0.65208977\n",
      "  0.71860502 0.82329751]\n",
      " [0.8441298  0.89286784 0.69377952 0.8153114  0.82144559 1.\n",
      "  0.76721339 0.381287   0.9568781  0.66056306 0.         0.59375198\n",
      "  0.76695492 0.85606293]\n",
      " [0.         0.82471178 0.81643907 0.89675489 0.91237657 1.\n",
      "  0.62972769 0.         0.88303092 0.6600519  0.         0.59929084\n",
      "  0.77851077 0.        ]\n",
      " [0.         0.         0.         0.72029445 0.         1.\n",
      "  0.         0.         0.80405755 0.24863249 0.         0.17562691\n",
      "  0.77274407 0.        ]\n",
      " [0.         0.81171987 0.         0.80664217 0.82326163 1.\n",
      "  0.74041492 0.41929656 0.80192355 0.49432148 0.90362991 0.30917181\n",
      "  0.         0.74082233]\n",
      " [0.         0.         0.         0.73016476 0.74520854 0.9995249\n",
      "  0.61657523 0.         0.80192355 0.49432148 0.         0.30917181\n",
      "  0.         0.        ]\n",
      " [0.         0.91690386 0.76694789 0.82120588 0.83812541 1.\n",
      "  0.8639397  0.9194142  0.78117169 1.         0.76366264 0.\n",
      "  0.         1.        ]\n",
      " [0.         0.         0.         0.71976602 0.73459556 1.\n",
      "  0.65618976 0.         0.         1.         0.81443441 1.\n",
      "  0.         0.        ]\n",
      " [0.         0.63192968 0.         0.         0.         1.\n",
      "  0.75599368 0.83146841 0.80192355 0.49432148 0.76979407 0.30917181\n",
      "  0.         0.82889079]\n",
      " [0.8099326  0.865532   0.95910849 0.88734141 0.88766223 0.99194173\n",
      "  0.66445978 0.58623439 0.80192355 0.49432148 0.         0.30917181\n",
      "  0.8721361  0.        ]\n",
      " [0.85828738 0.89607412 0.77854569 0.73080946 0.         0.99856438\n",
      "  0.76159685 0.73809398 0.80192355 0.49432148 0.         0.30917181\n",
      "  0.78402475 0.7812112 ]\n",
      " [0.77442718 0.87013177 0.84897361 0.78061794 0.7668873  1.\n",
      "  0.80224254 0.67431867 0.80192355 0.49432148 0.         0.30917181\n",
      "  0.7825393  0.94603403]\n",
      " [0.88258673 0.8933128  0.         0.79979025 0.79934586 0.98476204\n",
      "  0.81163764 0.4242626  0.59804795 1.         0.91761166 0.53742541\n",
      "  0.77511974 0.92930027]\n",
      " [0.86622849 0.88745471 0.91791086 0.77392408 0.77012967 1.\n",
      "  0.77289757 0.68193385 0.65533497 0.8897896  0.         0.42081692\n",
      "  0.75529573 0.83058153]\n",
      " [0.88258673 0.92003116 0.96210133 0.84402507 0.82409745 1.\n",
      "  0.78881478 0.38948796 0.97470825 0.40227313 0.         0.31623345\n",
      "  0.86059928 0.85583062]\n",
      " [0.80015235 0.89207012 0.         0.78888621 0.76590272 0.98810696\n",
      "  0.69884802 0.7386662  0.75188469 0.8766572  0.         0.27050417\n",
      "  0.80358624 0.81045905]\n",
      " [0.85391005 0.89495853 0.         0.7598879  0.         1.\n",
      "  0.7721519  0.71925153 0.99481611 0.75792964 0.         0.1863589\n",
      "  0.81522059 0.84602313]\n",
      " [0.         0.88253154 0.79846497 0.83171079 0.82414665 1.\n",
      "  0.66858502 0.         0.80192355 0.49432148 0.         0.30917181\n",
      "  0.82843031 0.        ]\n",
      " [0.         0.         0.60872936 0.         0.         0.99780963\n",
      "  0.38762276 0.         0.80192355 0.49432148 0.         0.30917181\n",
      "  0.         0.        ]]\n"
     ]
    },
    {
     "name": "stderr",
     "output_type": "stream",
     "text": [
      "C:\\Users\\AlbertHsu\\AppData\\Local\\Continuum\\anaconda3\\lib\\site-packages\\ipykernel_launcher.py:22: SettingWithCopyWarning: \n",
      "A value is trying to be set on a copy of a slice from a DataFrame.\n",
      "Try using .loc[row_indexer,col_indexer] = value instead\n",
      "\n",
      "See the caveats in the documentation: http://pandas.pydata.org/pandas-docs/stable/user_guide/indexing.html#returning-a-view-versus-a-copy\n",
      "C:\\Users\\AlbertHsu\\AppData\\Local\\Continuum\\anaconda3\\lib\\site-packages\\ipykernel_launcher.py:23: SettingWithCopyWarning: \n",
      "A value is trying to be set on a copy of a slice from a DataFrame.\n",
      "Try using .loc[row_indexer,col_indexer] = value instead\n",
      "\n",
      "See the caveats in the documentation: http://pandas.pydata.org/pandas-docs/stable/user_guide/indexing.html#returning-a-view-versus-a-copy\n"
     ]
    }
   ],
   "source": [
    "from sklearn.preprocessing import MinMaxScaler, StandardScaler\n",
    "from sklearn.model_selection import cross_val_score\n",
    "# 使用三種模型 : 邏輯斯迴歸 / 梯度提升機 / 隨機森林, 參數使用 Random Search 尋找\n",
    "from sklearn.linear_model import LogisticRegression\n",
    "from sklearn.ensemble import GradientBoostingClassifier, RandomForestClassifier\n",
    "import numpy as np\n",
    "\n",
    "lr = LogisticRegression(tol=0.001, penalty='l2', fit_intercept=True, C=1.0)\n",
    "#gdbt = GradientBoostingClassifier(tol=100, subsample=0.75, n_estimators=250, max_features=10,\n",
    "#                                  max_depth=6, learning_rate=0.03)\n",
    "gdbt = GradientBoostingClassifier()\n",
    "#rf = RandomForestClassifier(n_estimators=100, min_samples_split=2, min_samples_leaf=1, \n",
    "#                            max_features='sqrt', max_depth=6, bootstrap=True)\n",
    "rf = RandomForestClassifier()\n",
    "\n",
    "#分出target & train data\n",
    "train_Y = df_train['poi']\n",
    "train_X = df_train[seleFeatures]\n",
    "\n",
    "#take log to get rid off outlier(and abs)\n",
    "for feature in train_X.columns:\n",
    "    train_X[feature] = train_X[feature] - train_X[feature].min()\n",
    "    train_X[feature] = train_X[feature].map(lambda i: np.log(i) if i > 0 else 0)\n",
    "    \n",
    "\n",
    "# 將資料最大最小化 or standard\n",
    "#train_X = StandardScaler().fit_transform(train_X)\n",
    "train_X = MinMaxScaler().fit_transform(train_X)\n",
    "print(train_X)"
   ]
  },
  {
   "cell_type": "code",
   "execution_count": 9,
   "metadata": {},
   "outputs": [
    {
     "name": "stdout",
     "output_type": "stream",
     "text": [
      "Feature names: {'bonus', 'salary', 'expenses', 'total_stock_value', 'exercised_stock_options', 'deferred_income', 'total_payments', 'other', 'shared_receipt_with_poi', 'ratio_messages_to_poi', 'deferral_payments', 'ratio_messages_from_poi', 'restricted_stock', 'long_term_incentive'}\n",
      "Feature importance gdbt:  [1.24189720e-03 2.31825195e-04 2.79577273e-01 2.99095024e-03\n",
      " 7.81232215e-03 1.21053123e-06 1.14220329e-02 5.95734033e-02\n",
      " 4.44790153e-01 1.77145454e-01 0.00000000e+00 4.45289590e-03\n",
      " 8.34671688e-05 1.06771157e-02]\n",
      "Feature importance rf:  [0.13763653 0.02084823 0.1702758  0.03754379 0.09819482 0.\n",
      " 0.06115142 0.06583848 0.17000265 0.13487085 0.00466463 0.03519368\n",
      " 0.04779622 0.01598291]\n"
     ]
    },
    {
     "name": "stderr",
     "output_type": "stream",
     "text": [
      "C:\\Users\\AlbertHsu\\AppData\\Local\\Continuum\\anaconda3\\lib\\site-packages\\sklearn\\linear_model\\logistic.py:432: FutureWarning: Default solver will be changed to 'lbfgs' in 0.22. Specify a solver to silence this warning.\n",
      "  FutureWarning)\n",
      "C:\\Users\\AlbertHsu\\AppData\\Local\\Continuum\\anaconda3\\lib\\site-packages\\sklearn\\ensemble\\forest.py:245: FutureWarning: The default value of n_estimators will change from 10 in version 0.20 to 100 in 0.22.\n",
      "  \"10 in version 0.20 to 100 in 0.22.\", FutureWarning)\n"
     ]
    }
   ],
   "source": [
    "#Trainning\n",
    "lr = LogisticRegression(tol=0.001, penalty='l2', fit_intercept=True, C=1.0)\n",
    "#gdbt = GradientBoostingClassifier(tol=100, subsample=0.75, n_estimators=250, max_features=12,\n",
    "#                                  max_depth=6, learning_rate=0.03)\n",
    "gdbt = GradientBoostingClassifier()\n",
    "#rf = RandomForestClassifier(n_estimators=100, min_samples_split=2, min_samples_leaf=1, \n",
    "#                            max_features='sqrt', max_depth=6, bootstrap=True)\n",
    "rf = RandomForestClassifier()\n",
    "\n",
    "lr.fit(train_X, train_Y)\n",
    "gdbt.fit(train_X, train_Y)\n",
    "rf.fit(train_X, train_Y)\n",
    "\n",
    "print(\"Feature names:\", seleFeatures)\n",
    "print(\"Feature importance gdbt: \", gdbt.feature_importances_)\n",
    "print(\"Feature importance rf: \", rf.feature_importances_)"
   ]
  },
  {
   "cell_type": "code",
   "execution_count": 10,
   "metadata": {},
   "outputs": [],
   "source": [
    "from mlxtend.classifier import StackingClassifier\n",
    "\n",
    "#meta_estimator = GradientBoostingClassifier(tol=100, subsample=0.70, n_estimators=50, \n",
    "#                                           max_features='sqrt', max_depth=4, learning_rate=0.3)\n",
    "meta_estimator = GradientBoostingClassifier()\n",
    "stacking = StackingClassifier(classifiers=[lr, gdbt, rf], meta_classifier=meta_estimator, use_probas=True, average_probas=False)"
   ]
  },
  {
   "cell_type": "code",
   "execution_count": 11,
   "metadata": {},
   "outputs": [
    {
     "name": "stderr",
     "output_type": "stream",
     "text": [
      "C:\\Users\\AlbertHsu\\AppData\\Local\\Continuum\\anaconda3\\lib\\site-packages\\sklearn\\linear_model\\logistic.py:432: FutureWarning: Default solver will be changed to 'lbfgs' in 0.22. Specify a solver to silence this warning.\n",
      "  FutureWarning)\n",
      "C:\\Users\\AlbertHsu\\AppData\\Local\\Continuum\\anaconda3\\lib\\site-packages\\sklearn\\linear_model\\logistic.py:432: FutureWarning: Default solver will be changed to 'lbfgs' in 0.22. Specify a solver to silence this warning.\n",
      "  FutureWarning)\n",
      "C:\\Users\\AlbertHsu\\AppData\\Local\\Continuum\\anaconda3\\lib\\site-packages\\sklearn\\linear_model\\logistic.py:432: FutureWarning: Default solver will be changed to 'lbfgs' in 0.22. Specify a solver to silence this warning.\n",
      "  FutureWarning)\n"
     ]
    },
    {
     "data": {
      "text/plain": [
       "0.9004629629629629"
      ]
     },
     "execution_count": 11,
     "metadata": {},
     "output_type": "execute_result"
    }
   ],
   "source": [
    "#evaluation 1\n",
    "cross_val_score(stacking, train_X, train_Y, cv=3).mean()"
   ]
  },
  {
   "cell_type": "code",
   "execution_count": 12,
   "metadata": {},
   "outputs": [
    {
     "name": "stderr",
     "output_type": "stream",
     "text": [
      "C:\\Users\\AlbertHsu\\AppData\\Local\\Continuum\\anaconda3\\lib\\site-packages\\sklearn\\model_selection\\_split.py:1978: FutureWarning: The default value of cv will change from 3 to 5 in version 0.22. Specify it explicitly to silence this warning.\n",
      "  warnings.warn(CV_WARNING, FutureWarning)\n",
      "[Parallel(n_jobs=-1)]: Using backend LokyBackend with 4 concurrent workers.\n"
     ]
    },
    {
     "name": "stdout",
     "output_type": "stream",
     "text": [
      "Fitting 3 folds for each of 9 candidates, totalling 27 fits\n"
     ]
    },
    {
     "name": "stderr",
     "output_type": "stream",
     "text": [
      "[Parallel(n_jobs=-1)]: Done  27 out of  27 | elapsed:    4.3s finished\n",
      "C:\\Users\\AlbertHsu\\AppData\\Local\\Continuum\\anaconda3\\lib\\site-packages\\sklearn\\model_selection\\_search.py:814: DeprecationWarning: The default of the `iid` parameter will change from True to False in version 0.22 and will be removed in 0.24. This will change numeric results when test-set sizes are unequal.\n",
      "  DeprecationWarning)\n"
     ]
    }
   ],
   "source": [
    "#try grid search\n",
    "from sklearn.model_selection import KFold, GridSearchCV\n",
    "\n",
    "n_estimators = [50, 100, 150]\n",
    "max_depth = [1, 3, 5]\n",
    "param_grid = dict(n_estimators=n_estimators, max_depth=max_depth)\n",
    "\n",
    "## 建立搜尋物件，放入模型及參數組合字典 (n_jobs=-1 會使用全部 cpu 平行運算)\n",
    "grid_search = GridSearchCV(gdbt, param_grid, scoring=\"accuracy\", n_jobs=-1, verbose=1)\n",
    "\n",
    "# 開始搜尋最佳參數\n",
    "grid_result = grid_search.fit(train_X, train_Y)\n"
   ]
  },
  {
   "cell_type": "code",
   "execution_count": 13,
   "metadata": {},
   "outputs": [
    {
     "data": {
      "text/plain": [
       "GradientBoostingClassifier(criterion='friedman_mse', init=None,\n",
       "                           learning_rate=0.1, loss='deviance', max_depth=1,\n",
       "                           max_features=None, max_leaf_nodes=None,\n",
       "                           min_impurity_decrease=0.0, min_impurity_split=None,\n",
       "                           min_samples_leaf=1, min_samples_split=2,\n",
       "                           min_weight_fraction_leaf=0.0, n_estimators=100,\n",
       "                           n_iter_no_change=None, presort='auto',\n",
       "                           random_state=None, subsample=1.0, tol=0.0001,\n",
       "                           validation_fraction=0.1, verbose=0,\n",
       "                           warm_start=False)"
      ]
     },
     "execution_count": 13,
     "metadata": {},
     "output_type": "execute_result"
    }
   ],
   "source": [
    "# 使用最佳參數重新建立模型\n",
    "gdbt_bestparam = GradientBoostingClassifier(max_depth=grid_result.best_params_['max_depth'],\n",
    "                                           n_estimators=grid_result.best_params_['n_estimators'])\n",
    "\n",
    "# 訓練模型\n",
    "gdbt_bestparam.fit(train_X, train_Y)"
   ]
  },
  {
   "cell_type": "code",
   "execution_count": 14,
   "metadata": {},
   "outputs": [
    {
     "name": "stderr",
     "output_type": "stream",
     "text": [
      "C:\\Users\\AlbertHsu\\AppData\\Local\\Continuum\\anaconda3\\lib\\site-packages\\ipykernel_launcher.py:16: SettingWithCopyWarning: \n",
      "A value is trying to be set on a copy of a slice from a DataFrame.\n",
      "Try using .loc[row_indexer,col_indexer] = value instead\n",
      "\n",
      "See the caveats in the documentation: http://pandas.pydata.org/pandas-docs/stable/user_guide/indexing.html#returning-a-view-versus-a-copy\n",
      "  app.launch_new_instance()\n",
      "C:\\Users\\AlbertHsu\\AppData\\Local\\Continuum\\anaconda3\\lib\\site-packages\\ipykernel_launcher.py:17: SettingWithCopyWarning: \n",
      "A value is trying to be set on a copy of a slice from a DataFrame.\n",
      "Try using .loc[row_indexer,col_indexer] = value instead\n",
      "\n",
      "See the caveats in the documentation: http://pandas.pydata.org/pandas-docs/stable/user_guide/indexing.html#returning-a-view-versus-a-copy\n"
     ]
    }
   ],
   "source": [
    "# pre process test_X data as train\n",
    "for feature in df_test[F_features]:\n",
    "    df_test[feature] = df_test[feature].fillna(0)\n",
    "\n",
    "\n",
    "M_features = {'to_messages','from_poi_to_this_person', 'from_messages', 'from_this_person_to_poi', 'shared_receipt_with_poi'}\n",
    "for feature in df_test[M_features]:\n",
    "    df_test[feature] = df_test[feature].fillna(df_train[feature].median())\n",
    "    \n",
    "df_test['ratio_messages_to_poi'] = df_test['from_this_person_to_poi']/df_test['from_messages']  #from_this_person_to_poi/from_messages\n",
    "df_test['ratio_messages_from_poi'] = df_test['from_poi_to_this_person']/df_test['to_messages']\n",
    "\n",
    "test_X = df_test[seleFeatures]\n",
    "#take log to get rid off outlier(and abs)\n",
    "for feature in test_X.columns:\n",
    "    test_X[feature] = test_X[feature] - test_X[feature].min()\n",
    "    test_X[feature] = test_X[feature].map(lambda i: np.log(i) if i > 0 else 0)\n",
    "    \n",
    "# 將資料最大最小化 or standard\n",
    "#test_X = StandardScaler().fit_transform(test_X)\n",
    "test_X = MinMaxScaler().fit_transform(test_X)"
   ]
  },
  {
   "cell_type": "code",
   "execution_count": 15,
   "metadata": {},
   "outputs": [
    {
     "name": "stderr",
     "output_type": "stream",
     "text": [
      "C:\\Users\\AlbertHsu\\AppData\\Local\\Continuum\\anaconda3\\lib\\site-packages\\sklearn\\linear_model\\logistic.py:432: FutureWarning: Default solver will be changed to 'lbfgs' in 0.22. Specify a solver to silence this warning.\n",
      "  FutureWarning)\n"
     ]
    }
   ],
   "source": [
    "#train, predict and save to csv file\n",
    "stacking.fit(train_X, train_Y)\n",
    "stacking_pred = stacking.predict_proba(test_X)\n",
    "gdbtCV_pred = gdbt_bestparam.predict_proba(test_X)\n",
    "\n",
    "sub = pd.DataFrame({'name': df_test['name'], 'poi': stacking_pred[:,1]})\n",
    "sub = sub.drop(['BHATNAGAR SANJAY'], axis = 0)\n",
    "sub = sub.reset_index(drop=True)"
   ]
  },
  {
   "cell_type": "code",
   "execution_count": 16,
   "metadata": {},
   "outputs": [],
   "source": [
    "line = pd.DataFrame({\"name\": 'TOTAL', \"poi\": 0.000000}, index=[20])\n",
    "sub2 = pd.concat([sub.iloc[:20], line, sub.iloc[20:]]).reset_index(drop=True)\n",
    "#sub = pd.DataFrame(df_test['name'], stacking_pred[:,1])\n",
    "sub2.to_csv('eeron_stacking.csv', index=False)"
   ]
  },
  {
   "cell_type": "code",
   "execution_count": 17,
   "metadata": {},
   "outputs": [
    {
     "name": "stdout",
     "output_type": "stream",
     "text": [
      "[9.99468375e-01 9.99468375e-01 1.59298039e-01 9.99468375e-01\n",
      " 9.99468375e-01 1.82420726e-04 9.99468375e-01 1.82420726e-04\n",
      " 1.59298039e-01 1.82420726e-04 1.82420726e-04 1.82420726e-04\n",
      " 1.82420726e-04 1.82420726e-04 1.82420726e-04 1.82420726e-04\n",
      " 1.82420726e-04 1.82420726e-04 1.82420726e-04 1.82420726e-04\n",
      " 9.99468375e-01 1.82420726e-04 1.82420726e-04 1.82420726e-04\n",
      " 1.82420726e-04 1.82420726e-04 1.82420726e-04 1.59298039e-01\n",
      " 1.82420726e-04 1.82420726e-04 1.82420726e-04 9.99468375e-01\n",
      " 1.82420726e-04]\n"
     ]
    }
   ],
   "source": [
    "print(stacking_pred[:,1])"
   ]
  },
  {
   "cell_type": "code",
   "execution_count": 18,
   "metadata": {},
   "outputs": [
    {
     "name": "stdout",
     "output_type": "stream",
     "text": [
      "F1-Score:  0.588235294117647\n",
      "Precision:  0.7142857142857143\n",
      "Recall:  0.5\n"
     ]
    },
    {
     "name": "stderr",
     "output_type": "stream",
     "text": [
      "C:\\Users\\AlbertHsu\\AppData\\Local\\Continuum\\anaconda3\\lib\\site-packages\\sklearn\\linear_model\\logistic.py:432: FutureWarning: Default solver will be changed to 'lbfgs' in 0.22. Specify a solver to silence this warning.\n",
      "  FutureWarning)\n"
     ]
    }
   ],
   "source": [
    "#evaluation 2\n",
    "from sklearn.model_selection import train_test_split\n",
    "from sklearn import metrics\n",
    "\n",
    "#recover all sample\n",
    "train_Y = df_train['poi']\n",
    "train_X = df_train[seleFeatures]\n",
    "\n",
    "vald_X_train, vald_X_test, vald_y_train, vald_y_test = train_test_split(train_X, train_Y, test_size=40, random_state=2)\n",
    "\n",
    "\n",
    "stacking.fit(vald_X_train, vald_y_train)\n",
    "vald_stacking_pred = stacking.predict_proba(vald_X_test)\n",
    "vald_stacking_pred = vald_stacking_pred[:,1]\n",
    "\n",
    "\n",
    "threshold = 0.5 \n",
    "vald_pred_binarized = np.where(vald_stacking_pred>threshold, 1, 0) # 使用 np.where 函數, 將 vald_stacking_pred > 0.5 的值變為 1，小於 0.5 的為 0\n",
    "f1 = metrics.f1_score(vald_y_test, vald_pred_binarized) # 使用 F1-Score 評估\n",
    "precision = metrics.precision_score(vald_y_test, vald_pred_binarized) # 使用 Precision 評估\n",
    "recall  = metrics.recall_score(vald_y_test, vald_pred_binarized) # 使用 recall 評估\n",
    "\n",
    "#print(\"accuracy score:\", metrics.accuracy_score(vald_y_test, vald_stacking_pred))\n",
    "print(\"F1-Score: \", f1) \n",
    "print(\"Precision: \", precision)\n",
    "print(\"Recall: \", recall)"
   ]
  },
  {
   "cell_type": "code",
   "execution_count": 19,
   "metadata": {},
   "outputs": [
    {
     "name": "stdout",
     "output_type": "stream",
     "text": [
      "F1-Score:  0.41666666666666663\n",
      "Precision:  0.35714285714285715\n",
      "Recall:  0.5\n"
     ]
    }
   ],
   "source": [
    "# test gdbt_bestparm\n",
    "gdbt_bestparam.fit(vald_X_train, vald_y_train) #mark it, if I want save new ans.cvs\n",
    "vald_pred_gdbtcv = gdbt_bestparam.predict(vald_X_test)\n",
    "\n",
    "threshold = 0.5 \n",
    "vald_pred_binarized = np.where(vald_pred_gdbtcv>threshold, 1, 0) # 使用 np.where 函數, 將 vald_stacking_pred > 0.5 的值變為 1，小於 0.5 的為 0\n",
    "f1 = metrics.f1_score(vald_y_test, vald_pred_binarized) # 使用 F1-Score 評估\n",
    "precision = metrics.precision_score(vald_y_test, vald_pred_binarized) # 使用 Precision 評估\n",
    "recall  = metrics.recall_score(vald_y_test, vald_pred_binarized) # 使用 recall 評估\n",
    "\n",
    "#print(\"accuracy score:\", metrics.accuracy_score(vald_y_test, vald_pred_gdbtcv)\n",
    "print(\"F1-Score: \", f1) \n",
    "print(\"Precision: \", precision)\n",
    "print(\"Recall: \", recall)"
   ]
  },
  {
   "cell_type": "code",
   "execution_count": 20,
   "metadata": {},
   "outputs": [
    {
     "name": "stdout",
     "output_type": "stream",
     "text": [
      "                    name       poi\n",
      "0       BELDEN TIMOTHY N  0.999468\n",
      "1     BOWEN JR RAYMOND M  0.999468\n",
      "2         HANNON KEVIN P  0.159298\n",
      "3       DELAINEY DAVID W  0.999468\n",
      "4       CAUSEY RICHARD A  0.999468\n",
      "5       HICKERSON GARY J  0.000182\n",
      "6         FREVERT MARK A  0.999468\n",
      "7            CHAN RONNIE  0.000182\n",
      "8   DONAHUE JR JEFFREY M  0.159298\n",
      "9      REYNOLDS LAWRENCE  0.000182\n",
      "10      HORTON STANLEY C  0.000182\n",
      "11         LEWIS RICHARD  0.000182\n",
      "12    SHERRICK JEFFREY B  0.000182\n",
      "13        MEYER JEROME J  0.000182\n",
      "14   DERRICK JR. JAMES V  0.000182\n",
      "15              PIRO JIM  0.000182\n",
      "16   DETMERING TIMOTHY J  0.000182\n",
      "17     KISHKILL JOSEPH G  0.000182\n",
      "18        BAY FRANKLIN R  0.000182\n",
      "19        PRENTICE JAMES  0.000182\n",
      "20                 TOTAL  0.000001\n",
      "21        FALLON JAMES B  0.023014\n",
      "22            METTS MARK  0.010041\n",
      "23         WODRASKA JOHN  0.105864\n",
      "24   MORDAUNT KRISTINA M  0.105864\n",
      "25      CARTER REBECCA C  0.023014\n",
      "26      BHATNAGAR SANJAY  0.010041\n",
      "27      WALTERS GARETH W  0.105864\n",
      "28       BIBI PHILIPPE A  0.023014\n",
      "29       SHERRIFF JOHN R  0.020140\n",
      "30          GIBBS DANA R  0.023014\n",
      "31        LINDHOLM TOD A  0.105864\n",
      "32       MCMAHON JEFFREY  0.023014\n"
     ]
    }
   ],
   "source": [
    "#save 2\n",
    "gdbt_bestparam.fit(train_X, train_Y)\n",
    "gdbtCV_pred = gdbt_bestparam.predict_proba(test_X)\n",
    "\n",
    "sub_g = pd.DataFrame({'name': df_test['name'], 'poi': gdbtCV_pred[:,1]})\n",
    "sub_g = sub_g.drop(['BHATNAGAR SANJAY'], axis = 0)\n",
    "sub_g = sub_g.reset_index(drop=True)\n",
    "line = pd.DataFrame({\"name\": 'TOTAL', \"poi\": 0.000001}, index=[20])\n",
    "sub2_g = pd.concat([sub.iloc[:20], line, sub_g.iloc[20:]]).reset_index(drop=True)\n",
    "#sub = pd.DataFrame(df_test['name'], stacking_pred[:,1])\n",
    "sub2_g.to_csv('eeron_stacking_g.csv', index=False)\n",
    "print(sub2_g)"
   ]
  },
  {
   "cell_type": "code",
   "execution_count": null,
   "metadata": {},
   "outputs": [],
   "source": []
  }
 ],
 "metadata": {
  "kernelspec": {
   "display_name": "Python 3",
   "language": "python",
   "name": "python3"
  },
  "language_info": {
   "codemirror_mode": {
    "name": "ipython",
    "version": 3
   },
   "file_extension": ".py",
   "mimetype": "text/x-python",
   "name": "python",
   "nbconvert_exporter": "python",
   "pygments_lexer": "ipython3",
   "version": "3.7.4"
  }
 },
 "nbformat": 4,
 "nbformat_minor": 2
}
