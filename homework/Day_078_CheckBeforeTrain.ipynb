{
 "cells": [
  {
   "cell_type": "markdown",
   "metadata": {},
   "source": [
    "## 範例重點\n",
    "### 學習在模型開始前檢查各個環節\n",
    "1. 是否有 GPU 資源\n",
    "2. 將前處理轉為函式，統一處理訓練、驗證與測試集\n",
    "3. 將超參數變數化，易於重複使用函式、模型等"
   ]
  },
  {
   "cell_type": "code",
   "execution_count": 1,
   "metadata": {},
   "outputs": [
    {
     "name": "stderr",
     "output_type": "stream",
     "text": [
      "'nvidia-smi' 不是內部或外部命令、可執行的程式或批次檔。\n"
     ]
    }
   ],
   "source": [
    "## 確認硬體資源 (如果你是在 Linux, 若是在 Windows, 請參考 https://blog.csdn.net/idwtwt/article/details/78017565)\n",
    "!nvidia-smi"
   ]
  },
  {
   "cell_type": "code",
   "execution_count": 2,
   "metadata": {},
   "outputs": [
    {
     "name": "stderr",
     "output_type": "stream",
     "text": [
      "Using TensorFlow backend.\n"
     ]
    }
   ],
   "source": [
    "import os\n",
    "import keras\n",
    "\n",
    "# 本範例不需使用 GPU, 將 GPU 設定為 \"無\"\n",
    "os.environ[\"CUDA_VISIBLE_DEVICES\"] = \"\""
   ]
  },
  {
   "cell_type": "code",
   "execution_count": 3,
   "metadata": {},
   "outputs": [],
   "source": [
    "# 從 Keras 的內建功能中，取得 train 與 test 資料集\n",
    "train, test = keras.datasets.cifar10.load_data()"
   ]
  },
  {
   "cell_type": "code",
   "execution_count": 4,
   "metadata": {},
   "outputs": [],
   "source": [
    "## 資料前處理\n",
    "def preproc_x(x, flatten=True):\n",
    "    x = x / 255.\n",
    "    if flatten:\n",
    "        x = x.reshape((len(x), -1))\n",
    "    return x\n",
    "\n",
    "def preproc_y(y, num_classes=10):\n",
    "    if y.shape[-1] == 1:\n",
    "        y = keras.utils.to_categorical(y, num_classes)\n",
    "    return y    "
   ]
  },
  {
   "cell_type": "code",
   "execution_count": 8,
   "metadata": {},
   "outputs": [
    {
     "name": "stdout",
     "output_type": "stream",
     "text": [
      "(50000, 32, 32, 3)\n",
      "(50000, 3072)\n"
     ]
    }
   ],
   "source": [
    "x_train, y_train = train\n",
    "x_test, y_test = test\n",
    "print(x_train.shape)\n",
    "\n",
    "# 資料前處理 - X 標準化\n",
    "x_train = preproc_x(x_train)\n",
    "print(x_train.shape)\n",
    "x_test = preproc_x(x_test)\n",
    "\n",
    "# 資料前處理 -Y 轉成 onehot\n",
    "y_train = preproc_y(y_train)\n",
    "y_test = preproc_y(y_test)"
   ]
  },
  {
   "cell_type": "code",
   "execution_count": 9,
   "metadata": {},
   "outputs": [],
   "source": [
    "def build_mlp(input_shape, output_units=10, num_neurons=[512, 256, 128]):\n",
    "    input_layer = keras.layers.Input(input_shape)\n",
    "    \n",
    "    for i, n_units in enumerate(num_neurons):\n",
    "        if i == 0:\n",
    "            x = keras.layers.Dense(units=n_units, activation=\"relu\", name=\"hidden_layer\"+str(i+1))(input_layer)\n",
    "        else:\n",
    "            x = keras.layers.Dense(units=n_units, activation=\"relu\", name=\"hidden_layer\"+str(i+1))(x)\n",
    "    \n",
    "    out = keras.layers.Dense(units=output_units, activation=\"softmax\", name=\"output\")(x)\n",
    "    \n",
    "    model = keras.models.Model(inputs=[input_layer], outputs=[out])\n",
    "    return model"
   ]
  },
  {
   "cell_type": "code",
   "execution_count": 10,
   "metadata": {},
   "outputs": [
    {
     "name": "stdout",
     "output_type": "stream",
     "text": [
      "Model: \"model_1\"\n",
      "_________________________________________________________________\n",
      "Layer (type)                 Output Shape              Param #   \n",
      "=================================================================\n",
      "input_1 (InputLayer)         (None, 3072)              0         \n",
      "_________________________________________________________________\n",
      "hidden_layer1 (Dense)        (None, 512)               1573376   \n",
      "_________________________________________________________________\n",
      "hidden_layer2 (Dense)        (None, 256)               131328    \n",
      "_________________________________________________________________\n",
      "hidden_layer3 (Dense)        (None, 128)               32896     \n",
      "_________________________________________________________________\n",
      "output (Dense)               (None, 10)                1290      \n",
      "=================================================================\n",
      "Total params: 1,738,890\n",
      "Trainable params: 1,738,890\n",
      "Non-trainable params: 0\n",
      "_________________________________________________________________\n"
     ]
    }
   ],
   "source": [
    "model = build_mlp(input_shape=x_train.shape[1:])\n",
    "model.summary()"
   ]
  },
  {
   "cell_type": "code",
   "execution_count": 11,
   "metadata": {},
   "outputs": [],
   "source": [
    "## 超參數設定\n",
    "LEARNING_RATE = 0.001\n",
    "EPOCHS = 100\n",
    "BATCH_SIZE = 256"
   ]
  },
  {
   "cell_type": "code",
   "execution_count": 12,
   "metadata": {},
   "outputs": [],
   "source": [
    "optimizer = keras.optimizers.Adam(lr=LEARNING_RATE)\n",
    "model.compile(loss=\"categorical_crossentropy\", metrics=[\"accuracy\"], optimizer=optimizer)"
   ]
  },
  {
   "cell_type": "code",
   "execution_count": 13,
   "metadata": {},
   "outputs": [
    {
     "name": "stdout",
     "output_type": "stream",
     "text": [
      "Train on 50000 samples, validate on 10000 samples\n",
      "Epoch 1/100\n",
      "50000/50000 [==============================] - 15s 297us/step - loss: 1.9525 - accuracy: 0.2977 - val_loss: 1.8024 - val_accuracy: 0.3462\n",
      "Epoch 2/100\n",
      "50000/50000 [==============================] - 15s 297us/step - loss: 1.7221 - accuracy: 0.3828 - val_loss: 1.6575 - val_accuracy: 0.4068\n",
      "Epoch 3/100\n",
      "50000/50000 [==============================] - 14s 283us/step - loss: 1.6285 - accuracy: 0.4193 - val_loss: 1.5818 - val_accuracy: 0.4280\n",
      "Epoch 4/100\n",
      "50000/50000 [==============================] - 14s 280us/step - loss: 1.5446 - accuracy: 0.4486 - val_loss: 1.5275 - val_accuracy: 0.4580\n",
      "Epoch 5/100\n",
      "50000/50000 [==============================] - 14s 280us/step - loss: 1.5096 - accuracy: 0.4590 - val_loss: 1.5097 - val_accuracy: 0.4590\n",
      "Epoch 6/100\n",
      "50000/50000 [==============================] - 14s 279us/step - loss: 1.4721 - accuracy: 0.4744 - val_loss: 1.5235 - val_accuracy: 0.4555\n",
      "Epoch 7/100\n",
      "50000/50000 [==============================] - 14s 280us/step - loss: 1.4268 - accuracy: 0.4906 - val_loss: 1.4657 - val_accuracy: 0.4786\n",
      "Epoch 8/100\n",
      "50000/50000 [==============================] - 15s 295us/step - loss: 1.4085 - accuracy: 0.4968 - val_loss: 1.4699 - val_accuracy: 0.4766\n",
      "Epoch 9/100\n",
      "50000/50000 [==============================] - 14s 289us/step - loss: 1.3834 - accuracy: 0.5054 - val_loss: 1.4216 - val_accuracy: 0.4904\n",
      "Epoch 10/100\n",
      "50000/50000 [==============================] - 14s 284us/step - loss: 1.3393 - accuracy: 0.5221 - val_loss: 1.4329 - val_accuracy: 0.4817\n",
      "Epoch 11/100\n",
      "50000/50000 [==============================] - 14s 284us/step - loss: 1.3180 - accuracy: 0.5285 - val_loss: 1.3967 - val_accuracy: 0.4977\n",
      "Epoch 12/100\n",
      "50000/50000 [==============================] - 14s 278us/step - loss: 1.2890 - accuracy: 0.5407 - val_loss: 1.4051 - val_accuracy: 0.5015\n",
      "Epoch 13/100\n",
      "50000/50000 [==============================] - 14s 278us/step - loss: 1.2678 - accuracy: 0.5475 - val_loss: 1.3792 - val_accuracy: 0.5053\n",
      "Epoch 14/100\n",
      "50000/50000 [==============================] - 14s 284us/step - loss: 1.2488 - accuracy: 0.5538 - val_loss: 1.3736 - val_accuracy: 0.5151\n",
      "Epoch 15/100\n",
      "50000/50000 [==============================] - 14s 278us/step - loss: 1.2188 - accuracy: 0.5649 - val_loss: 1.3925 - val_accuracy: 0.5054\n",
      "Epoch 16/100\n",
      "50000/50000 [==============================] - 14s 276us/step - loss: 1.1952 - accuracy: 0.5723 - val_loss: 1.4006 - val_accuracy: 0.5132\n",
      "Epoch 17/100\n",
      "50000/50000 [==============================] - 15s 290us/step - loss: 1.1852 - accuracy: 0.5761 - val_loss: 1.3834 - val_accuracy: 0.5110\n",
      "Epoch 18/100\n",
      "50000/50000 [==============================] - 14s 282us/step - loss: 1.1577 - accuracy: 0.5879 - val_loss: 1.3805 - val_accuracy: 0.5182\n",
      "Epoch 19/100\n",
      "50000/50000 [==============================] - 14s 282us/step - loss: 1.1390 - accuracy: 0.5940 - val_loss: 1.3861 - val_accuracy: 0.5218\n",
      "Epoch 20/100\n",
      "50000/50000 [==============================] - 14s 281us/step - loss: 1.1136 - accuracy: 0.6019 - val_loss: 1.3681 - val_accuracy: 0.5194\n",
      "Epoch 21/100\n",
      "50000/50000 [==============================] - 14s 283us/step - loss: 1.1041 - accuracy: 0.6045 - val_loss: 1.3806 - val_accuracy: 0.5192\n",
      "Epoch 22/100\n",
      "50000/50000 [==============================] - 14s 280us/step - loss: 1.0802 - accuracy: 0.6142 - val_loss: 1.4022 - val_accuracy: 0.5184\n",
      "Epoch 23/100\n",
      "50000/50000 [==============================] - 14s 281us/step - loss: 1.0568 - accuracy: 0.6214 - val_loss: 1.4213 - val_accuracy: 0.5130\n",
      "Epoch 24/100\n",
      "50000/50000 [==============================] - 14s 280us/step - loss: 1.0426 - accuracy: 0.6286 - val_loss: 1.3974 - val_accuracy: 0.5184\n",
      "Epoch 25/100\n",
      "50000/50000 [==============================] - 14s 287us/step - loss: 1.0174 - accuracy: 0.6375 - val_loss: 1.3944 - val_accuracy: 0.5201\n",
      "Epoch 26/100\n",
      "50000/50000 [==============================] - 14s 280us/step - loss: 1.0125 - accuracy: 0.6381 - val_loss: 1.3775 - val_accuracy: 0.5283\n",
      "Epoch 27/100\n",
      "50000/50000 [==============================] - 14s 285us/step - loss: 0.9887 - accuracy: 0.6458 - val_loss: 1.3868 - val_accuracy: 0.5307\n",
      "Epoch 28/100\n",
      "50000/50000 [==============================] - 14s 281us/step - loss: 0.9688 - accuracy: 0.6527 - val_loss: 1.4216 - val_accuracy: 0.5219\n",
      "Epoch 29/100\n",
      "50000/50000 [==============================] - 10s 196us/step - loss: 0.9595 - accuracy: 0.6561 - val_loss: 1.4592 - val_accuracy: 0.5159\n",
      "Epoch 30/100\n",
      "50000/50000 [==============================] - 12s 232us/step - loss: 0.9370 - accuracy: 0.6665 - val_loss: 1.4447 - val_accuracy: 0.5228\n",
      "Epoch 31/100\n",
      "50000/50000 [==============================] - 15s 295us/step - loss: 0.9119 - accuracy: 0.6747 - val_loss: 1.4092 - val_accuracy: 0.5296\n",
      "Epoch 32/100\n",
      "50000/50000 [==============================] - 14s 286us/step - loss: 0.8882 - accuracy: 0.6828 - val_loss: 1.4567 - val_accuracy: 0.5277\n",
      "Epoch 33/100\n",
      "50000/50000 [==============================] - 15s 293us/step - loss: 0.8902 - accuracy: 0.6826 - val_loss: 1.4729 - val_accuracy: 0.5243\n",
      "Epoch 34/100\n",
      "50000/50000 [==============================] - 14s 286us/step - loss: 0.8622 - accuracy: 0.6911 - val_loss: 1.4584 - val_accuracy: 0.5317\n",
      "Epoch 35/100\n",
      "50000/50000 [==============================] - 14s 287us/step - loss: 0.8412 - accuracy: 0.6993 - val_loss: 1.4490 - val_accuracy: 0.5354\n",
      "Epoch 36/100\n",
      "50000/50000 [==============================] - 14s 288us/step - loss: 0.8225 - accuracy: 0.7055 - val_loss: 1.5075 - val_accuracy: 0.5244\n",
      "Epoch 37/100\n",
      "50000/50000 [==============================] - 14s 288us/step - loss: 0.8165 - accuracy: 0.7082 - val_loss: 1.5027 - val_accuracy: 0.5245\n",
      "Epoch 38/100\n",
      "50000/50000 [==============================] - 14s 288us/step - loss: 0.7994 - accuracy: 0.7133 - val_loss: 1.5031 - val_accuracy: 0.5345\n",
      "Epoch 39/100\n",
      "50000/50000 [==============================] - 14s 286us/step - loss: 0.7793 - accuracy: 0.7228 - val_loss: 1.5238 - val_accuracy: 0.5287\n",
      "Epoch 40/100\n",
      "50000/50000 [==============================] - 14s 283us/step - loss: 0.7715 - accuracy: 0.7246 - val_loss: 1.5993 - val_accuracy: 0.5224\n",
      "Epoch 41/100\n",
      "50000/50000 [==============================] - 14s 287us/step - loss: 0.7660 - accuracy: 0.7228 - val_loss: 1.6077 - val_accuracy: 0.5230\n",
      "Epoch 42/100\n",
      "50000/50000 [==============================] - 14s 288us/step - loss: 0.7431 - accuracy: 0.7350 - val_loss: 1.5731 - val_accuracy: 0.5338\n",
      "Epoch 43/100\n",
      "50000/50000 [==============================] - 14s 287us/step - loss: 0.7116 - accuracy: 0.7468 - val_loss: 1.6566 - val_accuracy: 0.5182\n",
      "Epoch 44/100\n",
      "50000/50000 [==============================] - 14s 285us/step - loss: 0.7020 - accuracy: 0.7497 - val_loss: 1.5962 - val_accuracy: 0.5303\n",
      "Epoch 45/100\n",
      "50000/50000 [==============================] - 14s 289us/step - loss: 0.6914 - accuracy: 0.7548 - val_loss: 1.6308 - val_accuracy: 0.5252\n",
      "Epoch 46/100\n",
      "50000/50000 [==============================] - 14s 288us/step - loss: 0.6836 - accuracy: 0.7559 - val_loss: 1.6949 - val_accuracy: 0.5178\n",
      "Epoch 47/100\n",
      "50000/50000 [==============================] - 14s 287us/step - loss: 0.6562 - accuracy: 0.7656 - val_loss: 1.7253 - val_accuracy: 0.5192\n",
      "Epoch 48/100\n",
      "50000/50000 [==============================] - 14s 287us/step - loss: 0.6588 - accuracy: 0.7644 - val_loss: 1.7360 - val_accuracy: 0.5197\n",
      "Epoch 49/100\n",
      "50000/50000 [==============================] - 16s 312us/step - loss: 0.6363 - accuracy: 0.7713 - val_loss: 1.7150 - val_accuracy: 0.5256\n",
      "Epoch 50/100\n",
      "50000/50000 [==============================] - 14s 288us/step - loss: 0.6488 - accuracy: 0.7676 - val_loss: 1.7390 - val_accuracy: 0.5222\n",
      "Epoch 51/100\n",
      "50000/50000 [==============================] - 15s 309us/step - loss: 0.6211 - accuracy: 0.7789 - val_loss: 1.7744 - val_accuracy: 0.5246\n",
      "Epoch 52/100\n",
      "50000/50000 [==============================] - 14s 289us/step - loss: 0.6099 - accuracy: 0.7818 - val_loss: 1.7979 - val_accuracy: 0.5190\n",
      "Epoch 53/100\n",
      "50000/50000 [==============================] - 14s 289us/step - loss: 0.5960 - accuracy: 0.7868 - val_loss: 1.8097 - val_accuracy: 0.5208\n",
      "Epoch 54/100\n",
      "50000/50000 [==============================] - 14s 287us/step - loss: 0.5951 - accuracy: 0.7864 - val_loss: 1.8913 - val_accuracy: 0.5195\n"
     ]
    },
    {
     "name": "stdout",
     "output_type": "stream",
     "text": [
      "Epoch 55/100\n",
      "50000/50000 [==============================] - 14s 288us/step - loss: 0.5733 - accuracy: 0.7957 - val_loss: 1.8550 - val_accuracy: 0.5276\n",
      "Epoch 56/100\n",
      "50000/50000 [==============================] - 14s 289us/step - loss: 0.5646 - accuracy: 0.7967 - val_loss: 1.8683 - val_accuracy: 0.5185\n",
      "Epoch 57/100\n",
      "50000/50000 [==============================] - 14s 289us/step - loss: 0.5382 - accuracy: 0.8079 - val_loss: 1.9866 - val_accuracy: 0.5085\n",
      "Epoch 58/100\n",
      "50000/50000 [==============================] - 14s 288us/step - loss: 0.5485 - accuracy: 0.8039 - val_loss: 1.9260 - val_accuracy: 0.5225\n",
      "Epoch 59/100\n",
      "50000/50000 [==============================] - 14s 287us/step - loss: 0.5396 - accuracy: 0.8046 - val_loss: 1.9259 - val_accuracy: 0.5239\n",
      "Epoch 60/100\n",
      "50000/50000 [==============================] - 14s 285us/step - loss: 0.5251 - accuracy: 0.8120 - val_loss: 2.0546 - val_accuracy: 0.5210\n",
      "Epoch 61/100\n",
      "50000/50000 [==============================] - 14s 284us/step - loss: 0.5079 - accuracy: 0.8182 - val_loss: 1.9878 - val_accuracy: 0.5177\n",
      "Epoch 62/100\n",
      "50000/50000 [==============================] - 14s 287us/step - loss: 0.4977 - accuracy: 0.8229 - val_loss: 2.0756 - val_accuracy: 0.5259\n",
      "Epoch 63/100\n",
      "50000/50000 [==============================] - 14s 286us/step - loss: 0.4842 - accuracy: 0.8270 - val_loss: 2.1052 - val_accuracy: 0.5153\n",
      "Epoch 64/100\n",
      "50000/50000 [==============================] - 14s 286us/step - loss: 0.4774 - accuracy: 0.8289 - val_loss: 2.1210 - val_accuracy: 0.5212\n",
      "Epoch 65/100\n",
      "50000/50000 [==============================] - 14s 290us/step - loss: 0.4947 - accuracy: 0.8228 - val_loss: 2.1061 - val_accuracy: 0.5143\n",
      "Epoch 66/100\n",
      "50000/50000 [==============================] - 14s 288us/step - loss: 0.4730 - accuracy: 0.8293 - val_loss: 2.2180 - val_accuracy: 0.5199\n",
      "Epoch 67/100\n",
      "50000/50000 [==============================] - 14s 286us/step - loss: 0.4654 - accuracy: 0.8344 - val_loss: 2.1969 - val_accuracy: 0.5164\n",
      "Epoch 68/100\n",
      "50000/50000 [==============================] - 14s 274us/step - loss: 0.4394 - accuracy: 0.8423 - val_loss: 2.2635 - val_accuracy: 0.5127\n",
      "Epoch 69/100\n",
      "50000/50000 [==============================] - 14s 281us/step - loss: 0.4479 - accuracy: 0.8378 - val_loss: 2.3273 - val_accuracy: 0.5119\n",
      "Epoch 70/100\n",
      "50000/50000 [==============================] - 15s 290us/step - loss: 0.4349 - accuracy: 0.8439 - val_loss: 2.2759 - val_accuracy: 0.5173\n",
      "Epoch 71/100\n",
      "50000/50000 [==============================] - 14s 286us/step - loss: 0.4207 - accuracy: 0.8490 - val_loss: 2.3644 - val_accuracy: 0.5053\n",
      "Epoch 72/100\n",
      "50000/50000 [==============================] - 14s 282us/step - loss: 0.4200 - accuracy: 0.8492 - val_loss: 2.4073 - val_accuracy: 0.5135\n",
      "Epoch 73/100\n",
      "50000/50000 [==============================] - 14s 285us/step - loss: 0.4257 - accuracy: 0.8468 - val_loss: 2.3442 - val_accuracy: 0.5250\n",
      "Epoch 74/100\n",
      "50000/50000 [==============================] - 14s 283us/step - loss: 0.4068 - accuracy: 0.8535 - val_loss: 2.4420 - val_accuracy: 0.5182\n",
      "Epoch 75/100\n",
      "50000/50000 [==============================] - 14s 285us/step - loss: 0.3975 - accuracy: 0.8574 - val_loss: 2.4464 - val_accuracy: 0.5127\n",
      "Epoch 76/100\n",
      "50000/50000 [==============================] - 14s 283us/step - loss: 0.4016 - accuracy: 0.8561 - val_loss: 2.4099 - val_accuracy: 0.5164\n",
      "Epoch 77/100\n",
      "50000/50000 [==============================] - 14s 287us/step - loss: 0.3765 - accuracy: 0.8646 - val_loss: 2.5080 - val_accuracy: 0.5158\n",
      "Epoch 78/100\n",
      "50000/50000 [==============================] - 15s 294us/step - loss: 0.3769 - accuracy: 0.8649 - val_loss: 2.5166 - val_accuracy: 0.5100\n",
      "Epoch 79/100\n",
      "50000/50000 [==============================] - 15s 294us/step - loss: 0.3572 - accuracy: 0.8719 - val_loss: 2.5625 - val_accuracy: 0.5103\n",
      "Epoch 80/100\n",
      "50000/50000 [==============================] - 14s 284us/step - loss: 0.3734 - accuracy: 0.8653 - val_loss: 2.6178 - val_accuracy: 0.5059\n",
      "Epoch 81/100\n",
      "50000/50000 [==============================] - 15s 290us/step - loss: 0.3793 - accuracy: 0.8640 - val_loss: 2.5984 - val_accuracy: 0.5108\n",
      "Epoch 82/100\n",
      "50000/50000 [==============================] - 14s 288us/step - loss: 0.3480 - accuracy: 0.8757 - val_loss: 2.7383 - val_accuracy: 0.5006\n",
      "Epoch 83/100\n",
      "50000/50000 [==============================] - 15s 295us/step - loss: 0.3576 - accuracy: 0.8708 - val_loss: 2.8235 - val_accuracy: 0.5050\n",
      "Epoch 84/100\n",
      "50000/50000 [==============================] - 15s 295us/step - loss: 0.3492 - accuracy: 0.8751 - val_loss: 2.6840 - val_accuracy: 0.5140\n",
      "Epoch 85/100\n",
      "50000/50000 [==============================] - 14s 274us/step - loss: 0.3454 - accuracy: 0.8763 - val_loss: 2.8465 - val_accuracy: 0.5029\n",
      "Epoch 86/100\n",
      "50000/50000 [==============================] - 14s 280us/step - loss: 0.3619 - accuracy: 0.8699 - val_loss: 2.8202 - val_accuracy: 0.5044\n",
      "Epoch 87/100\n",
      "50000/50000 [==============================] - 14s 285us/step - loss: 0.3542 - accuracy: 0.8722 - val_loss: 2.7572 - val_accuracy: 0.5165\n",
      "Epoch 88/100\n",
      "50000/50000 [==============================] - 13s 261us/step - loss: 0.3367 - accuracy: 0.8794 - val_loss: 2.8667 - val_accuracy: 0.5051\n",
      "Epoch 89/100\n",
      "50000/50000 [==============================] - 10s 210us/step - loss: 0.3266 - accuracy: 0.8835 - val_loss: 2.8723 - val_accuracy: 0.5109\n",
      "Epoch 90/100\n",
      "50000/50000 [==============================] - 10s 209us/step - loss: 0.3239 - accuracy: 0.8839 - val_loss: 2.9048 - val_accuracy: 0.5146\n",
      "Epoch 91/100\n",
      "50000/50000 [==============================] - 11s 218us/step - loss: 0.3058 - accuracy: 0.8911 - val_loss: 2.9313 - val_accuracy: 0.5057\n",
      "Epoch 92/100\n",
      "50000/50000 [==============================] - 10s 194us/step - loss: 0.3134 - accuracy: 0.8876 - val_loss: 2.9554 - val_accuracy: 0.5054\n",
      "Epoch 93/100\n",
      "50000/50000 [==============================] - 11s 211us/step - loss: 0.3021 - accuracy: 0.8897 - val_loss: 2.8605 - val_accuracy: 0.5106\n",
      "Epoch 94/100\n",
      "50000/50000 [==============================] - 10s 193us/step - loss: 0.3051 - accuracy: 0.8892 - val_loss: 3.0503 - val_accuracy: 0.5051 accuracy - ETA: 1s\n",
      "Epoch 95/100\n",
      "50000/50000 [==============================] - 13s 262us/step - loss: 0.3152 - accuracy: 0.8857 - val_loss: 3.0399 - val_accuracy: 0.5141\n",
      "Epoch 96/100\n",
      "50000/50000 [==============================] - 14s 276us/step - loss: 0.2729 - accuracy: 0.9022 - val_loss: 3.0860 - val_accuracy: 0.5054\n",
      "Epoch 97/100\n",
      "50000/50000 [==============================] - 14s 271us/step - loss: 0.2788 - accuracy: 0.9012 - val_loss: 3.0422 - val_accuracy: 0.5136\n",
      "Epoch 98/100\n",
      "50000/50000 [==============================] - 13s 267us/step - loss: 0.2999 - accuracy: 0.8915 - val_loss: 3.2014 - val_accuracy: 0.5093\n",
      "Epoch 99/100\n",
      "50000/50000 [==============================] - 13s 253us/step - loss: 0.2851 - accuracy: 0.8990 - val_loss: 3.1488 - val_accuracy: 0.5131\n",
      "Epoch 100/100\n",
      "50000/50000 [==============================] - 13s 256us/step - loss: 0.2662 - accuracy: 0.9048 - val_loss: 3.1972 - val_accuracy: 0.5054\n"
     ]
    },
    {
     "data": {
      "text/plain": [
       "<keras.callbacks.callbacks.History at 0x275d28adf88>"
      ]
     },
     "execution_count": 13,
     "metadata": {},
     "output_type": "execute_result"
    }
   ],
   "source": [
    "model.fit(x_train, y_train, \n",
    "          epochs=EPOCHS, \n",
    "          batch_size=BATCH_SIZE, \n",
    "          validation_data=(x_test, y_test), \n",
    "          shuffle=True)"
   ]
  },
  {
   "cell_type": "code",
   "execution_count": 15,
   "metadata": {},
   "outputs": [
    {
     "data": {
      "image/png": "[encoded data removed]",
      "text/plain": [
       "<Figure size 432x288 with 1 Axes>"
      ]
     },
     "metadata": {
      "needs_background": "light"
     },
     "output_type": "display_data"
    },
    {
     "data": {
      "image/png": "[encoded data removed]",
      "text/plain": [
       "<Figure size 432x288 with 1 Axes>"
      ]
     },
     "metadata": {
      "needs_background": "light"
     },
     "output_type": "display_data"
    }
   ],
   "source": [
    "# 訓練模型並檢視驗證集的結果\n",
    "import matplotlib.pyplot as plt\n",
    "\n",
    "train_loss = model.history.history[\"loss\"]\n",
    "valid_loss = model.history.history[\"val_loss\"]\n",
    "\n",
    "train_acc = model.history.history[\"accuracy\"]\n",
    "valid_acc = model.history.history[\"val_accuracy\"]\n",
    "\n",
    "plt.plot(range(len(train_loss)), train_loss, label=\"train loss\")\n",
    "plt.plot(range(len(valid_loss)), valid_loss, label=\"valid loss\")\n",
    "plt.legend()\n",
    "plt.title(\"Loss\")\n",
    "plt.show()\n",
    "\n",
    "plt.plot(range(len(train_acc)), train_acc, label=\"train accuracy\")\n",
    "plt.plot(range(len(valid_acc)), valid_acc, label=\"valid accuracy\")\n",
    "plt.legend()\n",
    "plt.title(\"Accuracy\")\n",
    "plt.show()"
   ]
  },
  {
   "cell_type": "markdown",
   "metadata": {},
   "source": [
    "## Work\n",
    "1. 請嘗試將 preproc_x 替換成以每筆資料的 min/max 進行標準化至 -1 ~ 1 間，再進行訓練\n",
    "2. 請嘗試將 mlp 疊更深 (e.g 5~10 層)，進行訓練後觀察 learning curve 的走勢\n",
    "3. (optional) 請改用 GPU 進行訓練 (如果你有 GPU 的話)，比較使用 CPU 與 GPU 的訓練速度"
   ]
  }
 ],
 "metadata": {
  "kernelspec": {
   "display_name": "Python 3",
   "language": "python",
   "name": "python3"
  },
  "language_info": {
   "codemirror_mode": {
    "name": "ipython",
    "version": 3
   },
   "file_extension": ".py",
   "mimetype": "text/x-python",
   "name": "python",
   "nbconvert_exporter": "python",
   "pygments_lexer": "ipython3",
   "version": "3.7.4"
  }
 },
 "nbformat": 4,
 "nbformat_minor": 2
}
