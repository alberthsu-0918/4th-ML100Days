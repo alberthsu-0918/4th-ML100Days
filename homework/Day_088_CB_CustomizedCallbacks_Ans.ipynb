{
 "cells": [
  {
   "cell_type": "markdown",
   "metadata": {},
   "source": [
    "## Work\n",
    "1. 請嘗試寫一個 callback 用來記錄各類別在訓練過程中，對驗證集的 True Positive 與 True Negative"
   ]
  },
  {
   "cell_type": "code",
   "execution_count": 1,
   "metadata": {},
   "outputs": [
    {
     "name": "stderr",
     "output_type": "stream",
     "text": [
      "Using TensorFlow backend.\n"
     ]
    }
   ],
   "source": [
    "import os\n",
    "import keras\n",
    "\n",
    "# Disable GPU\n",
    "os.environ[\"CUDA_VISIBLE_DEVICES\"] = \"\""
   ]
  },
  {
   "cell_type": "code",
   "execution_count": 2,
   "metadata": {},
   "outputs": [],
   "source": [
    "train, test = keras.datasets.cifar10.load_data()"
   ]
  },
  {
   "cell_type": "code",
   "execution_count": 3,
   "metadata": {},
   "outputs": [],
   "source": [
    "## 資料前處理\n",
    "def preproc_x(x, flatten=True):\n",
    "    x = x / 255.\n",
    "    if flatten:\n",
    "        x = x.reshape((len(x), -1))\n",
    "    return x\n",
    "\n",
    "def preproc_y(y, num_classes=10):\n",
    "    if y.shape[-1] == 1:\n",
    "        y = keras.utils.to_categorical(y, num_classes)\n",
    "    return y    "
   ]
  },
  {
   "cell_type": "code",
   "execution_count": 4,
   "metadata": {},
   "outputs": [],
   "source": [
    "x_train, y_train = train\n",
    "x_test, y_test = test\n",
    "\n",
    "# Preproc the inputs\n",
    "x_train = preproc_x(x_train)\n",
    "x_test = preproc_x(x_test)\n",
    "\n",
    "# Preprc the outputs\n",
    "y_train = preproc_y(y_train)\n",
    "y_test = preproc_y(y_test)"
   ]
  },
  {
   "cell_type": "code",
   "execution_count": 5,
   "metadata": {},
   "outputs": [],
   "source": [
    "from keras.layers import BatchNormalization\n",
    "def build_mlp(input_shape, output_units=10, num_neurons=[256, 256, 256]):\n",
    "    input_layer = keras.layers.Input(input_shape)\n",
    "    \n",
    "    for i, n_units in enumerate(num_neurons):\n",
    "        if i == 0:\n",
    "            x = keras.layers.Dense(units=n_units, \n",
    "                                   activation=\"relu\", \n",
    "                                   name=\"hidden_layer\"+str(i+1))(input_layer)\n",
    "            x = BatchNormalization()(x)\n",
    "        else:\n",
    "            x = keras.layers.Dense(units=n_units, \n",
    "                                   activation=\"relu\", \n",
    "                                   name=\"hidden_layer\"+str(i+1))(x)\n",
    "            x = BatchNormalization()(x)\n",
    "    \n",
    "    out = keras.layers.Dense(units=output_units, activation=\"softmax\", name=\"output\")(x)\n",
    "    \n",
    "    model = keras.models.Model(inputs=[input_layer], outputs=[out])\n",
    "    return model"
   ]
  },
  {
   "cell_type": "code",
   "execution_count": 6,
   "metadata": {},
   "outputs": [],
   "source": [
    "## 超參數設定\n",
    "LEARNING_RATE = 1e-3\n",
    "EPOCHS = 25\n",
    "BATCH_SIZE = 1024\n",
    "MOMENTUM = 0.95"
   ]
  },
  {
   "cell_type": "code",
   "execution_count": 7,
   "metadata": {},
   "outputs": [],
   "source": [
    "# 載入 Callbacks\n",
    "from keras.callbacks import Callback\n",
    "\n",
    "# Record_fp_tp\n",
    "class Record_tp_tn(Callback):\n",
    "    def on_train_begin(self, epoch, logs = {}):\n",
    "        logs = logs or {}\n",
    "        record_items = [\"val_tp\", \"val_tn\"]\n",
    "        for i in record_items:\n",
    "            if i not in self.params['metrics']:\n",
    "                self.params['metrics'].append(i)\n",
    "    \n",
    "    def on_epoch_end(self, epoch, logs = {}, thres=0.5):\n",
    "        logs = logs or {}\n",
    "        y_true = self.validation_data[1].argmax(axis = 1)\n",
    "        y_pred = self.model.predict(self.validation_data[0])\n",
    "        y_pred = (y_pred[:, 1] >= thres) * 1\n",
    "        \n",
    "        val_tp = sum(y_true*y_pred)\n",
    "        val_tn = sum((y_true==0) & (y_pred==0))\n",
    "        \n",
    "        logs[\"val_tp\"] = val_tp\n",
    "        logs[\"val_tn\"] = val_tn\n",
    "        \n",
    "rec_tptn = Record_tp_tn()"
   ]
  },
  {
   "cell_type": "code",
   "execution_count": 33,
   "metadata": {
    "scrolled": true
   },
   "outputs": [
    {
     "name": "stdout",
     "output_type": "stream",
     "text": [
      "Model: \"model_2\"\n",
      "_________________________________________________________________\n",
      "Layer (type)                 Output Shape              Param #   \n",
      "=================================================================\n",
      "input_2 (InputLayer)         (None, 3072)              0         \n",
      "_________________________________________________________________\n",
      "hidden_layer1 (Dense)        (None, 256)               786688    \n",
      "_________________________________________________________________\n",
      "batch_normalization_4 (Batch (None, 256)               1024      \n",
      "_________________________________________________________________\n",
      "hidden_layer2 (Dense)        (None, 256)               65792     \n",
      "_________________________________________________________________\n",
      "batch_normalization_5 (Batch (None, 256)               1024      \n",
      "_________________________________________________________________\n",
      "hidden_layer3 (Dense)        (None, 256)               65792     \n",
      "_________________________________________________________________\n",
      "batch_normalization_6 (Batch (None, 256)               1024      \n",
      "_________________________________________________________________\n",
      "output (Dense)               (None, 10)                2570      \n",
      "=================================================================\n",
      "Total params: 923,914\n",
      "Trainable params: 922,378\n",
      "Non-trainable params: 1,536\n",
      "_________________________________________________________________\n",
      "Train on 50000 samples, validate on 10000 samples\n",
      "Epoch 1/25\n",
      "50000/50000 [==============================] - 8s 153us/step - loss: 2.2794 - accuracy: 0.2541 - val_loss: 2.1916 - val_accuracy: 0.1551\n",
      "Epoch 2/25\n",
      "50000/50000 [==============================] - 7s 141us/step - loss: 1.7840 - accuracy: 0.3760 - val_loss: 2.0296 - val_accuracy: 0.2633\n",
      "Epoch 3/25\n",
      "50000/50000 [==============================] - 7s 132us/step - loss: 1.6505 - accuracy: 0.4196 - val_loss: 1.8429 - val_accuracy: 0.3674\n",
      "Epoch 4/25\n",
      "50000/50000 [==============================] - 7s 141us/step - loss: 1.5728 - accuracy: 0.4470 - val_loss: 1.7313 - val_accuracy: 0.4039\n",
      "Epoch 5/25\n",
      "50000/50000 [==============================] - 7s 139us/step - loss: 1.5172 - accuracy: 0.4679 - val_loss: 1.6518 - val_accuracy: 0.4209\n",
      "Epoch 6/25\n",
      "50000/50000 [==============================] - 7s 144us/step - loss: 1.4732 - accuracy: 0.4823 - val_loss: 1.5951 - val_accuracy: 0.4371\n",
      "Epoch 7/25\n",
      "50000/50000 [==============================] - 7s 139us/step - loss: 1.4348 - accuracy: 0.4966 - val_loss: 1.5534 - val_accuracy: 0.4455\n",
      "Epoch 8/25\n",
      "50000/50000 [==============================] - 7s 144us/step - loss: 1.4004 - accuracy: 0.5095 - val_loss: 1.5345 - val_accuracy: 0.4575\n",
      "Epoch 9/25\n",
      "50000/50000 [==============================] - 7s 144us/step - loss: 1.3715 - accuracy: 0.5194 - val_loss: 1.5076 - val_accuracy: 0.4608\n",
      "Epoch 10/25\n",
      "50000/50000 [==============================] - 7s 146us/step - loss: 1.3448 - accuracy: 0.5297 - val_loss: 1.4891 - val_accuracy: 0.4726\n",
      "Epoch 11/25\n",
      "50000/50000 [==============================] - 7s 134us/step - loss: 1.3179 - accuracy: 0.5389 - val_loss: 1.4821 - val_accuracy: 0.4698\n",
      "Epoch 12/25\n",
      "50000/50000 [==============================] - 7s 141us/step - loss: 1.2959 - accuracy: 0.5488 - val_loss: 1.4834 - val_accuracy: 0.4704\n",
      "Epoch 13/25\n",
      "50000/50000 [==============================] - 7s 140us/step - loss: 1.2708 - accuracy: 0.5589 - val_loss: 1.4715 - val_accuracy: 0.4836\n",
      "Epoch 14/25\n",
      "50000/50000 [==============================] - 7s 146us/step - loss: 1.2495 - accuracy: 0.5662 - val_loss: 1.4570 - val_accuracy: 0.4814\n",
      "Epoch 15/25\n",
      "50000/50000 [==============================] - 6s 126us/step - loss: 1.2274 - accuracy: 0.5732 - val_loss: 1.4550 - val_accuracy: 0.4863\n",
      "Epoch 16/25\n",
      "50000/50000 [==============================] - 7s 135us/step - loss: 1.2064 - accuracy: 0.5808 - val_loss: 1.4549 - val_accuracy: 0.4921\n",
      "Epoch 17/25\n",
      "50000/50000 [==============================] - 7s 131us/step - loss: 1.1879 - accuracy: 0.5886 - val_loss: 1.4516 - val_accuracy: 0.4877\n",
      "Epoch 18/25\n",
      "50000/50000 [==============================] - 7s 133us/step - loss: 1.1700 - accuracy: 0.5946 - val_loss: 1.4488 - val_accuracy: 0.4864\n",
      "Epoch 19/25\n",
      "50000/50000 [==============================] - 7s 137us/step - loss: 1.1517 - accuracy: 0.6018 - val_loss: 1.4436 - val_accuracy: 0.4930\n",
      "Epoch 20/25\n",
      "50000/50000 [==============================] - 7s 140us/step - loss: 1.1317 - accuracy: 0.6104 - val_loss: 1.4454 - val_accuracy: 0.4923\n",
      "Epoch 21/25\n",
      "50000/50000 [==============================] - 7s 137us/step - loss: 1.1157 - accuracy: 0.6148 - val_loss: 1.4549 - val_accuracy: 0.4879\n",
      "Epoch 22/25\n",
      "50000/50000 [==============================] - 7s 134us/step - loss: 1.0991 - accuracy: 0.6220 - val_loss: 1.4417 - val_accuracy: 0.4915\n",
      "Epoch 23/25\n",
      "50000/50000 [==============================] - 7s 135us/step - loss: 1.0801 - accuracy: 0.6289 - val_loss: 1.4459 - val_accuracy: 0.4893\n",
      "Epoch 24/25\n",
      "50000/50000 [==============================] - 7s 135us/step - loss: 1.0639 - accuracy: 0.6356 - val_loss: 1.4361 - val_accuracy: 0.4953\n",
      "Epoch 25/25\n",
      "50000/50000 [==============================] - 7s 131us/step - loss: 1.0471 - accuracy: 0.6428 - val_loss: 1.4424 - val_accuracy: 0.4936\n"
     ]
    }
   ],
   "source": [
    "model = build_mlp(input_shape=x_train.shape[1:])\n",
    "model.summary()\n",
    "optimizer = keras.optimizers.SGD(lr=LEARNING_RATE, nesterov=True, momentum=MOMENTUM)\n",
    "model.compile(loss=\"categorical_crossentropy\", metrics=[\"accuracy\"], optimizer=optimizer)\n",
    "\n",
    "model.fit(x_train, y_train, \n",
    "          epochs=EPOCHS, \n",
    "          batch_size=BATCH_SIZE, \n",
    "          validation_data=(x_test, y_test), \n",
    "          shuffle=True,\n",
    "          callbacks=[rec_tptn]\n",
    "         )\n",
    "\n",
    "# Collect results\n",
    "train_loss = model.history.history[\"loss\"]\n",
    "valid_loss = model.history.history[\"val_loss\"]\n",
    "train_acc = model.history.history[\"accuracy\"]\n",
    "valid_acc = model.history.history[\"val_accuracy\"]\n",
    "\n",
    "valid_tp = model.history.history['val_tp']\n",
    "valid_tn = model.history.history['val_tn']"
   ]
  },
  {
   "cell_type": "code",
   "execution_count": 36,
   "metadata": {},
   "outputs": [
    {
     "data": {
      "image/png": "[encoded data removed]",
      "text/plain": [
       "<Figure size 432x288 with 1 Axes>"
      ]
     },
     "metadata": {
      "needs_background": "light"
     },
     "output_type": "display_data"
    },
    {
     "data": {
      "image/png": "[encoded data removed]",
      "text/plain": [
       "<Figure size 432x288 with 1 Axes>"
      ]
     },
     "metadata": {
      "needs_background": "light"
     },
     "output_type": "display_data"
    },
    {
     "data": {
      "image/png": "[encoded data removed]",
      "text/plain": [
       "<Figure size 432x288 with 1 Axes>"
      ]
     },
     "metadata": {
      "needs_background": "light"
     },
     "output_type": "display_data"
    }
   ],
   "source": [
    "import matplotlib.pyplot as plt\n",
    "%matplotlib inline\n",
    "\n",
    "plt.plot(range(len(train_loss)), train_loss, label=\"train loss\")\n",
    "plt.plot(range(len(valid_loss)), valid_loss, label=\"valid loss\")\n",
    "plt.legend()\n",
    "plt.title(\"Loss\")\n",
    "plt.show()\n",
    "\n",
    "plt.plot(range(len(train_acc)), train_acc, label=\"train accuracy\")\n",
    "plt.plot(range(len(valid_acc)), valid_acc, label=\"valid accuracy\")\n",
    "plt.legend()\n",
    "plt.title(\"Accuracy\")\n",
    "plt.show()\n",
    "\n",
    "plt.plot(range(len(valid_tp)), valid_tp, label=\"valid tp\", color=\"navy\")\n",
    "plt.plot(range(len(valid_tn)), valid_tn, label=\"valid tn\", color=\"red\")\n",
    "plt.legend()\n",
    "plt.title(\"True positives and True Negatives\")\n",
    "plt.show()\n"
   ]
  },
  {
   "cell_type": "code",
   "execution_count": 46,
   "metadata": {},
   "outputs": [],
   "source": [
    "#My test\n",
    "import numpy\n",
    "validation_data=(x_test, y_test)\n",
    "y_true1 = validation_data[1]\n",
    "y_pred1 = model.predict(validation_data[0]) \n",
    "y_pred1 = (y_pred1[:, :] >= 0.5) * 1\n",
    "        \n",
    "val_tp1 = y_true1.dot(y_pred1.transpose())\n",
    "val_tp11 = sum(val_tp1.argmax(axis = 1))\n",
    "        \n",
    "val_tn11 = sum((y_true1==0) & (y_pred1==0))"
   ]
  },
  {
   "cell_type": "code",
   "execution_count": 45,
   "metadata": {},
   "outputs": [
    {
     "name": "stdout",
     "output_type": "stream",
     "text": [
      "(10000, 10)\n",
      "(10000, 10)\n",
      "(10000, 10)\n"
     ]
    }
   ],
   "source": [
    "print(y_true1.shape)\n",
    "print(y_pred1.shape)\n",
    "print(val_tp1.shape)"
   ]
  },
  {
   "cell_type": "code",
   "execution_count": null,
   "metadata": {},
   "outputs": [],
   "source": []
  }
 ],
 "metadata": {
  "kernelspec": {
   "display_name": "Python 3",
   "language": "python",
   "name": "python3"
  },
  "language_info": {
   "codemirror_mode": {
    "name": "ipython",
    "version": 3
   },
   "file_extension": ".py",
   "mimetype": "text/x-python",
   "name": "python",
   "nbconvert_exporter": "python",
   "pygments_lexer": "ipython3",
   "version": "3.7.4"
  }
 },
 "nbformat": 4,
 "nbformat_minor": 2
}
