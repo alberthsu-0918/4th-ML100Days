{
 "cells": [
  {
   "cell_type": "markdown",
   "metadata": {},
   "source": [
    "## 範例重點\n",
    "* 知道如何在 keras 中加入 dropout\n",
    "* 了解 dropout 中 ratio 的意義與對訓練的影響"
   ]
  },
  {
   "cell_type": "code",
   "execution_count": 1,
   "metadata": {},
   "outputs": [
    {
     "name": "stderr",
     "output_type": "stream",
     "text": [
      "Using TensorFlow backend.\n"
     ]
    }
   ],
   "source": [
    "import os\n",
    "import keras\n",
    "\n",
    "# 本範例不需使用 GPU, 將 GPU 設定為 \"無\"\n",
    "os.environ[\"CUDA_VISIBLE_DEVICES\"] = \"\""
   ]
  },
  {
   "cell_type": "code",
   "execution_count": 2,
   "metadata": {},
   "outputs": [],
   "source": [
    "train, test = keras.datasets.cifar10.load_data()"
   ]
  },
  {
   "cell_type": "code",
   "execution_count": 3,
   "metadata": {},
   "outputs": [],
   "source": [
    "## 資料前處理\n",
    "def preproc_x(x, flatten=True):\n",
    "    x = x / 255.\n",
    "    if flatten:\n",
    "        x = x.reshape((len(x), -1))\n",
    "    return x\n",
    "\n",
    "def preproc_y(y, num_classes=10):\n",
    "    if y.shape[-1] == 1:\n",
    "        y = keras.utils.to_categorical(y, num_classes)\n",
    "    return y    "
   ]
  },
  {
   "cell_type": "code",
   "execution_count": 4,
   "metadata": {},
   "outputs": [],
   "source": [
    "x_train, y_train = train\n",
    "x_test, y_test = test\n",
    "\n",
    "# 資料前處理 - X 標準化\n",
    "x_train = preproc_x(x_train)\n",
    "x_test = preproc_x(x_test)\n",
    "\n",
    "# 資料前處理 -Y 轉成 onehot\n",
    "y_train = preproc_y(y_train)\n",
    "y_test = preproc_y(y_test)"
   ]
  },
  {
   "cell_type": "code",
   "execution_count": 5,
   "metadata": {},
   "outputs": [],
   "source": [
    "from keras.layers import Dropout\n",
    "\n",
    "\"\"\"\n",
    "建立神經網路，並加入 dropout layer\n",
    "\"\"\"\n",
    "def build_mlp(input_shape, output_units=10, num_neurons=[512, 256, 128], drp_ratio=0.2):\n",
    "    input_layer = keras.layers.Input(input_shape)\n",
    "    \n",
    "    for i, n_units in enumerate(num_neurons):\n",
    "        if i == 0:\n",
    "            x = keras.layers.Dense(units=n_units, \n",
    "                                   activation=\"relu\", \n",
    "                                   name=\"hidden_layer\"+str(i+1))(input_layer)\n",
    "            x = Dropout(drp_ratio)(x)\n",
    "        else:\n",
    "            x = keras.layers.Dense(units=n_units, \n",
    "                                   activation=\"relu\", \n",
    "                                   name=\"hidden_layer\"+str(i+1))(x)\n",
    "            x = Dropout(drp_ratio)(x)\n",
    "    \n",
    "    out = keras.layers.Dense(units=output_units, activation=\"softmax\", name=\"output\")(x)\n",
    "    \n",
    "    model = keras.models.Model(inputs=[input_layer], outputs=[out])\n",
    "    return model"
   ]
  },
  {
   "cell_type": "code",
   "execution_count": 7,
   "metadata": {},
   "outputs": [],
   "source": [
    "## 超參數設定\n",
    "LEARNING_RATE = 1e-3\n",
    "EPOCHS = 50\n",
    "BATCH_SIZE = 256\n",
    "MOMENTUM = 0.95\n",
    "#Dropout_EXP = 0.25\n",
    "Dropout_EXP = 0.2"
   ]
  },
  {
   "cell_type": "code",
   "execution_count": 8,
   "metadata": {
    "scrolled": true
   },
   "outputs": [
    {
     "name": "stdout",
     "output_type": "stream",
     "text": [
      "Model: \"model_1\"\n",
      "_________________________________________________________________\n",
      "Layer (type)                 Output Shape              Param #   \n",
      "=================================================================\n",
      "input_1 (InputLayer)         (None, 3072)              0         \n",
      "_________________________________________________________________\n",
      "hidden_layer1 (Dense)        (None, 512)               1573376   \n",
      "_________________________________________________________________\n",
      "dropout_1 (Dropout)          (None, 512)               0         \n",
      "_________________________________________________________________\n",
      "hidden_layer2 (Dense)        (None, 256)               131328    \n",
      "_________________________________________________________________\n",
      "dropout_2 (Dropout)          (None, 256)               0         \n",
      "_________________________________________________________________\n",
      "hidden_layer3 (Dense)        (None, 128)               32896     \n",
      "_________________________________________________________________\n",
      "dropout_3 (Dropout)          (None, 128)               0         \n",
      "_________________________________________________________________\n",
      "output (Dense)               (None, 10)                1290      \n",
      "=================================================================\n",
      "Total params: 1,738,890\n",
      "Trainable params: 1,738,890\n",
      "Non-trainable params: 0\n",
      "_________________________________________________________________\n",
      "Train on 50000 samples, validate on 10000 samples\n",
      "Epoch 1/50\n",
      "50000/50000 [==============================] - 14s 274us/step - loss: 2.1717 - accuracy: 0.2019 - val_loss: 1.9537 - val_accuracy: 0.3134y - ETA: 2s - loss: 2\n",
      "Epoch 2/50\n",
      "50000/50000 [==============================] - 13s 250us/step - loss: 1.9555 - accuracy: 0.2926 - val_loss: 1.8293 - val_accuracy: 0.3517\n",
      "Epoch 3/50\n",
      "50000/50000 [==============================] - 13s 264us/step - loss: 1.8649 - accuracy: 0.3294 - val_loss: 1.7669 - val_accuracy: 0.3731\n",
      "Epoch 4/50\n",
      "50000/50000 [==============================] - 13s 258us/step - loss: 1.8131 - accuracy: 0.3502 - val_loss: 1.7202 - val_accuracy: 0.3911\n",
      "Epoch 5/50\n",
      "50000/50000 [==============================] - 13s 258us/step - loss: 1.7704 - accuracy: 0.3661 - val_loss: 1.6800 - val_accuracy: 0.4049\n",
      "Epoch 6/50\n",
      "50000/50000 [==============================] - 13s 257us/step - loss: 1.7359 - accuracy: 0.3805 - val_loss: 1.6493 - val_accuracy: 0.4148\n",
      "Epoch 7/50\n",
      "50000/50000 [==============================] - 10s 204us/step - loss: 1.7107 - accuracy: 0.3920 - val_loss: 1.6194 - val_accuracy: 0.4294\n",
      "Epoch 8/50\n",
      "50000/50000 [==============================] - 9s 172us/step - loss: 1.6812 - accuracy: 0.4022 - val_loss: 1.5969 - val_accuracy: 0.4358\n",
      "Epoch 9/50\n",
      "50000/50000 [==============================] - 8s 166us/step - loss: 1.6581 - accuracy: 0.4097 - val_loss: 1.5678 - val_accuracy: 0.4467\n",
      "Epoch 10/50\n",
      "50000/50000 [==============================] - 9s 171us/step - loss: 1.6392 - accuracy: 0.4169 - val_loss: 1.5495 - val_accuracy: 0.4513\n",
      "Epoch 11/50\n",
      "50000/50000 [==============================] - 9s 172us/step - loss: 1.6179 - accuracy: 0.4234 - val_loss: 1.5302 - val_accuracy: 0.4589\n",
      "Epoch 12/50\n",
      "50000/50000 [==============================] - 9s 178us/step - loss: 1.5983 - accuracy: 0.4308 - val_loss: 1.5195 - val_accuracy: 0.4611\n",
      "Epoch 13/50\n",
      "50000/50000 [==============================] - 9s 177us/step - loss: 1.5815 - accuracy: 0.4399 - val_loss: 1.4998 - val_accuracy: 0.4676\n",
      "Epoch 14/50\n",
      "50000/50000 [==============================] - 9s 179us/step - loss: 1.5643 - accuracy: 0.4422 - val_loss: 1.4908 - val_accuracy: 0.4673\n",
      "Epoch 15/50\n",
      "50000/50000 [==============================] - 9s 177us/step - loss: 1.5513 - accuracy: 0.4481 - val_loss: 1.4886 - val_accuracy: 0.4719\n",
      "Epoch 16/50\n",
      "50000/50000 [==============================] - 9s 171us/step - loss: 1.5339 - accuracy: 0.4519 - val_loss: 1.4659 - val_accuracy: 0.4777\n",
      "Epoch 17/50\n",
      "50000/50000 [==============================] - 9s 175us/step - loss: 1.5196 - accuracy: 0.4607 - val_loss: 1.4536 - val_accuracy: 0.4862\n",
      "Epoch 18/50\n",
      "50000/50000 [==============================] - 9s 172us/step - loss: 1.5086 - accuracy: 0.4618 - val_loss: 1.4502 - val_accuracy: 0.4844\n",
      "Epoch 19/50\n",
      "50000/50000 [==============================] - 9s 176us/step - loss: 1.4948 - accuracy: 0.4679 - val_loss: 1.4391 - val_accuracy: 0.4902\n",
      "Epoch 20/50\n",
      "50000/50000 [==============================] - 9s 174us/step - loss: 1.4825 - accuracy: 0.4729 - val_loss: 1.4240 - val_accuracy: 0.4949\n",
      "Epoch 21/50\n",
      "50000/50000 [==============================] - 9s 177us/step - loss: 1.4728 - accuracy: 0.4755 - val_loss: 1.4195 - val_accuracy: 0.4968\n",
      "Epoch 22/50\n",
      "50000/50000 [==============================] - 9s 172us/step - loss: 1.4586 - accuracy: 0.4831 - val_loss: 1.4204 - val_accuracy: 0.4925\n",
      "Epoch 23/50\n",
      "50000/50000 [==============================] - 9s 180us/step - loss: 1.4446 - accuracy: 0.4852 - val_loss: 1.4071 - val_accuracy: 0.4954\n",
      "Epoch 24/50\n",
      "50000/50000 [==============================] - 10s 196us/step - loss: 1.4365 - accuracy: 0.4866 - val_loss: 1.4128 - val_accuracy: 0.4920\n",
      "Epoch 25/50\n",
      "50000/50000 [==============================] - 9s 178us/step - loss: 1.4295 - accuracy: 0.4910 - val_loss: 1.3896 - val_accuracy: 0.5025\n",
      "Epoch 26/50\n",
      "50000/50000 [==============================] - 9s 177us/step - loss: 1.4121 - accuracy: 0.4973 - val_loss: 1.3772 - val_accuracy: 0.5058\n",
      "Epoch 27/50\n",
      "50000/50000 [==============================] - 9s 173us/step - loss: 1.4039 - accuracy: 0.4994 - val_loss: 1.3690 - val_accuracy: 0.5076\n",
      "Epoch 28/50\n",
      "50000/50000 [==============================] - 9s 185us/step - loss: 1.3960 - accuracy: 0.5010 - val_loss: 1.3743 - val_accuracy: 0.5028\n",
      "Epoch 29/50\n",
      "50000/50000 [==============================] - 9s 172us/step - loss: 1.3852 - accuracy: 0.5064 - val_loss: 1.3631 - val_accuracy: 0.5159\n",
      "Epoch 30/50\n",
      "50000/50000 [==============================] - 9s 177us/step - loss: 1.3786 - accuracy: 0.5069 - val_loss: 1.3624 - val_accuracy: 0.5101\n",
      "Epoch 31/50\n",
      "50000/50000 [==============================] - 9s 174us/step - loss: 1.3705 - accuracy: 0.5111 - val_loss: 1.3594 - val_accuracy: 0.5147\n",
      "Epoch 32/50\n",
      "50000/50000 [==============================] - 9s 178us/step - loss: 1.3620 - accuracy: 0.5151 - val_loss: 1.3582 - val_accuracy: 0.5094\n",
      "Epoch 33/50\n",
      "50000/50000 [==============================] - 9s 177us/step - loss: 1.3507 - accuracy: 0.5182 - val_loss: 1.3481 - val_accuracy: 0.5166\n",
      "Epoch 34/50\n",
      "50000/50000 [==============================] - 9s 173us/step - loss: 1.3448 - accuracy: 0.5194 - val_loss: 1.3327 - val_accuracy: 0.5210\n",
      "Epoch 35/50\n",
      "50000/50000 [==============================] - 9s 177us/step - loss: 1.3315 - accuracy: 0.5251 - val_loss: 1.3328 - val_accuracy: 0.5225\n",
      "Epoch 36/50\n",
      "50000/50000 [==============================] - 9s 171us/step - loss: 1.3207 - accuracy: 0.5294 - val_loss: 1.3367 - val_accuracy: 0.5192\n",
      "Epoch 37/50\n",
      "50000/50000 [==============================] - 9s 177us/step - loss: 1.3151 - accuracy: 0.5299 - val_loss: 1.3300 - val_accuracy: 0.5244\n",
      "Epoch 38/50\n",
      "50000/50000 [==============================] - 9s 178us/step - loss: 1.3088 - accuracy: 0.5335 - val_loss: 1.3191 - val_accuracy: 0.5250\n",
      "Epoch 39/50\n",
      "50000/50000 [==============================] - 9s 187us/step - loss: 1.3003 - accuracy: 0.5353 - val_loss: 1.3316 - val_accuracy: 0.5265\n",
      "Epoch 40/50\n",
      "50000/50000 [==============================] - 9s 174us/step - loss: 1.2941 - accuracy: 0.5394 - val_loss: 1.3176 - val_accuracy: 0.5284\n",
      "Epoch 41/50\n",
      "50000/50000 [==============================] - 9s 179us/step - loss: 1.2879 - accuracy: 0.5396 - val_loss: 1.3178 - val_accuracy: 0.5228\n",
      "Epoch 42/50\n",
      "50000/50000 [==============================] - 9s 176us/step - loss: 1.2822 - accuracy: 0.5414 - val_loss: 1.3174 - val_accuracy: 0.5245\n",
      "Epoch 43/50\n",
      "50000/50000 [==============================] - 9s 173us/step - loss: 1.2704 - accuracy: 0.5478 - val_loss: 1.3090 - val_accuracy: 0.5278\n",
      "Epoch 44/50\n",
      "50000/50000 [==============================] - 9s 178us/step - loss: 1.2636 - accuracy: 0.5486 - val_loss: 1.3079 - val_accuracy: 0.5298\n",
      "Epoch 45/50\n",
      "50000/50000 [==============================] - 9s 175us/step - loss: 1.2585 - accuracy: 0.5492 - val_loss: 1.3148 - val_accuracy: 0.5252\n",
      "Epoch 46/50\n"
     ]
    },
    {
     "name": "stdout",
     "output_type": "stream",
     "text": [
      "50000/50000 [==============================] - 9s 171us/step - loss: 1.2522 - accuracy: 0.5521 - val_loss: 1.3089 - val_accuracy: 0.5339\n",
      "Epoch 47/50\n",
      "50000/50000 [==============================] - 8s 167us/step - loss: 1.2455 - accuracy: 0.5570 - val_loss: 1.3029 - val_accuracy: 0.5341\n",
      "Epoch 48/50\n",
      "50000/50000 [==============================] - 9s 171us/step - loss: 1.2358 - accuracy: 0.5573 - val_loss: 1.2975 - val_accuracy: 0.5348\n",
      "Epoch 49/50\n",
      "50000/50000 [==============================] - 8s 166us/step - loss: 1.2315 - accuracy: 0.5618 - val_loss: 1.2940 - val_accuracy: 0.5392\n",
      "Epoch 50/50\n",
      "50000/50000 [==============================] - 9s 171us/step - loss: 1.2261 - accuracy: 0.5607 - val_loss: 1.2956 - val_accuracy: 0.5352\n"
     ]
    }
   ],
   "source": [
    "model = build_mlp(input_shape=x_train.shape[1:], drp_ratio=Dropout_EXP)\n",
    "model.summary()\n",
    "optimizer = keras.optimizers.SGD(lr=LEARNING_RATE, nesterov=True, momentum=MOMENTUM)\n",
    "model.compile(loss=\"categorical_crossentropy\", metrics=[\"accuracy\"], optimizer=optimizer)\n",
    "\n",
    "model.fit(x_train, y_train, \n",
    "          epochs=EPOCHS, \n",
    "          batch_size=BATCH_SIZE, \n",
    "          validation_data=(x_test, y_test), \n",
    "          shuffle=True)\n",
    "\n",
    "# Collect results\n",
    "train_loss = model.history.history[\"loss\"]\n",
    "valid_loss = model.history.history[\"val_loss\"]\n",
    "train_acc = model.history.history[\"accuracy\"]\n",
    "valid_acc = model.history.history[\"val_accuracy\"]"
   ]
  },
  {
   "cell_type": "code",
   "execution_count": 9,
   "metadata": {},
   "outputs": [
    {
     "data": {
      "image/png": "[encoded data removed]",
      "text/plain": [
       "<Figure size 432x288 with 1 Axes>"
      ]
     },
     "metadata": {
      "needs_background": "light"
     },
     "output_type": "display_data"
    },
    {
     "data": {
      "image/png": "[encoded data removed]",
      "text/plain": [
       "<Figure size 432x288 with 1 Axes>"
      ]
     },
     "metadata": {
      "needs_background": "light"
     },
     "output_type": "display_data"
    }
   ],
   "source": [
    "import matplotlib.pyplot as plt\n",
    "%matplotlib inline\n",
    "\n",
    "plt.plot(range(len(train_loss)), train_loss, label=\"train loss\")\n",
    "plt.plot(range(len(valid_loss)), valid_loss, label=\"valid loss\")\n",
    "plt.legend()\n",
    "plt.title(\"Loss\")\n",
    "plt.show()\n",
    "\n",
    "plt.plot(range(len(train_acc)), train_acc, label=\"train accuracy\")\n",
    "plt.plot(range(len(valid_acc)), valid_acc, label=\"valid accuracy\")\n",
    "plt.legend()\n",
    "plt.title(\"Accuracy\")\n",
    "plt.show()"
   ]
  },
  {
   "cell_type": "markdown",
   "metadata": {},
   "source": [
    "## Work\n",
    "1. 請比較使用不同層數以及不同 Dropout rate 對訓練的效果\n",
    "2. 將 optimizer 改成使用 Adam 並加上適當的 dropout rate 檢視結果"
   ]
  }
 ],
 "metadata": {
  "kernelspec": {
   "display_name": "Python 3",
   "language": "python",
   "name": "python3"
  },
  "language_info": {
   "codemirror_mode": {
    "name": "ipython",
    "version": 3
   },
   "file_extension": ".py",
   "mimetype": "text/x-python",
   "name": "python",
   "nbconvert_exporter": "python",
   "pygments_lexer": "ipython3",
   "version": "3.7.4"
  }
 },
 "nbformat": 4,
 "nbformat_minor": 2
}
