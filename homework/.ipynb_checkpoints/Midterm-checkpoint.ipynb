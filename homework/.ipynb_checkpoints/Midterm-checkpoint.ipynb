{
 "cells": [
  {
   "cell_type": "code",
   "execution_count": 1,
   "metadata": {},
   "outputs": [],
   "source": [
    "import pandas as pd\n",
    "import os\n",
    "\n",
    "data_path = r'C:\\Users\\AlbertHsu\\Documents\\GitHub\\4th-ML100Days\\homework\\midterm'\n",
    "df_path_train = os.path.join(data_path, 'train_data.csv') \n",
    "df_train = pd.read_csv(df_path_train)\n",
    "df_path_test = os.path.join(data_path, 'test_features.csv')\n",
    "df_test = pd.read_csv(df_path_test)\n",
    "\n",
    "#for size of data union, give test data 'poi' columns. Delete it later\n",
    "df_test['poi'] = [1,1,1,1,1,0,0,0,0,0,0,0,0,0,0,0,0,0,0,0,0,0,0,0,0,0,0,0,0,0,0,0,0]"
   ]
  },
  {
   "cell_type": "code",
   "execution_count": 2,
   "metadata": {},
   "outputs": [
    {
     "data": {
      "text/plain": [
       "<Figure size 640x480 with 1 Axes>"
      ]
     },
     "metadata": {},
     "output_type": "display_data"
    },
    {
     "data": {
      "text/plain": [
       "<Figure size 640x480 with 1 Axes>"
      ]
     },
     "metadata": {},
     "output_type": "display_data"
    },
    {
     "data": {
      "text/plain": [
       "<Figure size 640x480 with 1 Axes>"
      ]
     },
     "metadata": {},
     "output_type": "display_data"
    },
    {
     "data": {
      "text/plain": [
       "<Figure size 640x480 with 1 Axes>"
      ]
     },
     "metadata": {},
     "output_type": "display_data"
    },
    {
     "data": {
      "text/plain": [
       "<Figure size 640x480 with 1 Axes>"
      ]
     },
     "metadata": {},
     "output_type": "display_data"
    },
    {
     "data": {
      "text/plain": [
       "<Figure size 640x480 with 1 Axes>"
      ]
     },
     "metadata": {},
     "output_type": "display_data"
    },
    {
     "data": {
      "text/plain": [
       "<Figure size 640x480 with 1 Axes>"
      ]
     },
     "metadata": {},
     "output_type": "display_data"
    },
    {
     "data": {
      "text/plain": [
       "<Figure size 640x480 with 1 Axes>"
      ]
     },
     "metadata": {},
     "output_type": "display_data"
    },
    {
     "data": {
      "text/plain": [
       "<Figure size 640x480 with 1 Axes>"
      ]
     },
     "metadata": {},
     "output_type": "display_data"
    },
    {
     "data": {
      "text/plain": [
       "<Figure size 640x480 with 1 Axes>"
      ]
     },
     "metadata": {},
     "output_type": "display_data"
    },
    {
     "data": {
      "text/plain": [
       "<Figure size 640x480 with 1 Axes>"
      ]
     },
     "metadata": {},
     "output_type": "display_data"
    },
    {
     "data": {
      "text/plain": [
       "<Figure size 640x480 with 1 Axes>"
      ]
     },
     "metadata": {},
     "output_type": "display_data"
    },
    {
     "data": {
      "text/plain": [
       "<Figure size 640x480 with 1 Axes>"
      ]
     },
     "metadata": {},
     "output_type": "display_data"
    },
    {
     "data": {
      "text/plain": [
       "<Figure size 640x480 with 1 Axes>"
      ]
     },
     "metadata": {},
     "output_type": "display_data"
    },
    {
     "data": {
      "text/plain": [
       "<Figure size 640x480 with 1 Axes>"
      ]
     },
     "metadata": {},
     "output_type": "display_data"
    },
    {
     "data": {
      "text/plain": [
       "<Figure size 640x480 with 1 Axes>"
      ]
     },
     "metadata": {},
     "output_type": "display_data"
    },
    {
     "data": {
      "text/plain": [
       "<Figure size 640x480 with 1 Axes>"
      ]
     },
     "metadata": {},
     "output_type": "display_data"
    },
    {
     "data": {
      "text/plain": [
       "<Figure size 640x480 with 1 Axes>"
      ]
     },
     "metadata": {},
     "output_type": "display_data"
    },
    {
     "data": {
      "text/plain": [
       "<Figure size 640x480 with 1 Axes>"
      ]
     },
     "metadata": {},
     "output_type": "display_data"
    },
    {
     "data": {
      "text/html": [
       "<div>\n",
       "<style scoped>\n",
       "    .dataframe tbody tr th:only-of-type {\n",
       "        vertical-align: middle;\n",
       "    }\n",
       "\n",
       "    .dataframe tbody tr th {\n",
       "        vertical-align: top;\n",
       "    }\n",
       "\n",
       "    .dataframe thead th {\n",
       "        text-align: right;\n",
       "    }\n",
       "</style>\n",
       "<table border=\"1\" class=\"dataframe\">\n",
       "  <thead>\n",
       "    <tr style=\"text-align: right;\">\n",
       "      <th></th>\n",
       "      <th>bonus</th>\n",
       "      <th>deferral_payments</th>\n",
       "      <th>deferred_income</th>\n",
       "      <th>director_fees</th>\n",
       "      <th>exercised_stock_options</th>\n",
       "      <th>expenses</th>\n",
       "      <th>from_messages</th>\n",
       "      <th>from_poi_to_this_person</th>\n",
       "      <th>from_this_person_to_poi</th>\n",
       "      <th>loan_advances</th>\n",
       "      <th>long_term_incentive</th>\n",
       "      <th>other</th>\n",
       "      <th>restricted_stock</th>\n",
       "      <th>restricted_stock_deferred</th>\n",
       "      <th>salary</th>\n",
       "      <th>shared_receipt_with_poi</th>\n",
       "      <th>to_messages</th>\n",
       "      <th>total_payments</th>\n",
       "      <th>total_stock_value</th>\n",
       "    </tr>\n",
       "  </thead>\n",
       "  <tbody>\n",
       "    <tr>\n",
       "      <td>count</td>\n",
       "      <td>6.100000e+01</td>\n",
       "      <td>2.800000e+01</td>\n",
       "      <td>3.400000e+01</td>\n",
       "      <td>13.000000</td>\n",
       "      <td>8.100000e+01</td>\n",
       "      <td>73.000000</td>\n",
       "      <td>65.000000</td>\n",
       "      <td>65.000000</td>\n",
       "      <td>65.000000</td>\n",
       "      <td>2.000000e+00</td>\n",
       "      <td>4.900000e+01</td>\n",
       "      <td>6.900000e+01</td>\n",
       "      <td>8.200000e+01</td>\n",
       "      <td>10.000000</td>\n",
       "      <td>7.300000e+01</td>\n",
       "      <td>65.000000</td>\n",
       "      <td>65.000000</td>\n",
       "      <td>9.600000e+01</td>\n",
       "      <td>9.800000e+01</td>\n",
       "    </tr>\n",
       "    <tr>\n",
       "      <td>mean</td>\n",
       "      <td>1.147436e+06</td>\n",
       "      <td>6.344374e+05</td>\n",
       "      <td>-4.625664e+05</td>\n",
       "      <td>89397.846154</td>\n",
       "      <td>2.985081e+06</td>\n",
       "      <td>51040.547945</td>\n",
       "      <td>711.323077</td>\n",
       "      <td>64.800000</td>\n",
       "      <td>40.092308</td>\n",
       "      <td>4.096250e+07</td>\n",
       "      <td>7.926171e+05</td>\n",
       "      <td>4.471774e+05</td>\n",
       "      <td>1.294855e+06</td>\n",
       "      <td>-221885.700000</td>\n",
       "      <td>2.739025e+05</td>\n",
       "      <td>1111.369231</td>\n",
       "      <td>2156.061538</td>\n",
       "      <td>2.590977e+06</td>\n",
       "      <td>3.527136e+06</td>\n",
       "    </tr>\n",
       "    <tr>\n",
       "      <td>std</td>\n",
       "      <td>1.505189e+06</td>\n",
       "      <td>8.603646e+05</td>\n",
       "      <td>8.095392e+05</td>\n",
       "      <td>41143.391399</td>\n",
       "      <td>6.004174e+06</td>\n",
       "      <td>47596.682104</td>\n",
       "      <td>2074.497628</td>\n",
       "      <td>91.863214</td>\n",
       "      <td>88.901407</td>\n",
       "      <td>5.736404e+07</td>\n",
       "      <td>9.504645e+05</td>\n",
       "      <td>1.341564e+06</td>\n",
       "      <td>2.498335e+06</td>\n",
       "      <td>205191.374121</td>\n",
       "      <td>1.716647e+05</td>\n",
       "      <td>1165.852016</td>\n",
       "      <td>2811.676718</td>\n",
       "      <td>1.056645e+07</td>\n",
       "      <td>7.182997e+06</td>\n",
       "    </tr>\n",
       "    <tr>\n",
       "      <td>min</td>\n",
       "      <td>7.000000e+04</td>\n",
       "      <td>-1.025000e+05</td>\n",
       "      <td>-3.504386e+06</td>\n",
       "      <td>3285.000000</td>\n",
       "      <td>3.285000e+03</td>\n",
       "      <td>148.000000</td>\n",
       "      <td>12.000000</td>\n",
       "      <td>0.000000</td>\n",
       "      <td>0.000000</td>\n",
       "      <td>4.000000e+05</td>\n",
       "      <td>7.102300e+04</td>\n",
       "      <td>2.000000e+00</td>\n",
       "      <td>4.409300e+04</td>\n",
       "      <td>-560222.000000</td>\n",
       "      <td>4.770000e+02</td>\n",
       "      <td>2.000000</td>\n",
       "      <td>57.000000</td>\n",
       "      <td>1.480000e+02</td>\n",
       "      <td>-4.409300e+04</td>\n",
       "    </tr>\n",
       "    <tr>\n",
       "      <td>25%</td>\n",
       "      <td>4.500000e+05</td>\n",
       "      <td>7.656750e+04</td>\n",
       "      <td>-5.527032e+05</td>\n",
       "      <td>101250.000000</td>\n",
       "      <td>4.004780e+05</td>\n",
       "      <td>18834.000000</td>\n",
       "      <td>19.000000</td>\n",
       "      <td>10.000000</td>\n",
       "      <td>0.000000</td>\n",
       "      <td>2.068125e+07</td>\n",
       "      <td>2.750000e+05</td>\n",
       "      <td>9.720000e+02</td>\n",
       "      <td>2.689220e+05</td>\n",
       "      <td>-389621.750000</td>\n",
       "      <td>2.061210e+05</td>\n",
       "      <td>178.000000</td>\n",
       "      <td>517.000000</td>\n",
       "      <td>3.024025e+05</td>\n",
       "      <td>4.211518e+05</td>\n",
       "    </tr>\n",
       "    <tr>\n",
       "      <td>50%</td>\n",
       "      <td>7.500000e+05</td>\n",
       "      <td>1.951900e+05</td>\n",
       "      <td>-1.175340e+05</td>\n",
       "      <td>108579.000000</td>\n",
       "      <td>8.500100e+05</td>\n",
       "      <td>41953.000000</td>\n",
       "      <td>45.000000</td>\n",
       "      <td>28.000000</td>\n",
       "      <td>7.000000</td>\n",
       "      <td>4.096250e+07</td>\n",
       "      <td>4.221580e+05</td>\n",
       "      <td>5.238200e+04</td>\n",
       "      <td>4.628225e+05</td>\n",
       "      <td>-139856.500000</td>\n",
       "      <td>2.516540e+05</td>\n",
       "      <td>599.000000</td>\n",
       "      <td>1088.000000</td>\n",
       "      <td>1.106740e+06</td>\n",
       "      <td>9.979710e+05</td>\n",
       "    </tr>\n",
       "    <tr>\n",
       "      <td>75%</td>\n",
       "      <td>1.000000e+06</td>\n",
       "      <td>8.342052e+05</td>\n",
       "      <td>-2.708325e+04</td>\n",
       "      <td>112492.000000</td>\n",
       "      <td>2.165172e+06</td>\n",
       "      <td>59175.000000</td>\n",
       "      <td>215.000000</td>\n",
       "      <td>88.000000</td>\n",
       "      <td>27.000000</td>\n",
       "      <td>6.124375e+07</td>\n",
       "      <td>8.318090e+05</td>\n",
       "      <td>3.620960e+05</td>\n",
       "      <td>9.664905e+05</td>\n",
       "      <td>-77953.250000</td>\n",
       "      <td>2.885890e+05</td>\n",
       "      <td>1902.000000</td>\n",
       "      <td>2649.000000</td>\n",
       "      <td>1.985668e+06</td>\n",
       "      <td>2.493616e+06</td>\n",
       "    </tr>\n",
       "    <tr>\n",
       "      <td>max</td>\n",
       "      <td>8.000000e+06</td>\n",
       "      <td>2.964506e+06</td>\n",
       "      <td>-1.042000e+03</td>\n",
       "      <td>125034.000000</td>\n",
       "      <td>3.434838e+07</td>\n",
       "      <td>228763.000000</td>\n",
       "      <td>14368.000000</td>\n",
       "      <td>528.000000</td>\n",
       "      <td>411.000000</td>\n",
       "      <td>8.152500e+07</td>\n",
       "      <td>5.145434e+06</td>\n",
       "      <td>1.035973e+07</td>\n",
       "      <td>1.476169e+07</td>\n",
       "      <td>44093.000000</td>\n",
       "      <td>1.111258e+06</td>\n",
       "      <td>4527.000000</td>\n",
       "      <td>15149.000000</td>\n",
       "      <td>1.035598e+08</td>\n",
       "      <td>4.911008e+07</td>\n",
       "    </tr>\n",
       "  </tbody>\n",
       "</table>\n",
       "</div>"
      ],
      "text/plain": [
       "              bonus  deferral_payments  deferred_income  director_fees  \\\n",
       "count  6.100000e+01       2.800000e+01     3.400000e+01      13.000000   \n",
       "mean   1.147436e+06       6.344374e+05    -4.625664e+05   89397.846154   \n",
       "std    1.505189e+06       8.603646e+05     8.095392e+05   41143.391399   \n",
       "min    7.000000e+04      -1.025000e+05    -3.504386e+06    3285.000000   \n",
       "25%    4.500000e+05       7.656750e+04    -5.527032e+05  101250.000000   \n",
       "50%    7.500000e+05       1.951900e+05    -1.175340e+05  108579.000000   \n",
       "75%    1.000000e+06       8.342052e+05    -2.708325e+04  112492.000000   \n",
       "max    8.000000e+06       2.964506e+06    -1.042000e+03  125034.000000   \n",
       "\n",
       "       exercised_stock_options       expenses  from_messages  \\\n",
       "count             8.100000e+01      73.000000      65.000000   \n",
       "mean              2.985081e+06   51040.547945     711.323077   \n",
       "std               6.004174e+06   47596.682104    2074.497628   \n",
       "min               3.285000e+03     148.000000      12.000000   \n",
       "25%               4.004780e+05   18834.000000      19.000000   \n",
       "50%               8.500100e+05   41953.000000      45.000000   \n",
       "75%               2.165172e+06   59175.000000     215.000000   \n",
       "max               3.434838e+07  228763.000000   14368.000000   \n",
       "\n",
       "       from_poi_to_this_person  from_this_person_to_poi  loan_advances  \\\n",
       "count                65.000000                65.000000   2.000000e+00   \n",
       "mean                 64.800000                40.092308   4.096250e+07   \n",
       "std                  91.863214                88.901407   5.736404e+07   \n",
       "min                   0.000000                 0.000000   4.000000e+05   \n",
       "25%                  10.000000                 0.000000   2.068125e+07   \n",
       "50%                  28.000000                 7.000000   4.096250e+07   \n",
       "75%                  88.000000                27.000000   6.124375e+07   \n",
       "max                 528.000000               411.000000   8.152500e+07   \n",
       "\n",
       "       long_term_incentive         other  restricted_stock  \\\n",
       "count         4.900000e+01  6.900000e+01      8.200000e+01   \n",
       "mean          7.926171e+05  4.471774e+05      1.294855e+06   \n",
       "std           9.504645e+05  1.341564e+06      2.498335e+06   \n",
       "min           7.102300e+04  2.000000e+00      4.409300e+04   \n",
       "25%           2.750000e+05  9.720000e+02      2.689220e+05   \n",
       "50%           4.221580e+05  5.238200e+04      4.628225e+05   \n",
       "75%           8.318090e+05  3.620960e+05      9.664905e+05   \n",
       "max           5.145434e+06  1.035973e+07      1.476169e+07   \n",
       "\n",
       "       restricted_stock_deferred        salary  shared_receipt_with_poi  \\\n",
       "count                  10.000000  7.300000e+01                65.000000   \n",
       "mean              -221885.700000  2.739025e+05              1111.369231   \n",
       "std                205191.374121  1.716647e+05              1165.852016   \n",
       "min               -560222.000000  4.770000e+02                 2.000000   \n",
       "25%               -389621.750000  2.061210e+05               178.000000   \n",
       "50%               -139856.500000  2.516540e+05               599.000000   \n",
       "75%                -77953.250000  2.885890e+05              1902.000000   \n",
       "max                 44093.000000  1.111258e+06              4527.000000   \n",
       "\n",
       "        to_messages  total_payments  total_stock_value  \n",
       "count     65.000000    9.600000e+01       9.800000e+01  \n",
       "mean    2156.061538    2.590977e+06       3.527136e+06  \n",
       "std     2811.676718    1.056645e+07       7.182997e+06  \n",
       "min       57.000000    1.480000e+02      -4.409300e+04  \n",
       "25%      517.000000    3.024025e+05       4.211518e+05  \n",
       "50%     1088.000000    1.106740e+06       9.979710e+05  \n",
       "75%     2649.000000    1.985668e+06       2.493616e+06  \n",
       "max    15149.000000    1.035598e+08       4.911008e+07  "
      ]
     },
     "execution_count": 2,
     "metadata": {},
     "output_type": "execute_result"
    }
   ],
   "source": [
    "#try to find out if there is any outlier, by hist bin plt\n",
    "import matplotlib.pyplot as plt\n",
    "\n",
    "for dtype, feature in zip(df_train.dtypes, df_train.columns):\n",
    "    if dtype == 'float64' or dtype == 'int64':\n",
    "        df_train[feature].hist(bins = 25)\n",
    "        plt.title(feature)\n",
    "        plt.show(800,600)\n",
    "        \n",
    "df_train.describe()"
   ]
  },
  {
   "cell_type": "code",
   "execution_count": 3,
   "metadata": {},
   "outputs": [
    {
     "name": "stdout",
     "output_type": "stream",
     "text": [
      "(32, 22)\n"
     ]
    }
   ],
   "source": [
    "df_train = df_train.drop([50], axis = 0) # Belfer Robert, data incorrect \n",
    "df_train = df_train.drop([65], axis = 0) # drop travel agency\n",
    "df_train = df_train.drop([107], axis = 0) # drop LockHart (all NA)\n",
    "df_test = df_test.drop([20], axis=0) #total?\n",
    "print(df_test.shape)\n",
    "#print(df_train.loc[107])\n",
    "\n",
    "#BHATNAGAR SANJAY data has misalignment, shift it back!\n",
    "df_test.loc[\"BHATNAGAR SANJAY\", :] = [\n",
    "    'BHATNAGAR SANJAY',0,0,0,0,0,15456290,137864,29,0,1,0,0,0,2604490,-2604490,0,463,523,137864,15456290, 0\n",
    "]\n",
    "\n",
    "#print(df_test.loc[\"BHATNAGAR SANJAY\"])"
   ]
  },
  {
   "cell_type": "code",
   "execution_count": 4,
   "metadata": {},
   "outputs": [],
   "source": [
    "#fill NAN respectivly regarding to finaicial features and mail features \n",
    "#For finicial features, I believes NA represent 0, literally.\n",
    "#For mail features, I am gooing to fill NA with mean or median values groupby POI or not POI\n",
    "\n",
    "#drop some useless data\n",
    "\n",
    "F_features = {'salary', 'deferral_payments', 'total_payments', 'loan_advances', 'bonus', 'restricted_stock_deferred',\n",
    "              'deferred_income', 'total_stock_value', 'expenses', 'exercised_stock_options', 'other', 'long_term_incentive', 'restricted_stock', 'director_fees'}\n",
    "M_features = {'to_messages', 'email_address', 'from_poi_to_this_person', 'from_messages', 'from_this_person_to_poi', 'shared_receipt_with_poi'}\n",
    "\n",
    "#using 0 to fill in NA in Finance features\n",
    "for feature in df_train[F_features]:\n",
    "    df_train[feature] = df_train[feature].fillna(0)\n",
    "    #df[feature] = df[feature].fillna(df[feature].median())\n",
    "\n",
    "    ###########################using poi and non poi fill na###########################    \n",
    "#Deal poi and non-poi respectively. If he/she is poi, fill this person's mail amount with poi's median(or mean). Vice versa, for non poi person. \n",
    "df_POI = df_train[df_train['poi']==True]\n",
    "df_NotPOI = df_train[df_train['poi']==False]\n",
    "\n",
    "df_POI_temp = df_POI[M_features].fillna(df_POI[M_features].median())\n",
    "df_NotPOI_temp = df_NotPOI[M_features].fillna(df_NotPOI[M_features].median())\n",
    "\n",
    "df_train_temp = pd.concat([df_POI_temp,df_NotPOI_temp])\n",
    "\n",
    "for feature in df_train[M_features]:\n",
    "    df_train[feature] = df_train_temp[feature]\n",
    "\n",
    "#################################fill na with median##################################\n",
    "#for dtype, feature in  zip(df_train[M_features].dtypes, df_train[M_features]):\n",
    "#    if dtype == 'float64' or dtype == 'int64':\n",
    "#        df_train[feature] = df_train[feature].fillna(df_train[feature].median())\n",
    "\n",
    "\n",
    "#name & email address(?) seems useless, drop it for now\n",
    "#df_train = df_train.drop(['name', 'email_address'] , axis=1)\n"
   ]
  },
  {
   "cell_type": "code",
   "execution_count": 5,
   "metadata": {},
   "outputs": [
    {
     "data": {
      "text/html": [
       "<div>\n",
       "<style scoped>\n",
       "    .dataframe tbody tr th:only-of-type {\n",
       "        vertical-align: middle;\n",
       "    }\n",
       "\n",
       "    .dataframe tbody tr th {\n",
       "        vertical-align: top;\n",
       "    }\n",
       "\n",
       "    .dataframe thead th {\n",
       "        text-align: right;\n",
       "    }\n",
       "</style>\n",
       "<table border=\"1\" class=\"dataframe\">\n",
       "  <thead>\n",
       "    <tr style=\"text-align: right;\">\n",
       "      <th></th>\n",
       "      <th>bonus</th>\n",
       "      <th>long_term_incentive</th>\n",
       "      <th>restricted_stock</th>\n",
       "      <th>deferral_payments</th>\n",
       "      <th>salary</th>\n",
       "      <th>ratio_messages_to_poi</th>\n",
       "      <th>ratio_messages_from_poi</th>\n",
       "      <th>other</th>\n",
       "      <th>total_payments</th>\n",
       "      <th>shared_receipt_with_poi</th>\n",
       "      <th>exercised_stock_options</th>\n",
       "      <th>expenses</th>\n",
       "      <th>total_stock_value</th>\n",
       "      <th>deferred_income</th>\n",
       "    </tr>\n",
       "  </thead>\n",
       "  <tbody>\n",
       "    <tr>\n",
       "      <td>count</td>\n",
       "      <td>1.100000e+02</td>\n",
       "      <td>1.100000e+02</td>\n",
       "      <td>1.100000e+02</td>\n",
       "      <td>1.100000e+02</td>\n",
       "      <td>1.100000e+02</td>\n",
       "      <td>110.000000</td>\n",
       "      <td>110.000000</td>\n",
       "      <td>1.100000e+02</td>\n",
       "      <td>1.100000e+02</td>\n",
       "      <td>110.000000</td>\n",
       "      <td>1.100000e+02</td>\n",
       "      <td>110.000000</td>\n",
       "      <td>1.100000e+02</td>\n",
       "      <td>1.100000e+02</td>\n",
       "    </tr>\n",
       "    <tr>\n",
       "      <td>mean</td>\n",
       "      <td>6.363056e+05</td>\n",
       "      <td>3.530749e+05</td>\n",
       "      <td>9.652554e+05</td>\n",
       "      <td>1.624250e+05</td>\n",
       "      <td>1.817717e+05</td>\n",
       "      <td>0.146821</td>\n",
       "      <td>0.033048</td>\n",
       "      <td>2.772104e+05</td>\n",
       "      <td>2.256993e+06</td>\n",
       "      <td>911.750000</td>\n",
       "      <td>2.198075e+06</td>\n",
       "      <td>33872.363636</td>\n",
       "      <td>3.142758e+06</td>\n",
       "      <td>-1.429751e+05</td>\n",
       "    </tr>\n",
       "    <tr>\n",
       "      <td>std</td>\n",
       "      <td>1.255124e+06</td>\n",
       "      <td>7.446039e+05</td>\n",
       "      <td>2.226966e+06</td>\n",
       "      <td>5.099373e+05</td>\n",
       "      <td>1.906988e+05</td>\n",
       "      <td>0.158407</td>\n",
       "      <td>0.029694</td>\n",
       "      <td>1.081960e+06</td>\n",
       "      <td>9.903530e+06</td>\n",
       "      <td>934.010011</td>\n",
       "      <td>5.310805e+06</td>\n",
       "      <td>45643.206094</td>\n",
       "      <td>6.865338e+06</td>\n",
       "      <td>4.944923e+05</td>\n",
       "    </tr>\n",
       "    <tr>\n",
       "      <td>min</td>\n",
       "      <td>0.000000e+00</td>\n",
       "      <td>0.000000e+00</td>\n",
       "      <td>0.000000e+00</td>\n",
       "      <td>0.000000e+00</td>\n",
       "      <td>0.000000e+00</td>\n",
       "      <td>0.000000</td>\n",
       "      <td>0.000000</td>\n",
       "      <td>0.000000e+00</td>\n",
       "      <td>0.000000e+00</td>\n",
       "      <td>2.000000</td>\n",
       "      <td>0.000000e+00</td>\n",
       "      <td>0.000000</td>\n",
       "      <td>0.000000e+00</td>\n",
       "      <td>-3.504386e+06</td>\n",
       "    </tr>\n",
       "    <tr>\n",
       "      <td>25%</td>\n",
       "      <td>0.000000e+00</td>\n",
       "      <td>0.000000e+00</td>\n",
       "      <td>1.102325e+04</td>\n",
       "      <td>0.000000e+00</td>\n",
       "      <td>0.000000e+00</td>\n",
       "      <td>0.046708</td>\n",
       "      <td>0.020199</td>\n",
       "      <td>0.000000e+00</td>\n",
       "      <td>8.561700e+04</td>\n",
       "      <td>519.000000</td>\n",
       "      <td>0.000000e+00</td>\n",
       "      <td>0.000000</td>\n",
       "      <td>3.248138e+05</td>\n",
       "      <td>-2.500000e+04</td>\n",
       "    </tr>\n",
       "    <tr>\n",
       "      <td>50%</td>\n",
       "      <td>2.750000e+05</td>\n",
       "      <td>0.000000e+00</td>\n",
       "      <td>3.643740e+05</td>\n",
       "      <td>0.000000e+00</td>\n",
       "      <td>2.040380e+05</td>\n",
       "      <td>0.106383</td>\n",
       "      <td>0.026630</td>\n",
       "      <td>7.435000e+02</td>\n",
       "      <td>1.016876e+06</td>\n",
       "      <td>561.500000</td>\n",
       "      <td>5.490075e+05</td>\n",
       "      <td>17674.000000</td>\n",
       "      <td>9.220070e+05</td>\n",
       "      <td>0.000000e+00</td>\n",
       "    </tr>\n",
       "    <tr>\n",
       "      <td>75%</td>\n",
       "      <td>7.500000e+05</td>\n",
       "      <td>3.580560e+05</td>\n",
       "      <td>6.987505e+05</td>\n",
       "      <td>0.000000e+00</td>\n",
       "      <td>2.666300e+05</td>\n",
       "      <td>0.204117</td>\n",
       "      <td>0.030148</td>\n",
       "      <td>1.087765e+05</td>\n",
       "      <td>1.785966e+06</td>\n",
       "      <td>1015.750000</td>\n",
       "      <td>1.632528e+06</td>\n",
       "      <td>50722.000000</td>\n",
       "      <td>2.180983e+06</td>\n",
       "      <td>0.000000e+00</td>\n",
       "    </tr>\n",
       "    <tr>\n",
       "      <td>max</td>\n",
       "      <td>8.000000e+06</td>\n",
       "      <td>5.145434e+06</td>\n",
       "      <td>1.476169e+07</td>\n",
       "      <td>2.964506e+06</td>\n",
       "      <td>1.111258e+06</td>\n",
       "      <td>1.000000</td>\n",
       "      <td>0.161064</td>\n",
       "      <td>1.035973e+07</td>\n",
       "      <td>1.035598e+08</td>\n",
       "      <td>4527.000000</td>\n",
       "      <td>3.434838e+07</td>\n",
       "      <td>228763.000000</td>\n",
       "      <td>4.911008e+07</td>\n",
       "      <td>0.000000e+00</td>\n",
       "    </tr>\n",
       "  </tbody>\n",
       "</table>\n",
       "</div>"
      ],
      "text/plain": [
       "              bonus  long_term_incentive  restricted_stock  deferral_payments  \\\n",
       "count  1.100000e+02         1.100000e+02      1.100000e+02       1.100000e+02   \n",
       "mean   6.363056e+05         3.530749e+05      9.652554e+05       1.624250e+05   \n",
       "std    1.255124e+06         7.446039e+05      2.226966e+06       5.099373e+05   \n",
       "min    0.000000e+00         0.000000e+00      0.000000e+00       0.000000e+00   \n",
       "25%    0.000000e+00         0.000000e+00      1.102325e+04       0.000000e+00   \n",
       "50%    2.750000e+05         0.000000e+00      3.643740e+05       0.000000e+00   \n",
       "75%    7.500000e+05         3.580560e+05      6.987505e+05       0.000000e+00   \n",
       "max    8.000000e+06         5.145434e+06      1.476169e+07       2.964506e+06   \n",
       "\n",
       "             salary  ratio_messages_to_poi  ratio_messages_from_poi  \\\n",
       "count  1.100000e+02             110.000000               110.000000   \n",
       "mean   1.817717e+05               0.146821                 0.033048   \n",
       "std    1.906988e+05               0.158407                 0.029694   \n",
       "min    0.000000e+00               0.000000                 0.000000   \n",
       "25%    0.000000e+00               0.046708                 0.020199   \n",
       "50%    2.040380e+05               0.106383                 0.026630   \n",
       "75%    2.666300e+05               0.204117                 0.030148   \n",
       "max    1.111258e+06               1.000000                 0.161064   \n",
       "\n",
       "              other  total_payments  shared_receipt_with_poi  \\\n",
       "count  1.100000e+02    1.100000e+02               110.000000   \n",
       "mean   2.772104e+05    2.256993e+06               911.750000   \n",
       "std    1.081960e+06    9.903530e+06               934.010011   \n",
       "min    0.000000e+00    0.000000e+00                 2.000000   \n",
       "25%    0.000000e+00    8.561700e+04               519.000000   \n",
       "50%    7.435000e+02    1.016876e+06               561.500000   \n",
       "75%    1.087765e+05    1.785966e+06              1015.750000   \n",
       "max    1.035973e+07    1.035598e+08              4527.000000   \n",
       "\n",
       "       exercised_stock_options       expenses  total_stock_value  \\\n",
       "count             1.100000e+02     110.000000       1.100000e+02   \n",
       "mean              2.198075e+06   33872.363636       3.142758e+06   \n",
       "std               5.310805e+06   45643.206094       6.865338e+06   \n",
       "min               0.000000e+00       0.000000       0.000000e+00   \n",
       "25%               0.000000e+00       0.000000       3.248138e+05   \n",
       "50%               5.490075e+05   17674.000000       9.220070e+05   \n",
       "75%               1.632528e+06   50722.000000       2.180983e+06   \n",
       "max               3.434838e+07  228763.000000       4.911008e+07   \n",
       "\n",
       "       deferred_income  \n",
       "count     1.100000e+02  \n",
       "mean     -1.429751e+05  \n",
       "std       4.944923e+05  \n",
       "min      -3.504386e+06  \n",
       "25%      -2.500000e+04  \n",
       "50%       0.000000e+00  \n",
       "75%       0.000000e+00  \n",
       "max       0.000000e+00  "
      ]
     },
     "execution_count": 5,
     "metadata": {},
     "output_type": "execute_result"
    }
   ],
   "source": [
    "#test: feature selection\n",
    "df_train['ratio_messages_to_poi'] = df_train['from_this_person_to_poi']/df_train['from_messages']  #from_this_person_to_poi/from_messages\n",
    "df_train['ratio_messages_from_poi'] = df_train['from_poi_to_this_person']/df_train['to_messages']\n",
    "#seleFeatures = {'salary', 'deferral_payments', 'total_payments', 'loan_advances', 'bonus', 'restricted_stock_deferred',\n",
    "#                'deferred_income', 'total_stock_value', 'expenses', 'exercised_stock_options', 'other', \n",
    "#                'long_term_incentive', 'restricted_stock', 'director_fees', 'ratio_messages_to_poi', 'ratio_messages_from_poi',\n",
    "#               'shared_receipt_with_poi'}\n",
    "\n",
    "#Features selection is based on print(\"Feature names:\", seleFeatures)\n",
    "#                               print(\"Feature importance gdbt: \", gdbt.feature_importances_)\n",
    "#                               print(\"Feature importance rf: \", rf.feature_importances_)\n",
    "#  in latter cell. Then I feed back to here to modify my feature\n",
    "seleFeatures = {'salary', 'deferral_payments', 'total_payments','bonus', \n",
    "                'deferred_income', 'total_stock_value', 'expenses', 'exercised_stock_options', 'other', \n",
    "                'long_term_incentive', 'restricted_stock',  'ratio_messages_to_poi', 'ratio_messages_from_poi',\n",
    "               'shared_receipt_with_poi'}\n",
    " \n",
    "df_train[seleFeatures].describe()    "
   ]
  },
  {
   "cell_type": "code",
   "execution_count": 6,
   "metadata": {},
   "outputs": [
    {
     "name": "stdout",
     "output_type": "stream",
     "text": [
      "(110, 24)\n"
     ]
    }
   ],
   "source": [
    "#kick out more non poi outlier and data na\n",
    "\n",
    "# HAEDICKE MARK E   \n",
    "# WHALLEY LAWRENCE G \n",
    "# KITCHEN LOUISE\n",
    "# HUMPHREY GENE E\n",
    "# LAVORATO JOHN J\n",
    "# Mcclellan GeoRGE\n",
    "# URQUHART JOHN A\n",
    "# PEREIRA PAULO V. FERRAZ\n",
    "# BELFER ROBERT\n",
    "# THE TRAVEL AGENCY IN THE PARK\n",
    "# LOCKHART EUGENE E\n",
    "\n",
    "#df_train.index = pd.DataFrame({'name': df_test['name'], 'poi': stacking_pred[:,1]})\n",
    "df_train.index = df_train['name']\n",
    "df_train.drop(['HAEDICKE MARK E'], axis = 0)\n",
    "#df_train.drop(['WHALLEY LAWRENCE G'], axis = 0)\n",
    "#df_train.drop(['KITCHEN LOUISE'],axis = 0)\n",
    "df_train.drop(['HUMPHREY GENE E'], axis = 0)\n",
    "df_train.drop(['LAVORATO JOHN J'], axis = 0)\n",
    "#df_train.drop(['MCCLELLAN GEORGE'], axis = 0)\n",
    "#df_train.drop(['URQUHART JOHN A'], axis = 0)\n",
    "#df_train.drop(['PEREIRA PAULO V. FERRAZ'], axis = 0)\n",
    "#df_train.drop(['BELFER ROBERT'], axis = 0)\n",
    "#df_train.drop(['THE TRAVEL AGENCY IN THE PARK'], axis = 0)\n",
    "#df_train.drop(['LOCKHART EUGENE E'], axis = 0)\n",
    "\n",
    "print(df_train.shape)"
   ]
  },
  {
   "cell_type": "code",
   "execution_count": 7,
   "metadata": {},
   "outputs": [],
   "source": [
    "# Since non poi is out number poi\n",
    "# I want to cut my list to half to avoid over fitting\n",
    "df_train.index = range(110)\n",
    "df_train = df_train.loc[0:50]\n",
    "#print(df_train)"
   ]
  },
  {
   "cell_type": "code",
   "execution_count": 8,
   "metadata": {},
   "outputs": [
    {
     "name": "stdout",
     "output_type": "stream",
     "text": [
      "[[0.90438312 0.92509649 0.89816598 0.         0.93021479 0.66056306\n",
      "  0.41500247 0.74730976 0.71156561 0.81594107 0.96823622 0.87170674\n",
      "  0.95603169 0.        ]\n",
      " [0.97756049 0.93621012 0.95343274 0.         1.         0.71092162\n",
      "  0.29142833 0.61933124 0.8656881  0.91993068 0.96662968 0.83359744\n",
      "  0.96429212 1.        ]\n",
      " [0.76792132 0.         0.82843031 0.         0.88094264 0.76879208\n",
      "  0.45675174 0.88332294 0.78624111 0.54184413 0.82414665 0.81346956\n",
      "  0.83171079 0.99992105]\n",
      " [0.85513734 0.86123034 0.83600732 0.         0.88504842 0.77864857\n",
      "  0.33280983 0.84925898 0.80143737 0.86138193 0.         0.94648294\n",
      "  0.77926373 1.        ]\n",
      " [0.88321462 0.83058153 0.71144744 0.         0.88996326 0.60485221\n",
      "  0.51047515 0.38296548 0.77535988 0.92827491 0.         0.84977536\n",
      "  0.6631583  0.99483328]\n",
      " [0.         0.         0.         0.62112186 0.         0.77864857\n",
      "  0.33280983 0.49259966 0.61876066 0.86138193 0.99365247 0.91282057\n",
      "  0.97359327 1.        ]\n",
      " [0.         0.         0.91411606 0.         0.86005997 0.77864857\n",
      "  0.33280983 0.73697195 0.69326659 0.86138193 0.91820745 0.88296437\n",
      "  0.91988472 1.        ]\n",
      " [0.88064639 0.         0.8151618  0.68770162 0.90313864 0.70865348\n",
      "  0.62058603 0.71379088 0.77019829 0.84862065 0.         0.78703276\n",
      "  0.75983309 0.99721438]\n",
      " [0.99159913 0.97688724 1.         0.82183925 0.99743788 0.81699102\n",
      "  0.32399811 1.         1.         0.94000092 1.         0.93284184\n",
      "  1.         0.9940612 ]\n",
      " [0.83703838 0.72285709 0.78046998 0.         0.89967908 0.77864857\n",
      "  0.46255533 0.75572844 0.76162676 0.81733341 0.74113896 0.95169265\n",
      "  0.76598018 1.        ]\n",
      " [0.84673647 0.81608953 0.85035701 0.         0.90827889 0.68341379\n",
      "  0.27557277 0.73801257 0.7736175  0.93277343 0.77325792 0.95235827\n",
      "  0.81695154 1.        ]\n",
      " [0.84673647 0.         0.76059111 0.82563029 0.89260916 0.8791454\n",
      "  0.3071939  0.46897665 0.75369846 0.86138193 0.82453002 0.84379768\n",
      "  0.81691718 0.99807886]\n",
      " [0.88568212 0.92969321 0.87233971 0.         0.93356167 0.77864857\n",
      "  0.33280983 0.77589969 0.79655586 0.86138193 0.         0.88587669\n",
      "  0.81313008 0.96659571]\n",
      " [0.85107702 0.81711775 0.78733797 0.         0.89912969 0.49432148\n",
      "  0.30917181 0.84292843 0.78997824 0.76376679 0.74841684 0.\n",
      "  0.77274349 1.        ]\n",
      " [0.95908593 0.81711775 0.71144744 1.         0.87750861 0.20571555\n",
      "  0.21441663 0.31101001 0.82988768 0.87491468 0.8277612  0.77288164\n",
      "  0.8110509  0.85974235]\n",
      " [0.85895142 0.88208186 0.73601001 0.         0.89242011 0.5608512\n",
      "  0.12446207 0.34703464 0.78653638 0.93566463 0.78077392 0.91904936\n",
      "  0.77747716 1.        ]\n",
      " [0.82679778 0.         0.74928847 0.75320057 0.87388043 0.49432148\n",
      "  0.30917181 0.69617757 0.74290489 0.76376679 0.65291635 0.87693678\n",
      "  0.71552896 0.99998027]\n",
      " [0.         0.         0.         0.         0.         0.49432148\n",
      "  0.30917181 0.         0.         0.76376679 0.68252186 0.\n",
      "  0.66874355 1.        ]\n",
      " [0.7984661  0.81045905 0.74178226 0.         0.87117033 0.49432148\n",
      "  0.30917181 0.40669249 0.73702393 0.76376679 0.         0.81153438\n",
      "  0.69143415 1.        ]\n",
      " [0.86917598 0.91518628 0.77511974 0.         0.8993573  0.66056306\n",
      "  0.2872967  0.49733432 0.80167413 0.95241845 0.         0.\n",
      "  0.72250887 1.        ]\n",
      " [0.         0.78985198 0.77591962 0.65342936 0.88433651 1.\n",
      "  1.         0.80253325 0.74355485 0.51456787 0.8822564  0.87030523\n",
      "  0.86889873 1.        ]\n",
      " [0.         0.76481778 0.8801404  0.         0.82328915 0.49432148\n",
      "  0.30917181 0.3200857  0.67341748 0.76376679 0.89193366 0.79768556\n",
      "  0.89242259 1.        ]\n",
      " [0.82556797 0.81711775 0.73601001 0.         0.89226705 1.\n",
      "  1.         0.43968968 0.75146093 0.36751843 0.78513425 0.51839085\n",
      "  0.78092848 1.        ]\n",
      " [0.         0.         0.83278891 0.         0.         0.42114777\n",
      "  0.46521714 0.         0.         0.79387616 0.78016741 0.\n",
      "  0.80979059 1.        ]\n",
      " [0.         0.         0.77930784 0.         0.         1.\n",
      "  0.17383715 0.         0.         0.48591888 0.771526   0.\n",
      "  0.78223135 1.        ]\n",
      " [0.         0.         0.75624527 0.         0.         0.49432148\n",
      "  0.30917181 0.         0.         0.76376679 0.8285628  0.\n",
      "  0.81769087 1.        ]\n",
      " [0.94035594 0.         0.79067825 0.         0.89875015 0.50647376\n",
      "  0.33328238 0.70884309 0.81600951 0.99072065 0.65137622 0.70187509\n",
      "  0.74606339 1.        ]\n",
      " [0.         0.         0.         0.         0.         1.\n",
      "  1.         0.         0.         0.27795573 0.         0.\n",
      "  0.         0.99966779]\n",
      " [0.70187381 0.         0.         0.         0.8839831  0.65235569\n",
      "  0.45356066 0.41177441 0.68682952 0.5695919  0.         0.83029347\n",
      "  0.         1.        ]\n",
      " [0.81152933 0.82096292 0.71144744 0.         0.89971199 0.\n",
      "  0.10033249 0.52302803 0.75308971 0.7683186  0.78682295 0.91844759\n",
      "  0.77874573 1.        ]\n",
      " [0.         0.         0.         0.         0.         0.49432148\n",
      "  0.30917181 0.         0.         0.76376679 0.66274661 0.\n",
      "  0.64936751 1.        ]\n",
      " [0.78195997 0.78312394 0.8116807  0.         0.87233528 1.\n",
      "  0.13082203 0.80263286 0.72257608 0.6569795  0.         0.8904601\n",
      "  0.75658827 0.99009716]\n",
      " [0.85107702 0.90047205 0.73601001 0.         0.88055095 0.68714408\n",
      "  0.59160598 0.45547931 0.78860549 0.77159798 0.8176757  0.82314179\n",
      "  0.80808047 1.        ]\n",
      " [1.         0.93998641 0.83741256 0.         0.91477635 0.58500383\n",
      "  0.50062275 0.45484437 0.87560077 1.         0.87832679 0.87605332\n",
      "  0.8728516  1.        ]\n",
      " [0.83703838 0.82329751 0.71860502 0.         0.87897535 0.3415238\n",
      "  0.65208977 0.62825702 0.75884655 0.76169952 0.56263966 0.86195322\n",
      "  0.67635648 1.        ]\n",
      " [0.         0.         0.         0.         0.         0.49432148\n",
      "  0.30917181 0.         0.66862817 0.76376679 0.         1.\n",
      "  0.         0.99930203]\n",
      " [0.83703838 0.85606293 0.76695492 0.         0.89286784 0.66056306\n",
      "  0.59375198 0.381287   0.76721339 0.91134836 0.82144559 0.66072666\n",
      "  0.8153114  1.        ]\n",
      " [0.         0.         0.77851077 0.         0.82471178 0.6600519\n",
      "  0.59929084 0.         0.62972769 0.84101494 0.91237657 0.7775425\n",
      "  0.89675489 1.        ]\n",
      " [0.         0.         0.         0.         0.         0.49432148\n",
      "  0.30917181 0.         0.55472881 0.76376679 0.         0.82965217\n",
      "  0.         0.99805449]\n",
      " [0.         0.         0.77274407 0.         0.         0.24863249\n",
      "  0.17562691 0.         0.         0.76579925 0.         0.\n",
      "  0.72029445 1.        ]\n",
      " [0.         0.74082233 0.         0.90362991 0.81171987 0.49432148\n",
      "  0.30917181 0.41929656 0.74041492 0.76376679 0.82326163 0.\n",
      "  0.80664217 1.        ]\n",
      " [0.         0.         0.         0.         0.         0.49432148\n",
      "  0.30917181 0.         0.61657523 0.76376679 0.74520854 0.\n",
      "  0.73016476 0.9995249 ]\n",
      " [0.         1.         0.         0.76366264 0.91690386 1.\n",
      "  0.         0.9194142  0.8639397  0.74400233 0.83812541 0.73040916\n",
      "  0.82120588 1.        ]\n",
      " [0.         0.         0.         0.81443441 0.         1.\n",
      "  1.         0.         0.65618976 0.         0.73459556 0.\n",
      "  0.71976602 1.        ]\n",
      " [0.         0.82889079 0.         0.76979407 0.63192968 0.49432148\n",
      "  0.30917181 0.83146841 0.75599368 0.76376679 0.         0.\n",
      "  0.         1.        ]\n",
      " [0.80312846 0.         0.8721361  0.         0.865532   0.49432148\n",
      "  0.30917181 0.58623439 0.66445978 0.76376679 0.88766223 0.9134149\n",
      "  0.88734141 0.99194173]\n",
      " [0.85107702 0.7812112  0.78402475 0.         0.89607412 0.49432148\n",
      "  0.30917181 0.73809398 0.76159685 0.76376679 0.         0.74145442\n",
      "  0.73080946 0.99856438]\n",
      " [0.93829303 0.88023034 0.89921079 0.         0.94410433 0.29075899\n",
      "  0.33751807 0.78094539 0.83217237 0.99871286 0.86469567 0.88860814\n",
      "  0.88202983 1.        ]\n",
      " [0.76792132 0.94603403 0.7825393  0.         0.87013177 0.49432148\n",
      "  0.30917181 0.67431867 0.80224254 0.76376679 0.7668873  0.80852704\n",
      "  0.78061794 1.        ]\n",
      " [0.87517223 0.92930027 0.77511974 0.91761166 0.8933128  1.\n",
      "  0.53742541 0.4242626  0.81163764 0.5695919  0.79934586 0.\n",
      "  0.79979025 0.98476204]\n",
      " [0.85895142 0.83058153 0.75529573 0.         0.88745471 0.8897896\n",
      "  0.42081692 0.68193385 0.77289757 0.62415312 0.77012967 0.87418\n",
      "  0.77392408 1.        ]]\n"
     ]
    },
    {
     "name": "stderr",
     "output_type": "stream",
     "text": [
      "C:\\Users\\AlbertHsu\\AppData\\Local\\Continuum\\anaconda3\\lib\\site-packages\\ipykernel_launcher.py:22: SettingWithCopyWarning: \n",
      "A value is trying to be set on a copy of a slice from a DataFrame.\n",
      "Try using .loc[row_indexer,col_indexer] = value instead\n",
      "\n",
      "See the caveats in the documentation: http://pandas.pydata.org/pandas-docs/stable/user_guide/indexing.html#returning-a-view-versus-a-copy\n",
      "C:\\Users\\AlbertHsu\\AppData\\Local\\Continuum\\anaconda3\\lib\\site-packages\\ipykernel_launcher.py:23: SettingWithCopyWarning: \n",
      "A value is trying to be set on a copy of a slice from a DataFrame.\n",
      "Try using .loc[row_indexer,col_indexer] = value instead\n",
      "\n",
      "See the caveats in the documentation: http://pandas.pydata.org/pandas-docs/stable/user_guide/indexing.html#returning-a-view-versus-a-copy\n"
     ]
    }
   ],
   "source": [
    "from sklearn.preprocessing import MinMaxScaler, StandardScaler\n",
    "from sklearn.model_selection import cross_val_score\n",
    "# 使用三種模型 : 邏輯斯迴歸 / 梯度提升機 / 隨機森林, 參數使用 Random Search 尋找\n",
    "from sklearn.linear_model import LogisticRegression\n",
    "from sklearn.ensemble import GradientBoostingClassifier, RandomForestClassifier\n",
    "import numpy as np\n",
    "\n",
    "lr = LogisticRegression(tol=0.001, penalty='l2', fit_intercept=True, C=1.0)\n",
    "#gdbt = GradientBoostingClassifier(tol=100, subsample=0.75, n_estimators=250, max_features=10,\n",
    "#                                  max_depth=6, learning_rate=0.03)\n",
    "gdbt = GradientBoostingClassifier()\n",
    "#rf = RandomForestClassifier(n_estimators=100, min_samples_split=2, min_samples_leaf=1, \n",
    "#                            max_features='sqrt', max_depth=6, bootstrap=True)\n",
    "rf = RandomForestClassifier()\n",
    "\n",
    "#分出target & train data\n",
    "train_Y = df_train['poi']\n",
    "train_X = df_train[seleFeatures]\n",
    "\n",
    "#take log to get rid off outlier(and abs)\n",
    "for feature in train_X.columns:\n",
    "    train_X[feature] = train_X[feature] - train_X[feature].min()\n",
    "    train_X[feature] = train_X[feature].map(lambda i: np.log(i) if i > 0 else 0)\n",
    "    \n",
    "\n",
    "# 將資料最大最小化 or standard\n",
    "#train_X = StandardScaler().fit_transform(train_X)\n",
    "train_X = MinMaxScaler().fit_transform(train_X)\n",
    "print(train_X)"
   ]
  },
  {
   "cell_type": "code",
   "execution_count": 9,
   "metadata": {},
   "outputs": [
    {
     "name": "stdout",
     "output_type": "stream",
     "text": [
      "Feature names: {'bonus', 'long_term_incentive', 'restricted_stock', 'deferral_payments', 'salary', 'ratio_messages_to_poi', 'ratio_messages_from_poi', 'other', 'total_payments', 'shared_receipt_with_poi', 'exercised_stock_options', 'expenses', 'total_stock_value', 'deferred_income'}\n",
      "Feature importance gdbt:  [2.42094560e-04 5.13899006e-03 5.29082939e-03 2.76575088e-04\n",
      " 4.83584749e-03 3.27692895e-01 4.19209289e-04 5.48477884e-02\n",
      " 1.00502819e-03 4.07146026e-01 1.77077267e-02 9.49664399e-02\n",
      " 3.49166640e-02 4.55138869e-02]\n",
      "Feature importance rf:  [0.01700048 0.0205316  0.05281096 0.02376758 0.1000065  0.11585111\n",
      " 0.05508943 0.03106869 0.04655117 0.14197256 0.05555541 0.15041219\n",
      " 0.11828587 0.07109645]\n"
     ]
    },
    {
     "name": "stderr",
     "output_type": "stream",
     "text": [
      "C:\\Users\\AlbertHsu\\AppData\\Local\\Continuum\\anaconda3\\lib\\site-packages\\sklearn\\linear_model\\logistic.py:432: FutureWarning: Default solver will be changed to 'lbfgs' in 0.22. Specify a solver to silence this warning.\n",
      "  FutureWarning)\n",
      "C:\\Users\\AlbertHsu\\AppData\\Local\\Continuum\\anaconda3\\lib\\site-packages\\sklearn\\ensemble\\forest.py:245: FutureWarning: The default value of n_estimators will change from 10 in version 0.20 to 100 in 0.22.\n",
      "  \"10 in version 0.20 to 100 in 0.22.\", FutureWarning)\n"
     ]
    }
   ],
   "source": [
    "#Trainning\n",
    "lr = LogisticRegression(tol=0.001, penalty='l2', fit_intercept=True, C=1.0)\n",
    "#gdbt = GradientBoostingClassifier(tol=100, subsample=0.75, n_estimators=250, max_features=12,\n",
    "#                                  max_depth=6, learning_rate=0.03)\n",
    "gdbt = GradientBoostingClassifier()\n",
    "#rf = RandomForestClassifier(n_estimators=100, min_samples_split=2, min_samples_leaf=1, \n",
    "#                            max_features='sqrt', max_depth=6, bootstrap=True)\n",
    "rf = RandomForestClassifier()\n",
    "\n",
    "lr.fit(train_X, train_Y)\n",
    "gdbt.fit(train_X, train_Y)\n",
    "rf.fit(train_X, train_Y)\n",
    "\n",
    "print(\"Feature names:\", seleFeatures)\n",
    "print(\"Feature importance gdbt: \", gdbt.feature_importances_)\n",
    "print(\"Feature importance rf: \", rf.feature_importances_)"
   ]
  },
  {
   "cell_type": "code",
   "execution_count": 10,
   "metadata": {},
   "outputs": [],
   "source": [
    "from mlxtend.classifier import StackingClassifier\n",
    "\n",
    "#meta_estimator = GradientBoostingClassifier(tol=100, subsample=0.70, n_estimators=50, \n",
    "#                                           max_features='sqrt', max_depth=4, learning_rate=0.3)\n",
    "meta_estimator = GradientBoostingClassifier()\n",
    "stacking = StackingClassifier(classifiers=[lr, gdbt, rf], meta_classifier=meta_estimator, use_probas=True, average_probas=False)"
   ]
  },
  {
   "cell_type": "code",
   "execution_count": 11,
   "metadata": {},
   "outputs": [
    {
     "name": "stderr",
     "output_type": "stream",
     "text": [
      "C:\\Users\\AlbertHsu\\AppData\\Local\\Continuum\\anaconda3\\lib\\site-packages\\sklearn\\linear_model\\logistic.py:432: FutureWarning: Default solver will be changed to 'lbfgs' in 0.22. Specify a solver to silence this warning.\n",
      "  FutureWarning)\n",
      "C:\\Users\\AlbertHsu\\AppData\\Local\\Continuum\\anaconda3\\lib\\site-packages\\sklearn\\linear_model\\logistic.py:432: FutureWarning: Default solver will be changed to 'lbfgs' in 0.22. Specify a solver to silence this warning.\n",
      "  FutureWarning)\n",
      "C:\\Users\\AlbertHsu\\AppData\\Local\\Continuum\\anaconda3\\lib\\site-packages\\sklearn\\linear_model\\logistic.py:432: FutureWarning: Default solver will be changed to 'lbfgs' in 0.22. Specify a solver to silence this warning.\n",
      "  FutureWarning)\n"
     ]
    },
    {
     "data": {
      "text/plain": [
       "0.8035130718954249"
      ]
     },
     "execution_count": 11,
     "metadata": {},
     "output_type": "execute_result"
    }
   ],
   "source": [
    "#evaluation 1\n",
    "cross_val_score(stacking, train_X, train_Y, cv=3).mean()"
   ]
  },
  {
   "cell_type": "code",
   "execution_count": 12,
   "metadata": {},
   "outputs": [
    {
     "name": "stderr",
     "output_type": "stream",
     "text": [
      "C:\\Users\\AlbertHsu\\AppData\\Local\\Continuum\\anaconda3\\lib\\site-packages\\sklearn\\model_selection\\_split.py:1978: FutureWarning: The default value of cv will change from 3 to 5 in version 0.22. Specify it explicitly to silence this warning.\n",
      "  warnings.warn(CV_WARNING, FutureWarning)\n",
      "[Parallel(n_jobs=-1)]: Using backend LokyBackend with 4 concurrent workers.\n"
     ]
    },
    {
     "name": "stdout",
     "output_type": "stream",
     "text": [
      "Fitting 3 folds for each of 9 candidates, totalling 27 fits\n"
     ]
    },
    {
     "name": "stderr",
     "output_type": "stream",
     "text": [
      "[Parallel(n_jobs=-1)]: Done  27 out of  27 | elapsed:    4.3s finished\n",
      "C:\\Users\\AlbertHsu\\AppData\\Local\\Continuum\\anaconda3\\lib\\site-packages\\sklearn\\model_selection\\_search.py:814: DeprecationWarning: The default of the `iid` parameter will change from True to False in version 0.22 and will be removed in 0.24. This will change numeric results when test-set sizes are unequal.\n",
      "  DeprecationWarning)\n"
     ]
    }
   ],
   "source": [
    "#try grid search\n",
    "from sklearn.model_selection import KFold, GridSearchCV\n",
    "\n",
    "n_estimators = [50, 100, 150]\n",
    "max_depth = [1, 3, 5]\n",
    "param_grid = dict(n_estimators=n_estimators, max_depth=max_depth)\n",
    "\n",
    "## 建立搜尋物件，放入模型及參數組合字典 (n_jobs=-1 會使用全部 cpu 平行運算)\n",
    "grid_search = GridSearchCV(gdbt, param_grid, scoring=\"accuracy\", n_jobs=-1, verbose=1)\n",
    "\n",
    "# 開始搜尋最佳參數\n",
    "grid_result = grid_search.fit(train_X, train_Y)\n"
   ]
  },
  {
   "cell_type": "code",
   "execution_count": 13,
   "metadata": {},
   "outputs": [
    {
     "data": {
      "text/plain": [
       "GradientBoostingClassifier(criterion='friedman_mse', init=None,\n",
       "                           learning_rate=0.1, loss='deviance', max_depth=1,\n",
       "                           max_features=None, max_leaf_nodes=None,\n",
       "                           min_impurity_decrease=0.0, min_impurity_split=None,\n",
       "                           min_samples_leaf=1, min_samples_split=2,\n",
       "                           min_weight_fraction_leaf=0.0, n_estimators=50,\n",
       "                           n_iter_no_change=None, presort='auto',\n",
       "                           random_state=None, subsample=1.0, tol=0.0001,\n",
       "                           validation_fraction=0.1, verbose=0,\n",
       "                           warm_start=False)"
      ]
     },
     "execution_count": 13,
     "metadata": {},
     "output_type": "execute_result"
    }
   ],
   "source": [
    "# 使用最佳參數重新建立模型\n",
    "gdbt_bestparam = GradientBoostingClassifier(max_depth=grid_result.best_params_['max_depth'],\n",
    "                                           n_estimators=grid_result.best_params_['n_estimators'])\n",
    "\n",
    "# 訓練模型\n",
    "gdbt_bestparam.fit(train_X, train_Y)"
   ]
  },
  {
   "cell_type": "code",
   "execution_count": 14,
   "metadata": {},
   "outputs": [
    {
     "name": "stderr",
     "output_type": "stream",
     "text": [
      "C:\\Users\\AlbertHsu\\AppData\\Local\\Continuum\\anaconda3\\lib\\site-packages\\ipykernel_launcher.py:16: SettingWithCopyWarning: \n",
      "A value is trying to be set on a copy of a slice from a DataFrame.\n",
      "Try using .loc[row_indexer,col_indexer] = value instead\n",
      "\n",
      "See the caveats in the documentation: http://pandas.pydata.org/pandas-docs/stable/user_guide/indexing.html#returning-a-view-versus-a-copy\n",
      "  app.launch_new_instance()\n",
      "C:\\Users\\AlbertHsu\\AppData\\Local\\Continuum\\anaconda3\\lib\\site-packages\\ipykernel_launcher.py:17: SettingWithCopyWarning: \n",
      "A value is trying to be set on a copy of a slice from a DataFrame.\n",
      "Try using .loc[row_indexer,col_indexer] = value instead\n",
      "\n",
      "See the caveats in the documentation: http://pandas.pydata.org/pandas-docs/stable/user_guide/indexing.html#returning-a-view-versus-a-copy\n"
     ]
    }
   ],
   "source": [
    "# pre process test_X data as train\n",
    "for feature in df_test[F_features]:\n",
    "    df_test[feature] = df_test[feature].fillna(0)\n",
    "\n",
    "\n",
    "M_features = {'to_messages','from_poi_to_this_person', 'from_messages', 'from_this_person_to_poi', 'shared_receipt_with_poi'}\n",
    "for feature in df_test[M_features]:\n",
    "    df_test[feature] = df_test[feature].fillna(df_train[feature].median())\n",
    "    \n",
    "df_test['ratio_messages_to_poi'] = df_test['from_this_person_to_poi']/df_test['from_messages']  #from_this_person_to_poi/from_messages\n",
    "df_test['ratio_messages_from_poi'] = df_test['from_poi_to_this_person']/df_test['to_messages']\n",
    "\n",
    "test_X = df_test[seleFeatures]\n",
    "#take log to get rid off outlier(and abs)\n",
    "for feature in test_X.columns:\n",
    "    test_X[feature] = test_X[feature] - test_X[feature].min()\n",
    "    test_X[feature] = test_X[feature].map(lambda i: np.log(i) if i > 0 else 0)\n",
    "    \n",
    "# 將資料最大最小化 or standard\n",
    "#test_X = StandardScaler().fit_transform(test_X)\n",
    "test_X = MinMaxScaler().fit_transform(test_X)"
   ]
  },
  {
   "cell_type": "code",
   "execution_count": 15,
   "metadata": {},
   "outputs": [
    {
     "name": "stderr",
     "output_type": "stream",
     "text": [
      "C:\\Users\\AlbertHsu\\AppData\\Local\\Continuum\\anaconda3\\lib\\site-packages\\sklearn\\linear_model\\logistic.py:432: FutureWarning: Default solver will be changed to 'lbfgs' in 0.22. Specify a solver to silence this warning.\n",
      "  FutureWarning)\n"
     ]
    }
   ],
   "source": [
    "#train, predict and save to csv file\n",
    "stacking.fit(train_X, train_Y)\n",
    "stacking_pred = stacking.predict_proba(test_X)\n",
    "gdbtCV_pred = gdbt_bestparam.predict_proba(test_X)\n",
    "\n",
    "sub = pd.DataFrame({'name': df_test['name'], 'poi': stacking_pred[:,1]})\n",
    "sub = sub.drop(['BHATNAGAR SANJAY'], axis = 0)\n",
    "sub = sub.reset_index(drop=True)"
   ]
  },
  {
   "cell_type": "code",
   "execution_count": 16,
   "metadata": {},
   "outputs": [],
   "source": [
    "line = pd.DataFrame({\"name\": 'TOTAL', \"poi\": 0.000000}, index=[20])\n",
    "sub2 = pd.concat([sub.iloc[:20], line, sub.iloc[20:]]).reset_index(drop=True)\n",
    "#sub = pd.DataFrame(df_test['name'], stacking_pred[:,1])\n",
    "sub2.to_csv('eeron_stacking.csv', index=False)"
   ]
  },
  {
   "cell_type": "code",
   "execution_count": 17,
   "metadata": {},
   "outputs": [
    {
     "name": "stdout",
     "output_type": "stream",
     "text": [
      "[9.99468375e-01 9.99468375e-01 9.99468375e-01 9.69906832e-01\n",
      " 9.99468375e-01 1.82420726e-04 9.99468375e-01 1.82420726e-04\n",
      " 3.06287081e-01 1.82420726e-04 3.06287081e-01 7.51229539e-03\n",
      " 1.82420726e-04 1.82420726e-04 3.06287081e-01 1.82420726e-04\n",
      " 7.51229539e-03 7.51229539e-03 1.82420726e-04 1.82420726e-04\n",
      " 9.99468375e-01 7.51229539e-03 1.82420726e-04 1.82420726e-04\n",
      " 3.06287081e-01 1.82420726e-04 7.51229539e-03 4.37223756e-01\n",
      " 3.06287081e-01 1.82420726e-04 1.82420726e-04 9.99468375e-01\n",
      " 3.06287081e-01]\n"
     ]
    }
   ],
   "source": [
    "print(stacking_pred[:,1])"
   ]
  },
  {
   "cell_type": "code",
   "execution_count": 18,
   "metadata": {},
   "outputs": [
    {
     "name": "stdout",
     "output_type": "stream",
     "text": [
      "F1-Score:  0.3529411764705882\n",
      "Precision:  0.42857142857142855\n",
      "Recall:  0.3\n"
     ]
    },
    {
     "name": "stderr",
     "output_type": "stream",
     "text": [
      "C:\\Users\\AlbertHsu\\AppData\\Local\\Continuum\\anaconda3\\lib\\site-packages\\sklearn\\linear_model\\logistic.py:432: FutureWarning: Default solver will be changed to 'lbfgs' in 0.22. Specify a solver to silence this warning.\n",
      "  FutureWarning)\n"
     ]
    }
   ],
   "source": [
    "#evaluation 2\n",
    "from sklearn.model_selection import train_test_split\n",
    "from sklearn import metrics\n",
    "\n",
    "#recover all sample\n",
    "train_Y = df_train['poi']\n",
    "train_X = df_train[seleFeatures]\n",
    "\n",
    "vald_X_train, vald_X_test, vald_y_train, vald_y_test = train_test_split(train_X, train_Y, test_size=40, random_state=2)\n",
    "\n",
    "\n",
    "stacking.fit(vald_X_train, vald_y_train)\n",
    "vald_stacking_pred = stacking.predict_proba(vald_X_test)\n",
    "vald_stacking_pred = vald_stacking_pred[:,1]\n",
    "\n",
    "\n",
    "threshold = 0.5 \n",
    "vald_pred_binarized = np.where(vald_stacking_pred>threshold, 1, 0) # 使用 np.where 函數, 將 vald_stacking_pred > 0.5 的值變為 1，小於 0.5 的為 0\n",
    "f1 = metrics.f1_score(vald_y_test, vald_pred_binarized) # 使用 F1-Score 評估\n",
    "precision = metrics.precision_score(vald_y_test, vald_pred_binarized) # 使用 Precision 評估\n",
    "recall  = metrics.recall_score(vald_y_test, vald_pred_binarized) # 使用 recall 評估\n",
    "\n",
    "#print(\"accuracy score:\", metrics.accuracy_score(vald_y_test, vald_stacking_pred))\n",
    "print(\"F1-Score: \", f1) \n",
    "print(\"Precision: \", precision)\n",
    "print(\"Recall: \", recall)"
   ]
  },
  {
   "cell_type": "code",
   "execution_count": 19,
   "metadata": {},
   "outputs": [
    {
     "name": "stdout",
     "output_type": "stream",
     "text": [
      "F1-Score:  0.4\n",
      "Precision:  0.3333333333333333\n",
      "Recall:  0.5\n"
     ]
    }
   ],
   "source": [
    "# test gdbt_bestparm\n",
    "gdbt_bestparam.fit(vald_X_train, vald_y_train) #mark it, if I want save new ans.cvs\n",
    "vald_pred_gdbtcv = gdbt_bestparam.predict(vald_X_test)\n",
    "\n",
    "threshold = 0.5 \n",
    "vald_pred_binarized = np.where(vald_pred_gdbtcv>threshold, 1, 0) # 使用 np.where 函數, 將 vald_stacking_pred > 0.5 的值變為 1，小於 0.5 的為 0\n",
    "f1 = metrics.f1_score(vald_y_test, vald_pred_binarized) # 使用 F1-Score 評估\n",
    "precision = metrics.precision_score(vald_y_test, vald_pred_binarized) # 使用 Precision 評估\n",
    "recall  = metrics.recall_score(vald_y_test, vald_pred_binarized) # 使用 recall 評估\n",
    "\n",
    "#print(\"accuracy score:\", metrics.accuracy_score(vald_y_test, vald_pred_gdbtcv)\n",
    "print(\"F1-Score: \", f1) \n",
    "print(\"Precision: \", precision)\n",
    "print(\"Recall: \", recall)"
   ]
  },
  {
   "cell_type": "code",
   "execution_count": 20,
   "metadata": {},
   "outputs": [
    {
     "name": "stdout",
     "output_type": "stream",
     "text": [
      "                    name       poi\n",
      "0       BELDEN TIMOTHY N  0.999468\n",
      "1     BOWEN JR RAYMOND M  0.999468\n",
      "2         HANNON KEVIN P  0.999468\n",
      "3       DELAINEY DAVID W  0.969907\n",
      "4       CAUSEY RICHARD A  0.999468\n",
      "5       HICKERSON GARY J  0.000182\n",
      "6         FREVERT MARK A  0.999468\n",
      "7            CHAN RONNIE  0.000182\n",
      "8   DONAHUE JR JEFFREY M  0.306287\n",
      "9      REYNOLDS LAWRENCE  0.000182\n",
      "10      HORTON STANLEY C  0.306287\n",
      "11         LEWIS RICHARD  0.007512\n",
      "12    SHERRICK JEFFREY B  0.000182\n",
      "13        MEYER JEROME J  0.000182\n",
      "14   DERRICK JR. JAMES V  0.306287\n",
      "15              PIRO JIM  0.000182\n",
      "16   DETMERING TIMOTHY J  0.007512\n",
      "17     KISHKILL JOSEPH G  0.007512\n",
      "18        BAY FRANKLIN R  0.000182\n",
      "19        PRENTICE JAMES  0.000182\n",
      "20                 TOTAL  0.000001\n",
      "21        FALLON JAMES B  0.174970\n",
      "22            METTS MARK  0.087324\n",
      "23         WODRASKA JOHN  0.461842\n",
      "24   MORDAUNT KRISTINA M  0.461842\n",
      "25      CARTER REBECCA C  0.174970\n",
      "26      BHATNAGAR SANJAY  0.087324\n",
      "27      WALTERS GARETH W  0.461842\n",
      "28       BIBI PHILIPPE A  0.174970\n",
      "29       SHERRIFF JOHN R  0.174970\n",
      "30          GIBBS DANA R  0.174970\n",
      "31        LINDHOLM TOD A  0.461842\n",
      "32       MCMAHON JEFFREY  0.174970\n"
     ]
    }
   ],
   "source": [
    "#save 2\n",
    "gdbt_bestparam.fit(train_X, train_Y)\n",
    "gdbtCV_pred = gdbt_bestparam.predict_proba(test_X)\n",
    "\n",
    "sub_g = pd.DataFrame({'name': df_test['name'], 'poi': gdbtCV_pred[:,1]})\n",
    "sub_g = sub_g.drop(['BHATNAGAR SANJAY'], axis = 0)\n",
    "sub_g = sub_g.reset_index(drop=True)\n",
    "line = pd.DataFrame({\"name\": 'TOTAL', \"poi\": 0.000001}, index=[20])\n",
    "sub2_g = pd.concat([sub.iloc[:20], line, sub_g.iloc[20:]]).reset_index(drop=True)\n",
    "#sub = pd.DataFrame(df_test['name'], stacking_pred[:,1])\n",
    "sub2_g.to_csv('eeron_stacking_g.csv', index=False)\n",
    "print(sub2_g)"
   ]
  },
  {
   "cell_type": "code",
   "execution_count": null,
   "metadata": {},
   "outputs": [],
   "source": []
  }
 ],
 "metadata": {
  "kernelspec": {
   "display_name": "Python 3",
   "language": "python",
   "name": "python3"
  },
  "language_info": {
   "codemirror_mode": {
    "name": "ipython",
    "version": 3
   },
   "file_extension": ".py",
   "mimetype": "text/x-python",
   "name": "python",
   "nbconvert_exporter": "python",
   "pygments_lexer": "ipython3",
   "version": "3.7.4"
  }
 },
 "nbformat": 4,
 "nbformat_minor": 2
}
