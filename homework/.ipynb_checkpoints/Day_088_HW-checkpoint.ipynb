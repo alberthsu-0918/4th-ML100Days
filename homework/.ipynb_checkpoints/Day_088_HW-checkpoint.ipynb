{
 "cells": [
  {
   "cell_type": "markdown",
   "metadata": {},
   "source": [
    "## Work\n",
    "1. 請嘗試寫一個 callback 用來記錄各類別在訓練過程中，對驗證集的 True Positive 與 True Negative"
   ]
  },
  {
   "cell_type": "code",
   "execution_count": 1,
   "metadata": {},
   "outputs": [
    {
     "name": "stderr",
     "output_type": "stream",
     "text": [
      "Using TensorFlow backend.\n"
     ]
    }
   ],
   "source": [
    "import os\n",
    "import keras\n",
    "\n",
    "# Disable GPU\n",
    "os.environ[\"CUDA_VISIBLE_DEVICES\"] = \"\""
   ]
  },
  {
   "cell_type": "code",
   "execution_count": 2,
   "metadata": {},
   "outputs": [],
   "source": [
    "train, test = keras.datasets.cifar10.load_data()"
   ]
  },
  {
   "cell_type": "code",
   "execution_count": 3,
   "metadata": {},
   "outputs": [],
   "source": [
    "## 資料前處理\n",
    "def preproc_x(x, flatten=True):\n",
    "    x = x / 255.\n",
    "    if flatten:\n",
    "        x = x.reshape((len(x), -1))\n",
    "    return x\n",
    "\n",
    "def preproc_y(y, num_classes=10):\n",
    "    if y.shape[-1] == 1:\n",
    "        y = keras.utils.to_categorical(y, num_classes)\n",
    "    return y    "
   ]
  },
  {
   "cell_type": "code",
   "execution_count": 4,
   "metadata": {},
   "outputs": [],
   "source": [
    "x_train, y_train = train\n",
    "x_test, y_test = test\n",
    "\n",
    "# Preproc the inputs\n",
    "x_train = preproc_x(x_train)\n",
    "x_test = preproc_x(x_test)\n",
    "\n",
    "# Preprc the outputs\n",
    "y_train = preproc_y(y_train)\n",
    "y_test = preproc_y(y_test)"
   ]
  },
  {
   "cell_type": "code",
   "execution_count": 5,
   "metadata": {},
   "outputs": [],
   "source": [
    "from keras.layers import BatchNormalization\n",
    "def build_mlp(input_shape, output_units=10, num_neurons=[256, 256, 256]):\n",
    "    input_layer = keras.layers.Input(input_shape)\n",
    "    \n",
    "    for i, n_units in enumerate(num_neurons):\n",
    "        if i == 0:\n",
    "            x = keras.layers.Dense(units=n_units, \n",
    "                                   activation=\"relu\", \n",
    "                                   name=\"hidden_layer\"+str(i+1))(input_layer)\n",
    "            x = BatchNormalization()(x)\n",
    "        else:\n",
    "            x = keras.layers.Dense(units=n_units, \n",
    "                                   activation=\"relu\", \n",
    "                                   name=\"hidden_layer\"+str(i+1))(x)\n",
    "            x = BatchNormalization()(x)\n",
    "    \n",
    "    out = keras.layers.Dense(units=output_units, activation=\"softmax\", name=\"output\")(x)\n",
    "    \n",
    "    model = keras.models.Model(inputs=[input_layer], outputs=[out])\n",
    "    return model"
   ]
  },
  {
   "cell_type": "code",
   "execution_count": 6,
   "metadata": {},
   "outputs": [],
   "source": [
    "## 超參數設定\n",
    "LEARNING_RATE = 1e-3\n",
    "EPOCHS = 25\n",
    "BATCH_SIZE = 1024\n",
    "MOMENTUM = 0.95"
   ]
  },
  {
   "cell_type": "code",
   "execution_count": 13,
   "metadata": {},
   "outputs": [],
   "source": [
    "# 載入 Callbacks\n",
    "from keras.callbacks import Callback\n",
    "\n",
    "# Record_fp_tp\n",
    "class Record_tp_tn(Callback):\n",
    "    \"\"\"Code Here\n",
    "    撰寫一個紀錄 ture positive 與 true negative 數量的 callbacks    \n",
    "    \"\"\"\n",
    "    def on_train_begin(self, epoch, logs = {}):\n",
    "        logs = logs or {}\n",
    "        record_items = [\"val_tp\", \"val_tn\"]\n",
    "        for i in record_items:\n",
    "            if i not in self.params['metrics']:\n",
    "                self.params['metrics'].append(i)\n",
    "                \n",
    "    def on_epoch_end(self, epoch, logs = {}, thres=0.5):\n",
    "        logs = logs or {}\n",
    "        #y_true = self.validation_data[1].argmax(axis = 1)\n",
    "        y_true = self.validation_data[1]\n",
    "        y_pred = self.model.predict(self.validation_data[0]) \n",
    "        y_pred = (y_pred[:, :] >= thres) * 1\n",
    "        \n",
    "        val = y_true*y_pred\n",
    "        val_tp = sum(val.argmax(axis = 1))\n",
    "        val_tn = sum(val == 0)\n",
    "        \n",
    "        logs[\"val_tp\"] = val_tp\n",
    "        logs[\"val_tn\"] = val_tn\n",
    "        \n",
    "rec_tptn = Record_tp_tn()"
   ]
  },
  {
   "cell_type": "code",
   "execution_count": 14,
   "metadata": {
    "scrolled": true
   },
   "outputs": [
    {
     "name": "stdout",
     "output_type": "stream",
     "text": [
      "Model: \"model_3\"\n",
      "_________________________________________________________________\n",
      "Layer (type)                 Output Shape              Param #   \n",
      "=================================================================\n",
      "input_3 (InputLayer)         (None, 3072)              0         \n",
      "_________________________________________________________________\n",
      "hidden_layer1 (Dense)        (None, 256)               786688    \n",
      "_________________________________________________________________\n",
      "batch_normalization_7 (Batch (None, 256)               1024      \n",
      "_________________________________________________________________\n",
      "hidden_layer2 (Dense)        (None, 256)               65792     \n",
      "_________________________________________________________________\n",
      "batch_normalization_8 (Batch (None, 256)               1024      \n",
      "_________________________________________________________________\n",
      "hidden_layer3 (Dense)        (None, 256)               65792     \n",
      "_________________________________________________________________\n",
      "batch_normalization_9 (Batch (None, 256)               1024      \n",
      "_________________________________________________________________\n",
      "output (Dense)               (None, 10)                2570      \n",
      "=================================================================\n",
      "Total params: 923,914\n",
      "Trainable params: 922,378\n",
      "Non-trainable params: 1,536\n",
      "_________________________________________________________________\n",
      "Train on 50000 samples, validate on 10000 samples\n",
      "Epoch 1/25\n",
      "50000/50000 [==============================] - 8s 162us/step - loss: 2.2307 - accuracy: 0.2624 - val_loss: 2.1418 - val_accuracy: 0.2203\n",
      "Epoch 2/25\n",
      "50000/50000 [==============================] - 7s 146us/step - loss: 1.7690 - accuracy: 0.3863 - val_loss: 2.0103 - val_accuracy: 0.2712\n",
      "Epoch 3/25\n",
      "50000/50000 [==============================] - 7s 141us/step - loss: 1.6398 - accuracy: 0.4266 - val_loss: 1.8493 - val_accuracy: 0.3526\n",
      "Epoch 4/25\n",
      "50000/50000 [==============================] - 8s 150us/step - loss: 1.5662 - accuracy: 0.4509 - val_loss: 1.7258 - val_accuracy: 0.4087\n",
      "Epoch 5/25\n",
      "50000/50000 [==============================] - 7s 149us/step - loss: 1.5121 - accuracy: 0.4699 - val_loss: 1.6470 - val_accuracy: 0.4235\n",
      "Epoch 6/25\n",
      "50000/50000 [==============================] - 7s 149us/step - loss: 1.4691 - accuracy: 0.4847 - val_loss: 1.5934 - val_accuracy: 0.4439\n",
      "Epoch 7/25\n",
      "50000/50000 [==============================] - 7s 142us/step - loss: 1.4303 - accuracy: 0.4992 - val_loss: 1.5612 - val_accuracy: 0.4486\n",
      "Epoch 8/25\n",
      "50000/50000 [==============================] - 7s 138us/step - loss: 1.3980 - accuracy: 0.5132 - val_loss: 1.5446 - val_accuracy: 0.4540\n",
      "Epoch 9/25\n",
      "50000/50000 [==============================] - 6s 130us/step - loss: 1.3684 - accuracy: 0.5227 - val_loss: 1.5236 - val_accuracy: 0.4659\n",
      "Epoch 10/25\n",
      "50000/50000 [==============================] - 7s 143us/step - loss: 1.3411 - accuracy: 0.5339 - val_loss: 1.5036 - val_accuracy: 0.4720\n",
      "Epoch 11/25\n",
      "50000/50000 [==============================] - 7s 140us/step - loss: 1.3148 - accuracy: 0.5427 - val_loss: 1.4903 - val_accuracy: 0.4697\n",
      "Epoch 12/25\n",
      "50000/50000 [==============================] - 7s 139us/step - loss: 1.2917 - accuracy: 0.5496 - val_loss: 1.4925 - val_accuracy: 0.4760\n",
      "Epoch 13/25\n",
      "50000/50000 [==============================] - 7s 138us/step - loss: 1.2669 - accuracy: 0.5602 - val_loss: 1.4843 - val_accuracy: 0.4778\n",
      "Epoch 14/25\n",
      "50000/50000 [==============================] - 7s 139us/step - loss: 1.2451 - accuracy: 0.5681 - val_loss: 1.4770 - val_accuracy: 0.4821\n",
      "Epoch 15/25\n",
      "50000/50000 [==============================] - 7s 139us/step - loss: 1.2237 - accuracy: 0.5769 - val_loss: 1.4712 - val_accuracy: 0.4891\n",
      "Epoch 16/25\n",
      "50000/50000 [==============================] - 7s 134us/step - loss: 1.2057 - accuracy: 0.5844 - val_loss: 1.4748 - val_accuracy: 0.4823\n",
      "Epoch 17/25\n",
      "50000/50000 [==============================] - 7s 138us/step - loss: 1.1855 - accuracy: 0.5918 - val_loss: 1.4605 - val_accuracy: 0.4911\n",
      "Epoch 18/25\n",
      "50000/50000 [==============================] - 7s 142us/step - loss: 1.1646 - accuracy: 0.5991 - val_loss: 1.4612 - val_accuracy: 0.4897\n",
      "Epoch 19/25\n",
      "50000/50000 [==============================] - 7s 144us/step - loss: 1.1461 - accuracy: 0.6068 - val_loss: 1.4630 - val_accuracy: 0.4916\n",
      "Epoch 20/25\n",
      "50000/50000 [==============================] - 7s 146us/step - loss: 1.1280 - accuracy: 0.6132 - val_loss: 1.4537 - val_accuracy: 0.4971\n",
      "Epoch 21/25\n",
      "50000/50000 [==============================] - 8s 150us/step - loss: 1.1102 - accuracy: 0.6202 - val_loss: 1.4703 - val_accuracy: 0.4951\n",
      "Epoch 22/25\n",
      "50000/50000 [==============================] - 7s 143us/step - loss: 1.0924 - accuracy: 0.6253 - val_loss: 1.4597 - val_accuracy: 0.4941\n",
      "Epoch 23/25\n",
      "50000/50000 [==============================] - 7s 143us/step - loss: 1.0760 - accuracy: 0.6319 - val_loss: 1.4543 - val_accuracy: 0.4998\n",
      "Epoch 24/25\n",
      "50000/50000 [==============================] - 7s 142us/step - loss: 1.0574 - accuracy: 0.6393 - val_loss: 1.4618 - val_accuracy: 0.4973\n",
      "Epoch 25/25\n",
      "50000/50000 [==============================] - 7s 149us/step - loss: 1.0431 - accuracy: 0.6453 - val_loss: 1.4652 - val_accuracy: 0.4960\n"
     ]
    }
   ],
   "source": [
    "model = build_mlp(input_shape=x_train.shape[1:])\n",
    "model.summary()\n",
    "optimizer = keras.optimizers.SGD(lr=LEARNING_RATE, nesterov=True, momentum=MOMENTUM)\n",
    "model.compile(loss=\"categorical_crossentropy\", metrics=[\"accuracy\"], optimizer=optimizer)\n",
    "\n",
    "\"\"\"Code Here\n",
    "將 callbacks 放入模型訓練流程中\n",
    "\"\"\"\n",
    "model.fit(x_train, y_train, \n",
    "          epochs=EPOCHS, \n",
    "          batch_size=BATCH_SIZE, \n",
    "          validation_data=(x_test, y_test), \n",
    "          shuffle=True,\n",
    "          callbacks=[rec_tptn])\n",
    "\n",
    "# Collect results\n",
    "train_loss = model.history.history[\"loss\"]\n",
    "valid_loss = model.history.history[\"val_loss\"]\n",
    "train_acc = model.history.history[\"accuracy\"]\n",
    "valid_acc = model.history.history[\"val_accuracy\"]\n",
    "\n",
    "\"\"\"Code Here\n",
    "將 tp/tn 從訓練完的模型中取出\n",
    "\"\"\"\n",
    "valid_tp = model.history.history['val_tp']\n",
    "valid_tn = model.history.history['val_tn']"
   ]
  },
  {
   "cell_type": "code",
   "execution_count": 15,
   "metadata": {},
   "outputs": [
    {
     "data": {
      "image/png": "[encoded data removed]",
      "text/plain": [
       "<Figure size 432x288 with 1 Axes>"
      ]
     },
     "metadata": {
      "needs_background": "light"
     },
     "output_type": "display_data"
    },
    {
     "data": {
      "image/png": "[encoded data removed]",
      "text/plain": [
       "<Figure size 432x288 with 1 Axes>"
      ]
     },
     "metadata": {
      "needs_background": "light"
     },
     "output_type": "display_data"
    },
    {
     "data": {
      "image/png": "[encoded data removed]",
      "text/plain": [
       "<Figure size 432x288 with 1 Axes>"
      ]
     },
     "metadata": {
      "needs_background": "light"
     },
     "output_type": "display_data"
    }
   ],
   "source": [
    "import matplotlib.pyplot as plt\n",
    "%matplotlib inline\n",
    "\n",
    "plt.plot(range(len(train_loss)), train_loss, label=\"train loss\")\n",
    "plt.plot(range(len(valid_loss)), valid_loss, label=\"valid loss\")\n",
    "plt.legend()\n",
    "plt.title(\"Loss\")\n",
    "plt.show()\n",
    "\n",
    "plt.plot(range(len(train_acc)), train_acc, label=\"train accuracy\")\n",
    "plt.plot(range(len(valid_acc)), valid_acc, label=\"valid accuracy\")\n",
    "plt.legend()\n",
    "plt.title(\"Accuracy\")\n",
    "plt.show()\n",
    "\n",
    "plt.plot(range(len(valid_tp)), valid_tp, label=\"valid tp\", color=\"navy\")\n",
    "plt.plot(range(len(valid_tn)), valid_tn, label=\"valid tn\", color=\"red\")\n",
    "plt.legend()\n",
    "plt.title(\"True positives and True Negatives\")\n",
    "plt.show()\n"
   ]
  },
  {
   "cell_type": "code",
   "execution_count": null,
   "metadata": {},
   "outputs": [],
   "source": []
  }
 ],
 "metadata": {
  "kernelspec": {
   "display_name": "Python 3",
   "language": "python",
   "name": "python3"
  },
  "language_info": {
   "codemirror_mode": {
    "name": "ipython",
    "version": 3
   },
   "file_extension": ".py",
   "mimetype": "text/x-python",
   "name": "python",
   "nbconvert_exporter": "python",
   "pygments_lexer": "ipython3",
   "version": "3.7.4"
  }
 },
 "nbformat": 4,
 "nbformat_minor": 2
}
